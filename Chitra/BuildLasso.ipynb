{
 "cells": [
  {
   "cell_type": "code",
   "execution_count": 2,
   "metadata": {},
   "outputs": [],
   "source": [
    "import numpy as np\n",
    "import pandas as pd\n",
    "import matplotlib.pyplot as plt\n",
    "plt.style.use('ggplot')\n",
    "%matplotlib inline\n",
    "from sklearn.linear_model import LinearRegression, Lasso, ElasticNet\n",
    "from sklearn.model_selection import GridSearchCV\n",
    "from sklearn.metrics import mean_squared_error\n",
    "from sklearn.pipeline import Pipeline, make_pipeline\n",
    "from sklearn.preprocessing import StandardScaler\n",
    "from sklearn.preprocessing import OneHotEncoder\n",
    "from sklearn.impute import SimpleImputer\n",
    "from sklearn.compose import ColumnTransformer\n",
    "from sklearn.model_selection import train_test_split"
   ]
  },
  {
   "cell_type": "code",
   "execution_count": 120,
   "metadata": {},
   "outputs": [
    {
     "data": {
      "text/plain": [
       "['GrLivArea',\n",
       " 'MSSubClass',\n",
       " 'LotFrontage',\n",
       " 'LotArea',\n",
       " 'OverallQual',\n",
       " 'OverallCond',\n",
       " 'YearBuilt',\n",
       " 'YearRemodAdd',\n",
       " 'MasVnrArea',\n",
       " 'BsmtFinSF1',\n",
       " 'BsmtFinSF2',\n",
       " 'BsmtUnfSF',\n",
       " 'TotalBsmtSF',\n",
       " '1stFlrSF',\n",
       " '2ndFlrSF',\n",
       " 'LowQualFinSF',\n",
       " 'BsmtFullBath',\n",
       " 'BsmtHalfBath',\n",
       " 'FullBath',\n",
       " 'HalfBath',\n",
       " 'BedroomAbvGr',\n",
       " 'KitchenAbvGr',\n",
       " 'TotRmsAbvGrd',\n",
       " 'Fireplaces',\n",
       " 'GarageYrBlt',\n",
       " 'GarageCars',\n",
       " 'GarageArea',\n",
       " 'WoodDeckSF',\n",
       " 'OpenPorchSF',\n",
       " 'EnclosedPorch',\n",
       " '3SsnPorch',\n",
       " 'ScreenPorch',\n",
       " 'PoolArea',\n",
       " 'MiscFeature',\n",
       " 'MiscVal',\n",
       " 'MoSold',\n",
       " 'YrSold',\n",
       " 'OldHouse',\n",
       " 'BuiltInGarage',\n",
       " 'central_air',\n",
       " 'GoodKitchen',\n",
       " 'WalkoutBasement',\n",
       " 'BasementQuality',\n",
       " 'StreetType',\n",
       " 'LandContourHLS',\n",
       " 'PubUtilities',\n",
       " 'GreatLocation1',\n",
       " 'GreatLocation2',\n",
       " 'GoodRoofMat',\n",
       " 'GoodExterior1',\n",
       " 'GoodExterior2',\n",
       " 'GoodExteriorQual',\n",
       " 'LivableBasement1',\n",
       " 'LivableBasement2',\n",
       " 'GasHeating',\n",
       " 'HeatingQuality',\n",
       " 'AirConditioning',\n",
       " 'FunctionDeduction',\n",
       " 'FireplaceQuality',\n",
       " 'GarageFinished',\n",
       " 'GoodGarage',\n",
       " 'GoodPool',\n",
       " 'NewHome']"
      ]
     },
     "execution_count": 120,
     "metadata": {},
     "output_type": "execute_result"
    }
   ],
   "source": [
    "housingDataImputed = pd.read_csv('./imputeImpl2a_cat_housingData.csv',index_col = 0, na_filter = False)\n",
    "\n",
    "numeric_features=list(housingDataImputed.select_dtypes(include=[np.number]).columns.values)\n",
    "cat_features=list(housingDataImputed.select_dtypes(exclude=[np.number]).columns.values)\n",
    "numeric_features.remove('SalePrice')\n",
    "numeric_features.remove('PID')\n",
    "X_vars = numeric_features \n",
    "Y_var = ['SalePrice']\n",
    "\n",
    "X=housingDataImputed[X_vars]\n",
    "y=np.log(housingDataImputed[Y_var])\n",
    "\n",
    "XTrain,XTest,ytrain,ytest = train_test_split(X,y)\n",
    "numeric_features"
   ]
  },
  {
   "cell_type": "code",
   "execution_count": 16,
   "metadata": {},
   "outputs": [],
   "source": [
    "def check_empty_vals():\n",
    "    cols=housingDataImputed.columns\n",
    "    for col in cols:\n",
    "        null_count=pd.isnull(housingDataImputed[col]).sum()\n",
    "        if null_count>0:\n",
    "            print(col,null_count)\n",
    "        \n",
    "        \n",
    "check_empty_vals()"
   ]
  },
  {
   "cell_type": "code",
   "execution_count": 63,
   "metadata": {},
   "outputs": [
    {
     "data": {
      "text/plain": [
       "array([ 30, 120,  70,  60,  85,  20, 180,  80, 160,  50,  90,  75,  45,\n",
       "        40, 190, 150])"
      ]
     },
     "execution_count": 63,
     "metadata": {},
     "output_type": "execute_result"
    }
   ],
   "source": [
    "housingDataImputed['MSSubClass'].unique()"
   ]
  },
  {
   "cell_type": "code",
   "execution_count": 101,
   "metadata": {},
   "outputs": [
    {
     "data": {
      "text/plain": [
       "Index(['GreatLocation2', 'OverallQual', 'AirConditioning', 'LandContourHLS',\n",
       "       'GoodExteriorQual', 'OverallCond', 'HeatingQuality', 'GarageCars',\n",
       "       'Fireplaces', 'KitchenAbvGr', 'BuiltInGarage', 'BsmtFullBath',\n",
       "       'BasementQuality', 'FireplaceQuality', 'FunctionDeduction',\n",
       "       'LivableBasement1', 'GoodPool', 'TotRmsAbvGrd', 'GarageFinished',\n",
       "       'YearBuilt', 'YrSold', 'GoodGarage', 'YearRemodAdd', 'LotFrontage',\n",
       "       'MSSubClass', 'GrLivArea', 'ScreenPorch', 'TotalBsmtSF', 'BsmtFinSF1',\n",
       "       'GarageArea', '3SsnPorch', 'BsmtFinSF2', 'WoodDeckSF', 'EnclosedPorch',\n",
       "       'OpenPorchSF', 'GarageYrBlt', '1stFlrSF', 'LotArea'],\n",
       "      dtype='object')"
      ]
     },
     "execution_count": 101,
     "metadata": {},
     "output_type": "execute_result"
    }
   ],
   "source": [
    "lasso=Lasso()\n",
    "lasso.set_params(alpha=0.0001, max_iter=10000, normalize=True)\n",
    "lasso.fit(XTrain,ytrain)\n",
    "lassoCoef = pd.Series(lasso.coef_, index=numeric_features)\n",
    "sortedCoefs = np.abs(lassoCoef).sort_values(ascending=False)\n",
    "features_to_keep_lasso=sortedCoefs[sortedCoefs!=0].index\n",
    "features_to_keep_lasso"
   ]
  },
  {
   "cell_type": "code",
   "execution_count": 117,
   "metadata": {},
   "outputs": [
    {
     "data": {
      "text/plain": [
       "Text(0.5, 1.0, 'Change of Lasso Intercept Varying Alpha')"
      ]
     },
     "execution_count": 117,
     "metadata": {},
     "output_type": "execute_result"
    },
    {
     "data": {
      "image/png": "[encoded data removed]",
      "text/plain": [
       "<Figure size 432x288 with 1 Axes>"
      ]
     },
     "metadata": {
      "needs_background": "light"
     },
     "output_type": "display_data"
    }
   ],
   "source": [
    "coefs = []\n",
    "intercepts = []\n",
    "R2  = []\n",
    "alphaRange = np.linspace(1e-3,20,20)\n",
    "for alpha in alphaRange:\n",
    "    lasso.set_params(alpha=alpha, normalize = True, max_iter=100000)  \n",
    "    lasso.fit(XTrain, ytrain)\n",
    "    intercepts.append(lasso.intercept_)\n",
    "    coefs.append(lasso.coef_)\n",
    "    R2.append(lasso.score(XTrain, ytrain))\n",
    "plt.plot(alphaRange, intercepts)\n",
    "plt.title('Change of Lasso Intercept Varying Alpha')"
   ]
  },
  {
   "cell_type": "code",
   "execution_count": 118,
   "metadata": {},
   "outputs": [
    {
     "data": {
      "text/plain": [
       "<matplotlib.legend.Legend at 0x7f8fe8ea48b0>"
      ]
     },
     "execution_count": 118,
     "metadata": {},
     "output_type": "execute_result"
    },
    {
     "data": {
      "image/png": "[encoded data removed]",
      "text/plain": [
       "<Figure size 432x288 with 1 Axes>"
      ]
     },
     "metadata": {
      "needs_background": "light"
     },
     "output_type": "display_data"
    }
   ],
   "source": [
    "train_R2 = []\n",
    "test_R2  = []\n",
    "alphaRange = np.linspace(0.001,10,20)\n",
    "for alpha in alphaRange:\n",
    "    lasso.set_params(alpha=alpha, max_iter=10000)  \n",
    "    lasso.fit(XTrain, ytrain)\n",
    "    train_R2.append(lasso.score(XTrain, ytrain))\n",
    "    test_R2.append(lasso.score(XTest, ytest))\n",
    "plt.plot(alphaRange, train_R2, label=r'train set $R^2$')\n",
    "plt.plot(alphaRange, test_R2, label=r'test set $R^2$')\n",
    "plt.legend(loc=4)"
   ]
  },
  {
   "cell_type": "code",
   "execution_count": 100,
   "metadata": {},
   "outputs": [
    {
     "name": "stdout",
     "output_type": "stream",
     "text": [
      "{'alpha': 0.0001}\n",
      "0.9113686507891585\n"
     ]
    }
   ],
   "source": [
    "alphas = np.linspace(0.0001,10,100)\n",
    "params2 = [{'alpha': alphas}]\n",
    "grid2=GridSearchCV(estimator=lasso,param_grid=params2, return_train_score=True)\n",
    "grid2.fit(XTrain,ytrain)\n",
    "print(grid2.best_params_)\n",
    "print(grid2.score(XTest,ytest))"
   ]
  },
  {
   "cell_type": "code",
   "execution_count": 112,
   "metadata": {},
   "outputs": [
    {
     "data": {
      "text/html": [
       "<div>\n",
       "<style scoped>\n",
       "    .dataframe tbody tr th:only-of-type {\n",
       "        vertical-align: middle;\n",
       "    }\n",
       "\n",
       "    .dataframe tbody tr th {\n",
       "        vertical-align: top;\n",
       "    }\n",
       "\n",
       "    .dataframe thead th {\n",
       "        text-align: right;\n",
       "    }\n",
       "</style>\n",
       "<table border=\"1\" class=\"dataframe\">\n",
       "  <thead>\n",
       "    <tr style=\"text-align: right;\">\n",
       "      <th></th>\n",
       "      <th>PID</th>\n",
       "      <th>GrLivArea</th>\n",
       "      <th>SalePrice</th>\n",
       "      <th>MSSubClass</th>\n",
       "      <th>MSZoning</th>\n",
       "      <th>LotFrontage</th>\n",
       "      <th>LotArea</th>\n",
       "      <th>Street</th>\n",
       "      <th>LotShape</th>\n",
       "      <th>LandContour</th>\n",
       "      <th>...</th>\n",
       "      <th>PoolArea</th>\n",
       "      <th>PoolQC</th>\n",
       "      <th>Fence</th>\n",
       "      <th>MiscFeature</th>\n",
       "      <th>MiscVal</th>\n",
       "      <th>MoSold</th>\n",
       "      <th>YrSold</th>\n",
       "      <th>SaleType</th>\n",
       "      <th>SaleCondition</th>\n",
       "      <th>DesirableNeighborhood</th>\n",
       "    </tr>\n",
       "  </thead>\n",
       "  <tbody>\n",
       "    <tr>\n",
       "      <th>0</th>\n",
       "      <td>909176150</td>\n",
       "      <td>856</td>\n",
       "      <td>126000</td>\n",
       "      <td>30</td>\n",
       "      <td>RL</td>\n",
       "      <td>58.77</td>\n",
       "      <td>7890</td>\n",
       "      <td>Pave</td>\n",
       "      <td>Reg</td>\n",
       "      <td>Lvl</td>\n",
       "      <td>...</td>\n",
       "      <td>0</td>\n",
       "      <td>NA</td>\n",
       "      <td>NA</td>\n",
       "      <td>0</td>\n",
       "      <td>0</td>\n",
       "      <td>3</td>\n",
       "      <td>2010</td>\n",
       "      <td>WD</td>\n",
       "      <td>Normal</td>\n",
       "      <td>0</td>\n",
       "    </tr>\n",
       "    <tr>\n",
       "      <th>1</th>\n",
       "      <td>905476230</td>\n",
       "      <td>1049</td>\n",
       "      <td>139500</td>\n",
       "      <td>120</td>\n",
       "      <td>RL</td>\n",
       "      <td>42.00</td>\n",
       "      <td>4235</td>\n",
       "      <td>Pave</td>\n",
       "      <td>Reg</td>\n",
       "      <td>Lvl</td>\n",
       "      <td>...</td>\n",
       "      <td>0</td>\n",
       "      <td>NA</td>\n",
       "      <td>NA</td>\n",
       "      <td>0</td>\n",
       "      <td>0</td>\n",
       "      <td>2</td>\n",
       "      <td>2009</td>\n",
       "      <td>WD</td>\n",
       "      <td>Normal</td>\n",
       "      <td>0</td>\n",
       "    </tr>\n",
       "    <tr>\n",
       "      <th>3</th>\n",
       "      <td>535377150</td>\n",
       "      <td>1039</td>\n",
       "      <td>114000</td>\n",
       "      <td>70</td>\n",
       "      <td>RL</td>\n",
       "      <td>80.00</td>\n",
       "      <td>8146</td>\n",
       "      <td>Pave</td>\n",
       "      <td>Reg</td>\n",
       "      <td>Lvl</td>\n",
       "      <td>...</td>\n",
       "      <td>0</td>\n",
       "      <td>NA</td>\n",
       "      <td>NA</td>\n",
       "      <td>0</td>\n",
       "      <td>0</td>\n",
       "      <td>5</td>\n",
       "      <td>2009</td>\n",
       "      <td>WD</td>\n",
       "      <td>Normal</td>\n",
       "      <td>0</td>\n",
       "    </tr>\n",
       "    <tr>\n",
       "      <th>4</th>\n",
       "      <td>534177230</td>\n",
       "      <td>1665</td>\n",
       "      <td>227000</td>\n",
       "      <td>60</td>\n",
       "      <td>RL</td>\n",
       "      <td>70.00</td>\n",
       "      <td>8400</td>\n",
       "      <td>Pave</td>\n",
       "      <td>Reg</td>\n",
       "      <td>Lvl</td>\n",
       "      <td>...</td>\n",
       "      <td>0</td>\n",
       "      <td>NA</td>\n",
       "      <td>NA</td>\n",
       "      <td>0</td>\n",
       "      <td>0</td>\n",
       "      <td>11</td>\n",
       "      <td>2009</td>\n",
       "      <td>WD</td>\n",
       "      <td>Normal</td>\n",
       "      <td>0</td>\n",
       "    </tr>\n",
       "    <tr>\n",
       "      <th>5</th>\n",
       "      <td>908128060</td>\n",
       "      <td>1922</td>\n",
       "      <td>198500</td>\n",
       "      <td>85</td>\n",
       "      <td>RL</td>\n",
       "      <td>64.00</td>\n",
       "      <td>7301</td>\n",
       "      <td>Pave</td>\n",
       "      <td>Reg</td>\n",
       "      <td>Lvl</td>\n",
       "      <td>...</td>\n",
       "      <td>0</td>\n",
       "      <td>NA</td>\n",
       "      <td>NA</td>\n",
       "      <td>0</td>\n",
       "      <td>0</td>\n",
       "      <td>7</td>\n",
       "      <td>2009</td>\n",
       "      <td>ConLD</td>\n",
       "      <td>Normal</td>\n",
       "      <td>0</td>\n",
       "    </tr>\n",
       "    <tr>\n",
       "      <th>...</th>\n",
       "      <td>...</td>\n",
       "      <td>...</td>\n",
       "      <td>...</td>\n",
       "      <td>...</td>\n",
       "      <td>...</td>\n",
       "      <td>...</td>\n",
       "      <td>...</td>\n",
       "      <td>...</td>\n",
       "      <td>...</td>\n",
       "      <td>...</td>\n",
       "      <td>...</td>\n",
       "      <td>...</td>\n",
       "      <td>...</td>\n",
       "      <td>...</td>\n",
       "      <td>...</td>\n",
       "      <td>...</td>\n",
       "      <td>...</td>\n",
       "      <td>...</td>\n",
       "      <td>...</td>\n",
       "      <td>...</td>\n",
       "      <td>...</td>\n",
       "    </tr>\n",
       "    <tr>\n",
       "      <th>2575</th>\n",
       "      <td>903205040</td>\n",
       "      <td>952</td>\n",
       "      <td>121000</td>\n",
       "      <td>30</td>\n",
       "      <td>RL</td>\n",
       "      <td>55.95</td>\n",
       "      <td>8854</td>\n",
       "      <td>Pave</td>\n",
       "      <td>Reg</td>\n",
       "      <td>Lvl</td>\n",
       "      <td>...</td>\n",
       "      <td>0</td>\n",
       "      <td>NA</td>\n",
       "      <td>NA</td>\n",
       "      <td>0</td>\n",
       "      <td>0</td>\n",
       "      <td>5</td>\n",
       "      <td>2009</td>\n",
       "      <td>WD</td>\n",
       "      <td>Normal</td>\n",
       "      <td>0</td>\n",
       "    </tr>\n",
       "    <tr>\n",
       "      <th>2576</th>\n",
       "      <td>905402060</td>\n",
       "      <td>1733</td>\n",
       "      <td>139600</td>\n",
       "      <td>20</td>\n",
       "      <td>RL</td>\n",
       "      <td>65.49</td>\n",
       "      <td>13680</td>\n",
       "      <td>Pave</td>\n",
       "      <td>IR1</td>\n",
       "      <td>Lvl</td>\n",
       "      <td>...</td>\n",
       "      <td>0</td>\n",
       "      <td>NA</td>\n",
       "      <td>NA</td>\n",
       "      <td>0</td>\n",
       "      <td>0</td>\n",
       "      <td>6</td>\n",
       "      <td>2009</td>\n",
       "      <td>WD</td>\n",
       "      <td>Normal</td>\n",
       "      <td>0</td>\n",
       "    </tr>\n",
       "    <tr>\n",
       "      <th>2577</th>\n",
       "      <td>909275030</td>\n",
       "      <td>2002</td>\n",
       "      <td>145000</td>\n",
       "      <td>90</td>\n",
       "      <td>RH</td>\n",
       "      <td>82.00</td>\n",
       "      <td>6270</td>\n",
       "      <td>Pave</td>\n",
       "      <td>Reg</td>\n",
       "      <td>HLS</td>\n",
       "      <td>...</td>\n",
       "      <td>0</td>\n",
       "      <td>NA</td>\n",
       "      <td>NA</td>\n",
       "      <td>0</td>\n",
       "      <td>0</td>\n",
       "      <td>8</td>\n",
       "      <td>2007</td>\n",
       "      <td>WD</td>\n",
       "      <td>Normal</td>\n",
       "      <td>0</td>\n",
       "    </tr>\n",
       "    <tr>\n",
       "      <th>2578</th>\n",
       "      <td>907192040</td>\n",
       "      <td>1842</td>\n",
       "      <td>217500</td>\n",
       "      <td>60</td>\n",
       "      <td>RL</td>\n",
       "      <td>69.98</td>\n",
       "      <td>8826</td>\n",
       "      <td>Pave</td>\n",
       "      <td>Reg</td>\n",
       "      <td>Lvl</td>\n",
       "      <td>...</td>\n",
       "      <td>0</td>\n",
       "      <td>NA</td>\n",
       "      <td>NA</td>\n",
       "      <td>0</td>\n",
       "      <td>0</td>\n",
       "      <td>7</td>\n",
       "      <td>2007</td>\n",
       "      <td>WD</td>\n",
       "      <td>Normal</td>\n",
       "      <td>0</td>\n",
       "    </tr>\n",
       "    <tr>\n",
       "      <th>2579</th>\n",
       "      <td>906223180</td>\n",
       "      <td>1911</td>\n",
       "      <td>215000</td>\n",
       "      <td>60</td>\n",
       "      <td>RL</td>\n",
       "      <td>80.00</td>\n",
       "      <td>9554</td>\n",
       "      <td>Pave</td>\n",
       "      <td>IR1</td>\n",
       "      <td>Lvl</td>\n",
       "      <td>...</td>\n",
       "      <td>0</td>\n",
       "      <td>NA</td>\n",
       "      <td>NA</td>\n",
       "      <td>0</td>\n",
       "      <td>0</td>\n",
       "      <td>9</td>\n",
       "      <td>2006</td>\n",
       "      <td>WD</td>\n",
       "      <td>Normal</td>\n",
       "      <td>0</td>\n",
       "    </tr>\n",
       "  </tbody>\n",
       "</table>\n",
       "<p>2447 rows × 81 columns</p>\n",
       "</div>"
      ],
      "text/plain": [
       "            PID  GrLivArea  SalePrice  MSSubClass MSZoning  LotFrontage  \\\n",
       "0     909176150        856     126000          30       RL        58.77   \n",
       "1     905476230       1049     139500         120       RL        42.00   \n",
       "3     535377150       1039     114000          70       RL        80.00   \n",
       "4     534177230       1665     227000          60       RL        70.00   \n",
       "5     908128060       1922     198500          85       RL        64.00   \n",
       "...         ...        ...        ...         ...      ...          ...   \n",
       "2575  903205040        952     121000          30       RL        55.95   \n",
       "2576  905402060       1733     139600          20       RL        65.49   \n",
       "2577  909275030       2002     145000          90       RH        82.00   \n",
       "2578  907192040       1842     217500          60       RL        69.98   \n",
       "2579  906223180       1911     215000          60       RL        80.00   \n",
       "\n",
       "      LotArea Street LotShape LandContour  ... PoolArea PoolQC Fence  \\\n",
       "0        7890   Pave      Reg         Lvl  ...        0     NA    NA   \n",
       "1        4235   Pave      Reg         Lvl  ...        0     NA    NA   \n",
       "3        8146   Pave      Reg         Lvl  ...        0     NA    NA   \n",
       "4        8400   Pave      Reg         Lvl  ...        0     NA    NA   \n",
       "5        7301   Pave      Reg         Lvl  ...        0     NA    NA   \n",
       "...       ...    ...      ...         ...  ...      ...    ...   ...   \n",
       "2575     8854   Pave      Reg         Lvl  ...        0     NA    NA   \n",
       "2576    13680   Pave      IR1         Lvl  ...        0     NA    NA   \n",
       "2577     6270   Pave      Reg         HLS  ...        0     NA    NA   \n",
       "2578     8826   Pave      Reg         Lvl  ...        0     NA    NA   \n",
       "2579     9554   Pave      IR1         Lvl  ...        0     NA    NA   \n",
       "\n",
       "     MiscFeature MiscVal MoSold YrSold SaleType  SaleCondition  \\\n",
       "0              0       0      3   2010      WD          Normal   \n",
       "1              0       0      2   2009      WD          Normal   \n",
       "3              0       0      5   2009      WD          Normal   \n",
       "4              0       0     11   2009      WD          Normal   \n",
       "5              0       0      7   2009    ConLD         Normal   \n",
       "...          ...     ...    ...    ...      ...            ...   \n",
       "2575           0       0      5   2009      WD          Normal   \n",
       "2576           0       0      6   2009      WD          Normal   \n",
       "2577           0       0      8   2007      WD          Normal   \n",
       "2578           0       0      7   2007      WD          Normal   \n",
       "2579           0       0      9   2006      WD          Normal   \n",
       "\n",
       "      DesirableNeighborhood  \n",
       "0                         0  \n",
       "1                         0  \n",
       "3                         0  \n",
       "4                         0  \n",
       "5                         0  \n",
       "...                     ...  \n",
       "2575                      0  \n",
       "2576                      0  \n",
       "2577                      0  \n",
       "2578                      0  \n",
       "2579                      0  \n",
       "\n",
       "[2447 rows x 81 columns]"
      ]
     },
     "execution_count": 112,
     "metadata": {},
     "output_type": "execute_result"
    }
   ],
   "source": [
    "housingDataImputed"
   ]
  },
  {
   "cell_type": "code",
   "execution_count": 117,
   "metadata": {},
   "outputs": [],
   "source": [
    "housingDataImputed.corr().to_csv(\"cat_cor.csv\")"
   ]
  },
  {
   "cell_type": "code",
   "execution_count": 8,
   "metadata": {},
   "outputs": [
    {
     "name": "stdout",
     "output_type": "stream",
     "text": [
      "0.8518065085420162\n",
      "0.8331457575734957\n"
     ]
    }
   ],
   "source": [
    "#\"OverallQual\",\"DesirableNeighborhood\",\"GarageArea\",\"GrLivArea\",\"TotalBsmtSF\",'BuiltInGarage',\"GoodKitchen\"\n",
    "# \"OverallQual\",\"DesirableNeighborhood\",\"GarageArea\",\"GrLivArea\",\"TotalBsmtSF\",'BuiltInGarage',\"GoodKitchen\",\"WalkoutBasement\",\"BasementQuality\",\"MasVnrArea\"\n",
    "vif_numeric_features=[\"OverallQual\",\"GarageArea\",\"GrLivArea\",\"TotalBsmtSF\",\n",
    "                      'BuiltInGarage',\"GoodKitchen\",\"WalkoutBasement\",\"BasementQuality\",\"TotRmsAbvGrd\",\"HeatingQuality\"]\n",
    "\n",
    "Y_var = ['SalePrice']\n",
    "\n",
    "X_vif=housingDataImputed[vif_numeric_features]\n",
    "y_vif=np.log(housingDataImputed[Y_var])\n",
    "\n",
    "XvTrain,XvTest,yvtrain,yvtest = train_test_split(X_vif,y_vif)\n",
    "ols=LinearRegression()\n",
    "ols.fit(XvTrain,yvtrain)\n",
    "print(ols.score(XvTrain,yvtrain))\n",
    "print(ols.score(XvTest,yvtest))"
   ]
  },
  {
   "cell_type": "code",
   "execution_count": 32,
   "metadata": {},
   "outputs": [
    {
     "name": "stdout",
     "output_type": "stream",
     "text": [
      "0.87285664530157\n",
      "0.8617206295538655\n"
     ]
    }
   ],
   "source": [
    "vif2_num_cat_features=[\"OverallQual\",\"GarageArea\",\"GrLivArea\",\"TotalBsmtSF\",\"3SsnPorch\",\"GoodGarage\",\"GoodRoofMat\",\"LandContourHLS\",\"GreatLocation1\",\"GoodExterior1\",\"ScreenPorch\",\n",
    "                       \"GoodExterior2\",\"GreatLocation2\",\"BsmtHalfBath\",\"LivableBasement2\",\"MiscVal\",\"EnclosedPorch\",\n",
    "                       \"MiscFeature\",\"GoodExteriorQual\",\"GoodPool\",\"PoolArea\",\"GarageFinished\",\"OpenPorchSF\",\n",
    "                       \"WoodDeckSF\",\"MasVnrArea\",\"FireplaceQuality\",\"LivableBasement1\",\n",
    "                       \"HalfBath\",\"LotArea\",\"Fireplaces\",\"BsmtFullBath\",\"HeatingQuality\",\"MSSubClass\"]\n",
    "X_vif2=housingDataImputed[vif2_num_cat_features]\n",
    "y_vif2=np.log(housingDataImputed[Y_var])\n",
    "\n",
    "Xv2Train,Xv2Test,yv2train,yv2test = train_test_split(X_vif2,y_vif2)\n",
    "ols.fit(Xv2Train,yv2train)\n",
    "print(ols.score(Xv2Train,yv2train))\n",
    "print(ols.score(Xv2Test,yv2test))"
   ]
  },
  {
   "cell_type": "code",
   "execution_count": 102,
   "metadata": {},
   "outputs": [
    {
     "name": "stdout",
     "output_type": "stream",
     "text": [
      "0.9160312219179803\n",
      "0.8852140989312213\n"
     ]
    }
   ],
   "source": [
    "X3=housingDataImputed[features_to_keep_lasso]\n",
    "y3=np.log(housingDataImputed[Y_var])\n",
    "\n",
    "Xv3Train,Xv3Test,yv3train,yv3test = train_test_split(X3,y3)\n",
    "ols.fit(Xv3Train,yv3train)\n",
    "print(ols.score(Xv3Train,yv3train))\n",
    "print(ols.score(Xv3Test,yv3test))"
   ]
  },
  {
   "cell_type": "code",
   "execution_count": 103,
   "metadata": {},
   "outputs": [
    {
     "data": {
      "text/plain": [
       "Index(['const', 'GreatLocation2', 'OverallQual', 'AirConditioning',\n",
       "       'LandContourHLS', 'GoodExteriorQual', 'OverallCond', 'HeatingQuality',\n",
       "       'GarageCars', 'Fireplaces', 'KitchenAbvGr', 'BsmtFullBath',\n",
       "       'BasementQuality', 'FireplaceQuality', 'FunctionDeduction',\n",
       "       'LivableBasement1', 'TotRmsAbvGrd', 'YearBuilt', 'YrSold',\n",
       "       'YearRemodAdd', 'LotFrontage', 'MSSubClass', 'GrLivArea', 'ScreenPorch',\n",
       "       'TotalBsmtSF', 'BsmtFinSF1', 'GarageArea', 'BsmtFinSF2', 'WoodDeckSF',\n",
       "       'EnclosedPorch', '1stFlrSF', 'LotArea'],\n",
       "      dtype='object')"
      ]
     },
     "execution_count": 103,
     "metadata": {},
     "output_type": "execute_result"
    }
   ],
   "source": [
    "import statsmodels.api as sm\n",
    "from statsmodels.api import OLS\n",
    "features = sm.add_constant(X3)\n",
    "ols_sm   = OLS(y3, features)\n",
    "model    = ols_sm.fit()\n",
    "model.pvalues[model.pvalues <0.05].index\n",
    "pvalue_significant_features=model.pvalues[model.pvalues <0.05].index\n",
    "pvalue_significant_features"
   ]
  },
  {
   "cell_type": "code",
   "execution_count": 116,
   "metadata": {},
   "outputs": [
    {
     "name": "stdout",
     "output_type": "stream",
     "text": [
      "0.9058247616639769\n",
      "0.9130230092186533\n"
     ]
    }
   ],
   "source": [
    "pvalue_significant_features\n",
    "X4=housingDataImputed[['GreatLocation2', 'OverallQual', 'AirConditioning',\n",
    "       'LandContourHLS', 'GoodExteriorQual', 'OverallCond', 'HeatingQuality',\n",
    "       'GarageCars', 'Fireplaces', 'KitchenAbvGr', 'BsmtFullBath',\n",
    "       'BasementQuality', 'FireplaceQuality', 'FunctionDeduction',\n",
    "       'LivableBasement1', 'TotRmsAbvGrd', 'YearBuilt', 'YrSold',\n",
    "       'YearRemodAdd', 'LotFrontage', 'MSSubClass', 'GrLivArea', 'ScreenPorch',\n",
    "       'TotalBsmtSF', 'BsmtFinSF1', 'GarageArea', 'BsmtFinSF2', 'WoodDeckSF',\n",
    "       'EnclosedPorch', '1stFlrSF', 'LotArea']]\n",
    "y4=np.log(housingDataImputed[Y_var])\n",
    "\n",
    "Xv4Train,Xv4Test,yv4train,yv4test = train_test_split(X4,y4)\n",
    "ols.fit(Xv4Train,yv4train)\n",
    "print(ols.score(Xv4Train,yv4train))\n",
    "print(ols.score(Xv4Test,yv4test))"
   ]
  }
 ],
 "metadata": {
  "kernelspec": {
   "display_name": "Python 3",
   "language": "python",
   "name": "python3"
  },
  "language_info": {
   "codemirror_mode": {
    "name": "ipython",
    "version": 3
   },
   "file_extension": ".py",
   "mimetype": "text/x-python",
   "name": "python",
   "nbconvert_exporter": "python",
   "pygments_lexer": "ipython3",
   "version": "3.8.5"
  }
 },
 "nbformat": 4,
 "nbformat_minor": 4
}
