{
 "cells": [
  {
   "cell_type": "code",
   "execution_count": 125,
   "metadata": {},
   "outputs": [],
   "source": [
    "import pandas as pd\n",
    "import numpy as np\n",
    "import seaborn as sns\n",
    "import matplotlib.pyplot as plt\n",
    "prices = pd.read_csv('../../data/Ames_Housing_Price_Data.csv',index_col = 0)"
   ]
  },
  {
   "cell_type": "code",
   "execution_count": 126,
   "metadata": {
    "scrolled": false
   },
   "outputs": [
    {
     "name": "stdout",
     "output_type": "stream",
     "text": [
      "LotFrontage 462\n",
      "Alley 2412\n",
      "MasVnrType 14\n",
      "MasVnrArea 14\n",
      "BsmtQual 69\n",
      "BsmtCond 69\n",
      "BsmtExposure 71\n",
      "BsmtFinType1 69\n",
      "BsmtFinSF1 1\n",
      "BsmtFinType2 70\n",
      "BsmtFinSF2 1\n",
      "BsmtUnfSF 1\n",
      "TotalBsmtSF 1\n",
      "Electrical 1\n",
      "BsmtFullBath 2\n",
      "BsmtHalfBath 2\n",
      "FireplaceQu 1241\n",
      "GarageType 127\n",
      "GarageYrBlt 129\n",
      "GarageFinish 129\n",
      "GarageCars 1\n",
      "GarageArea 1\n",
      "GarageQual 129\n",
      "GarageCond 129\n",
      "PoolQC 2571\n",
      "Fence 2055\n",
      "MiscFeature 2483\n"
     ]
    }
   ],
   "source": [
    "def check_empty_vals():\n",
    "    cols=prices.columns\n",
    "    for col in cols:\n",
    "        null_count=pd.isnull(prices[col]).sum()\n",
    "        if null_count>0:\n",
    "            print(col,null_count)\n",
    "        \n",
    "        \n",
    "check_empty_vals()"
   ]
  },
  {
   "cell_type": "code",
   "execution_count": 127,
   "metadata": {},
   "outputs": [],
   "source": [
    "#Imputation analysis notes\n",
    "# LotFrontage 462 - mean of neighborhood -  Linear feet of street connected to property (Doug)\n",
    "# Alley 2412 Type of alley access to property Grvl\tGrave Pave\tPaved NA \tNo alley access - REMOVE?\n",
    "# MasVnrType 14 - impute None Masonry veneer type  \n",
    "       # BrkCmn\tBrick Common BrkFace\tBrick Face CBlock\tCinder Block None\tNoneStone\tStone\n",
    "# MasVnrArea 14 - impute 0\n",
    "# BASEMENT 68 have no values; 1 has NA for BsmtFinSF1, BsmtFinSF2, BsmtUnfSF,TotalBsmtSF\n",
    "# BASEMENT 2 rows have basement data 814 and 1202\n",
    "#   BasmtExposure value is missing - impute with mode\n",
    "#   BsmtFinSF1 and BsmtFinSF2 should be imputed with mean percentage for Unf BsmtFinType2 and BsmtFinType1\n",
    "# BsmtQual 69 - Evaluates the height of the basement - impute DNE\n",
    "       #Ex\tExcellent (100+ inches)\t\n",
    "       #Gd\tGood (90-99 inches)\n",
    "       #TA\tTypical (80-89 inches)\n",
    "       #Fa\tFair (70-79 inches)\n",
    "       #Po\tPoor (<70 inches\n",
    "       #NA\tNo Basement\n",
    "# BsmtCond 69 - Evaluates the general condition of the basement - impute DNE\n",
    "       #Ex\tExcellent\n",
    "       #Gd\tGood\n",
    "       #TA\tTypical - slight dampness allowed\n",
    "       #Fa\tFair - dampness or some cracking or settling\n",
    "       #Po\tPoor - Severe cracking, settling, or wetness\n",
    "       # NA\tNo Basement\n",
    "# BsmtExposure 71 -  Refers to walkout or garden level walls - 814 and 1202 impute Mode\n",
    "       #Gd\tGood Exposure\n",
    "       #Av\tAverage Exposure (split levels or foyers typically score average or above)\t\n",
    "       #Mn\tMimimum Exposure\n",
    "       #No\tNo Exposure\n",
    "       #NA\tNo Basement\n",
    "# BsmtFinType1 69 - Rating of basement finished area - impute DNE\n",
    "       #GLQ\tGood Living Quarters\n",
    "       #ALQ\tAverage Living Quarters\n",
    "       #BLQ\tBelow Average Living Quarters\t\n",
    "       #Rec\tAverage Rec Room\n",
    "       #LwQ\tLow Quality\n",
    "       #Unf\tUnfinshed\n",
    "       #NA\tNo Basement\n",
    "# BsmtFinSF1 1 - 913 Type 1 finished square feet - impute 0\n",
    "# BsmtFinType2 70  Rating of basement finished area (if multiple types) should be DNE\n",
    "       #GLQ\tGood Living Quarters\n",
    "       #ALQ\tAverage Living Quarters\n",
    "       #BLQ\tBelow Average Living Quarters\t\n",
    "       #Rec\tAverage Rec Room\n",
    "       #LwQ\tLow Quality\n",
    "       #Unf\tUnfinshed\n",
    "       #NA\tNo Basement\n",
    "# BsmtFinSF2 1  - Rating of basement finished area (if multiple types) - impute 0\n",
    "       #GLQ\tGood Living Quarters\n",
    "       #ALQ\tAverage Living Quarters\n",
    "       #BLQ\tBelow Average Living Quarters\t\n",
    "       #Rec\tAverage Rec Room\n",
    "       #LwQ\tLow Quality\n",
    "       #Unf\tUnfinshed\n",
    "       #NA\tNo Basement\n",
    "# BsmtUnfSF 1 913 - Unfinished square feet of basement area - impute 0\n",
    "# TotalBsmtSF 1 913- Total square feet of basement area - impute 0\n",
    "# Electrical 1 - Electrical system - impute mode\n",
    "       #SBrkr\tStandard Circuit Breakers & Romex\n",
    "       #FuseA\tFuse Box over 60 AMP and all Romex wiring (Average)\t\n",
    "       #FuseF\t60 AMP Fuse Box and mostly Romex wiring (Fair)\n",
    "       #FuseP\t60 AMP Fuse Box and mostly knob & tube wiring (poor)\n",
    "       #Mix\tMixed\n",
    "# BsmtFullBath 2 Basement full bathrooms 913/2309  should be 0\n",
    "# BsmtHalfBath 2 Basement half bathrooms 913/2309 should be 0 \n",
    "# FireplaceQu 1241 Fireplace quality (may be thrown out)\n",
    "       #Ex\tExcellent - Exceptional Masonry Fireplace\n",
    "       #Gd\tGood - Masonry Fireplace in main level\n",
    "       #TA\tAverage - Prefabricated Fireplace in main living area or Masonry Fireplace in basement\n",
    "       #Fa\tFair - Prefabricated Fireplace in basement\n",
    "       #Po\tPoor - Ben Franklin Stove\n",
    "       #NA\tNo Fireplace\n",
    "# GarageType 127  Garage location\n",
    "       #2Types\tMore than one type of garage\n",
    "       #Attchd\tAttached to home\n",
    "       #Basment\tBasement Garage\n",
    "       #BuiltIn\tBuilt-In (Garage part of house - typically has room above garage)\n",
    "       #CarPort\tCar Port\n",
    "       #Detchd\tDetached from home\n",
    "       #NA\tNo Garage\n",
    "# GarageYrBlt 129 - Year garage was built\n",
    "# GarageFinish 129 Interior finish of the garage - not well correlated\n",
    "       #Fin\tFinished\n",
    "       #RFn\tRough Finished\t\n",
    "       #Unf\tUnfinished\n",
    "       #NA\tNo Garage\n",
    "# GarageCars 1 - Size of garage in car capacity correlated\n",
    "# GarageArea 1 - Size of garage in square feet correlated\n",
    "# GarageQual 129 - Garage quality\n",
    "       #Ex\tExcellent\n",
    "       #Gd\tGood\n",
    "       #TA\tTypical/Average\n",
    "       #Fa\tFair\n",
    "       #Po\tPoor\n",
    "       #NA\tNo Garage\n",
    "# GarageCond 129 - Garage condition\n",
    "       #Ex\tExcellent\n",
    "       #Gd\tGood\n",
    "       #TA\tTypical/Average\n",
    "       #Fa\tFair\n",
    "       #Po\tPoor\n",
    "       #NA\tNo Garage\n",
    "# PoolQC 2571 -  Pool quality - throw out\n",
    "       #Ex\tExcellent\n",
    "       #Gd\tGood\n",
    "       #TA\tAverage/Typical\n",
    "       #Fa\tFair\n",
    "       #NA\tNo Pool\n",
    "# Fence 2055 - Fence quality - throw out\n",
    "       #GdPrv\tGood Privacy\n",
    "       #MnPrv\tMinimum Privacy\n",
    "       #GdWo\tGood Wood\n",
    "       #MnWw\tMinimum Wood/Wire\n",
    "       #NA\tNo Fence\n",
    "# MiscFeature 2483 Miscellaneous feature not covered in other categories - throw out - not enough data points\n",
    "       #Elev\tElevator\n",
    "       #Gar2\t2nd Garage (if not described in garage section)\n",
    "       #Othr\tOther\n",
    "       #Shed\tShed (over 100 SF)\n",
    "       #TenC\tTennis Court\n",
    "       #NA\tNone"
   ]
  },
  {
   "cell_type": "code",
   "execution_count": 128,
   "metadata": {},
   "outputs": [],
   "source": [
    "prices.drop(['PoolQC', 'MiscFeature', 'Alley', 'Fence', \"FireplaceQu\"], axis=1, inplace=True)"
   ]
  },
  {
   "cell_type": "code",
   "execution_count": 129,
   "metadata": {},
   "outputs": [],
   "source": [
    "#MasVnrType & MasVnrArea\n",
    "prices['MasVnrType'] = prices['MasVnrType'].fillna(\"None\")\n",
    "prices['MasVnrArea'] = prices['MasVnrArea'].fillna(0)"
   ]
  },
  {
   "cell_type": "code",
   "execution_count": 130,
   "metadata": {},
   "outputs": [
    {
     "name": "stdout",
     "output_type": "stream",
     "text": [
      "SBrkr    2365\n",
      "FuseA     168\n",
      "FuseF      39\n",
      "FuseP       7\n",
      "Name: Electrical, dtype: int64\n",
      "SBrkr    2366\n",
      "FuseA     168\n",
      "FuseF      39\n",
      "FuseP       7\n",
      "Name: Electrical, dtype: int64\n"
     ]
    }
   ],
   "source": [
    "#Electrical\n",
    "print(prices['Electrical'].value_counts()) # majority is SBrkr - got with that\n",
    "prices['Electrical'] = prices['Electrical'].fillna(prices[\"Electrical\"].mode()[0])\n",
    "print(prices['Electrical'].value_counts()) "
   ]
  },
  {
   "cell_type": "code",
   "execution_count": 131,
   "metadata": {},
   "outputs": [
    {
     "name": "stdout",
     "output_type": "stream",
     "text": [
      "LotFrontage 462\n",
      "BsmtQual 69\n",
      "BsmtCond 69\n",
      "BsmtExposure 71\n",
      "BsmtFinType1 69\n",
      "BsmtFinSF1 1\n",
      "BsmtFinType2 70\n",
      "BsmtFinSF2 1\n",
      "BsmtUnfSF 1\n",
      "TotalBsmtSF 1\n",
      "BsmtFullBath 2\n",
      "BsmtHalfBath 2\n",
      "GarageType 127\n",
      "GarageYrBlt 129\n",
      "GarageFinish 129\n",
      "GarageCars 1\n",
      "GarageArea 1\n",
      "GarageQual 129\n",
      "GarageCond 129\n"
     ]
    }
   ],
   "source": [
    "check_empty_vals()"
   ]
  },
  {
   "cell_type": "code",
   "execution_count": null,
   "metadata": {},
   "outputs": [],
   "source": []
  }
 ],
 "metadata": {
  "kernelspec": {
   "display_name": "Python 3",
   "language": "python",
   "name": "python3"
  },
  "language_info": {
   "codemirror_mode": {
    "name": "ipython",
    "version": 3
   },
   "file_extension": ".py",
   "mimetype": "text/x-python",
   "name": "python",
   "nbconvert_exporter": "python",
   "pygments_lexer": "ipython3",
   "version": "3.8.5"
  }
 },
 "nbformat": 4,
 "nbformat_minor": 4
}
