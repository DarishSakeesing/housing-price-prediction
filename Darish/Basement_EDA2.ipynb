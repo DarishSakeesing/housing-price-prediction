{
 "metadata": {
  "language_info": {
   "codemirror_mode": {
    "name": "ipython",
    "version": 3
   },
   "file_extension": ".py",
   "mimetype": "text/x-python",
   "name": "python",
   "nbconvert_exporter": "python",
   "pygments_lexer": "ipython3",
   "version": "3.8.5-final"
  },
  "orig_nbformat": 2,
  "kernelspec": {
   "name": "python3",
   "display_name": "Python 3.8.5 64-bit ('base': conda)",
   "metadata": {
    "interpreter": {
     "hash": "ae989dbf47fc2ec7fd37af85c722b91dcde5192089b78d0e6b8bdcdcf6b9624f"
    }
   }
  }
 },
 "nbformat": 4,
 "nbformat_minor": 2,
 "cells": [
  {
   "cell_type": "code",
   "execution_count": 1,
   "metadata": {},
   "outputs": [],
   "source": [
    "import pandas as pd\n",
    "import numpy as np\n",
    "from sklearn.model_selection import train_test_split\n",
    "from sklearn.linear_model import LinearRegression\n",
    "from sklearn.model_selection import KFold\n",
    "from sklearn.linear_model import Lasso\n",
    "from sklearn.preprocessing import StandardScaler\n",
    "from sklearn.metrics import mean_squared_error\n",
    "\n"
   ]
  },
  {
   "cell_type": "code",
   "execution_count": 100,
   "metadata": {},
   "outputs": [],
   "source": [
    "raw_data = pd.read_csv('data/Ames_Housing_Price_Data.csv')\n",
    "\n",
    "#remove the 3 neighborhoods\n",
    "raw_data = raw_data[raw_data['Neighborhood'] != 'Landmrk']\n",
    "raw_data = raw_data[raw_data['Neighborhood'] != 'GrnHill']\n",
    "raw_data = raw_data[raw_data['Neighborhood'] != 'Greens']"
   ]
  },
  {
   "cell_type": "code",
   "execution_count": 101,
   "metadata": {},
   "outputs": [
    {
     "output_type": "execute_result",
     "data": {
      "text/plain": [
       "         PID  SalePrice BsmtQual BsmtCond BsmtExposure BsmtFinType1  \\\n",
       "0  909176150     126000       TA       TA           No          Rec   \n",
       "1  905476230     139500       Gd       TA           Mn          GLQ   \n",
       "2  911128020     124900       TA       TA           No          ALQ   \n",
       "3  535377150     114000       Fa       TA           No          Unf   \n",
       "4  534177230     227000       Gd       TA           No          GLQ   \n",
       "\n",
       "   BsmtFinSF1 BsmtFinType2  BsmtFinSF2  BsmtUnfSF  TotalBsmtSF  \n",
       "0       238.0          Unf         0.0      618.0        856.0  \n",
       "1       552.0          ALQ       393.0      104.0       1049.0  \n",
       "2       737.0          Unf         0.0      100.0        837.0  \n",
       "3         0.0          Unf         0.0      405.0        405.0  \n",
       "4       643.0          Unf         0.0      167.0        810.0  "
      ],
      "text/html": "<div>\n<style scoped>\n    .dataframe tbody tr th:only-of-type {\n        vertical-align: middle;\n    }\n\n    .dataframe tbody tr th {\n        vertical-align: top;\n    }\n\n    .dataframe thead th {\n        text-align: right;\n    }\n</style>\n<table border=\"1\" class=\"dataframe\">\n  <thead>\n    <tr style=\"text-align: right;\">\n      <th></th>\n      <th>PID</th>\n      <th>SalePrice</th>\n      <th>BsmtQual</th>\n      <th>BsmtCond</th>\n      <th>BsmtExposure</th>\n      <th>BsmtFinType1</th>\n      <th>BsmtFinSF1</th>\n      <th>BsmtFinType2</th>\n      <th>BsmtFinSF2</th>\n      <th>BsmtUnfSF</th>\n      <th>TotalBsmtSF</th>\n    </tr>\n  </thead>\n  <tbody>\n    <tr>\n      <th>0</th>\n      <td>909176150</td>\n      <td>126000</td>\n      <td>TA</td>\n      <td>TA</td>\n      <td>No</td>\n      <td>Rec</td>\n      <td>238.0</td>\n      <td>Unf</td>\n      <td>0.0</td>\n      <td>618.0</td>\n      <td>856.0</td>\n    </tr>\n    <tr>\n      <th>1</th>\n      <td>905476230</td>\n      <td>139500</td>\n      <td>Gd</td>\n      <td>TA</td>\n      <td>Mn</td>\n      <td>GLQ</td>\n      <td>552.0</td>\n      <td>ALQ</td>\n      <td>393.0</td>\n      <td>104.0</td>\n      <td>1049.0</td>\n    </tr>\n    <tr>\n      <th>2</th>\n      <td>911128020</td>\n      <td>124900</td>\n      <td>TA</td>\n      <td>TA</td>\n      <td>No</td>\n      <td>ALQ</td>\n      <td>737.0</td>\n      <td>Unf</td>\n      <td>0.0</td>\n      <td>100.0</td>\n      <td>837.0</td>\n    </tr>\n    <tr>\n      <th>3</th>\n      <td>535377150</td>\n      <td>114000</td>\n      <td>Fa</td>\n      <td>TA</td>\n      <td>No</td>\n      <td>Unf</td>\n      <td>0.0</td>\n      <td>Unf</td>\n      <td>0.0</td>\n      <td>405.0</td>\n      <td>405.0</td>\n    </tr>\n    <tr>\n      <th>4</th>\n      <td>534177230</td>\n      <td>227000</td>\n      <td>Gd</td>\n      <td>TA</td>\n      <td>No</td>\n      <td>GLQ</td>\n      <td>643.0</td>\n      <td>Unf</td>\n      <td>0.0</td>\n      <td>167.0</td>\n      <td>810.0</td>\n    </tr>\n  </tbody>\n</table>\n</div>"
     },
     "metadata": {},
     "execution_count": 101
    }
   ],
   "source": [
    "basementDF = raw_data[['PID','SalePrice','BsmtQual', 'BsmtCond', 'BsmtExposure', 'BsmtFinType1', 'BsmtFinSF1', 'BsmtFinType2', 'BsmtFinSF2', 'BsmtUnfSF', 'TotalBsmtSF']]\n",
    "basementDF.head()"
   ]
  },
  {
   "cell_type": "code",
   "execution_count": 102,
   "metadata": {},
   "outputs": [],
   "source": [
    "basementDF.BsmtQual = basementDF['BsmtQual'].fillna(0)\n",
    "basementDF.BsmtQual = basementDF.BsmtQual.replace(to_replace='Ex', value=5)\n",
    "basementDF.BsmtQual = basementDF.BsmtQual.replace(to_replace='Gd', value=4)\n",
    "basementDF.BsmtQual = basementDF.BsmtQual.replace(to_replace='TA', value=3)\n",
    "basementDF.BsmtQual = basementDF.BsmtQual.replace(to_replace='Fa', value=2)\n",
    "basementDF.BsmtQual = basementDF.BsmtQual.replace(to_replace='Po', value=1)\n",
    "\n",
    "basementDF.BsmtCond = basementDF['BsmtCond'].fillna(0)\n",
    "basementDF.BsmtCond = basementDF.BsmtCond.replace(to_replace='Ex', value=5)\n",
    "basementDF.BsmtCond = basementDF.BsmtCond.replace(to_replace='Gd', value=4)\n",
    "basementDF.BsmtCond = basementDF.BsmtCond.replace(to_replace='TA', value=3)\n",
    "basementDF.BsmtCond = basementDF.BsmtCond.replace(to_replace='Fa', value=2)\n",
    "basementDF.BsmtCond = basementDF.BsmtCond.replace(to_replace='Po', value=1)\n",
    "\n",
    "basementDF.BsmtExposure = basementDF['BsmtExposure'].fillna(0)\n",
    "basementDF.BsmtExposure = basementDF.BsmtExposure.replace(to_replace='Gd', value=4)\n",
    "basementDF.BsmtExposure = basementDF.BsmtExposure.replace(to_replace='Av', value=3)\n",
    "basementDF.BsmtExposure = basementDF.BsmtExposure.replace(to_replace='Mn', value=2)\n",
    "basementDF.BsmtExposure = basementDF.BsmtExposure.replace(to_replace='No', value=1)\n",
    "\n",
    "\n",
    "basementDF.BsmtFinType1 = basementDF['BsmtFinType1'].fillna(0)\n",
    "basementDF.BsmtFinType1 = basementDF.BsmtFinType1.replace(to_replace='GLQ', value=6)\n",
    "basementDF.BsmtFinType1 = basementDF.BsmtFinType1.replace(to_replace='ALQ', value=5)\n",
    "basementDF.BsmtFinType1 = basementDF.BsmtFinType1.replace(to_replace='BLQ', value=4)\n",
    "basementDF.BsmtFinType1 = basementDF.BsmtFinType1.replace(to_replace='Rec', value=3)\n",
    "basementDF.BsmtFinType1 = basementDF.BsmtFinType1.replace(to_replace='LwQ', value=2)\n",
    "basementDF.BsmtFinType1 = basementDF.BsmtFinType1.replace(to_replace='Unf', value=1)\n",
    "\n",
    "basementDF.BsmtFinType2 = basementDF['BsmtFinType2'].fillna(0)\n",
    "basementDF.BsmtFinType2 = basementDF.BsmtFinType2.replace(to_replace='GLQ', value=6)\n",
    "basementDF.BsmtFinType2 = basementDF.BsmtFinType2.replace(to_replace='ALQ', value=5)\n",
    "basementDF.BsmtFinType2 = basementDF.BsmtFinType2.replace(to_replace='BLQ', value=4)\n",
    "basementDF.BsmtFinType2 = basementDF.BsmtFinType2.replace(to_replace='Rec', value=3)\n",
    "basementDF.BsmtFinType2 = basementDF.BsmtFinType2.replace(to_replace='LwQ', value=2)\n",
    "basementDF.BsmtFinType2 = basementDF.BsmtFinType2.replace(to_replace='Unf', value=1)"
   ]
  },
  {
   "cell_type": "code",
   "execution_count": 103,
   "metadata": {},
   "outputs": [],
   "source": [
    "basementDF = basementDF[basementDF.BsmtFinSF1.notna()] # 1 obs dropped"
   ]
  },
  {
   "cell_type": "code",
   "execution_count": 104,
   "metadata": {},
   "outputs": [
    {
     "output_type": "execute_result",
     "data": {
      "text/plain": [
       "const           29.350531\n",
       "BsmtQual         2.358155\n",
       "BsmtCond         1.780682\n",
       "BsmtExposure     1.392391\n",
       "BsmtFinType1     2.395038\n",
       "BsmtFinSF1            inf\n",
       "BsmtFinType2     3.090069\n",
       "BsmtFinSF2            inf\n",
       "BsmtUnfSF             inf\n",
       "TotalBsmtSF           inf\n",
       "dtype: float64"
      ]
     },
     "metadata": {},
     "execution_count": 104
    }
   ],
   "source": [
    "from statsmodels.stats.outliers_influence import variance_inflation_factor\n",
    "from statsmodels.tools.tools import add_constant\n",
    "\n",
    "X = basementDF.copy().iloc[:,2:]\n",
    "X =  add_constant(X)\n",
    "\n",
    "pd.Series([variance_inflation_factor(X.values, i) for i in range(X.shape[1])], index=X.columns)"
   ]
  },
  {
   "cell_type": "code",
   "execution_count": 105,
   "metadata": {},
   "outputs": [],
   "source": [
    "basementDF = basementDF.drop(['BsmtFinSF1', 'BsmtFinSF2', 'BsmtUnfSF', 'TotalBsmtSF'], axis=1, inplace=False)"
   ]
  },
  {
   "cell_type": "code",
   "execution_count": 36,
   "metadata": {},
   "outputs": [],
   "source": [
    "X['Condition_Square'] = X['BsmtCond']**2\n",
    "X['Condition_cube'] = X['BsmtCond']**3\n",
    "X['Exposure_Square'] = X['BsmtExposure']**2\n",
    "X['Exposure_cube'] = X['BsmtExposure']**3\n",
    "X['Exposure_quartic'] = X['BsmtExposure']**4\n",
    "X['type1_sq'] = X['BsmtFinType1']**2\n",
    "X['type1_cube'] = X['BsmtFinType1']**3\n",
    "X['type1_quartic'] = X['BsmtFinType1']**4\n",
    "X['type2_sq'] = X['BsmtFinType2']**2\n",
    "X['type2_cube'] = X['BsmtFinType2']**3\n",
    "X['type2_quartic'] = X['BsmtFinType2']**4\n"
   ]
  },
  {
   "cell_type": "code",
   "execution_count": 87,
   "metadata": {},
   "outputs": [
    {
     "output_type": "stream",
     "name": "stdout",
     "text": [
      "0.45977358407073265\n"
     ]
    }
   ],
   "source": [
    "X1 = basementDF.copy().iloc[:,2:]\n",
    "X1['Condition_Square'] = X1['BsmtCond']**2\n",
    "X1['Condition_cube'] = X1['BsmtCond']**3\n",
    "\n",
    "y = np.log(basementDF['SalePrice'])\n",
    "\n",
    "score = []\n",
    "for i in range(100):\n",
    "    Xtrain, Xtest, ytrain, ytest = train_test_split(X1, y, shuffle=True, test_size=0.15)\n",
    "    ols = LinearRegression()\n",
    "    ols.fit(Xtrain, ytrain)\n",
    "    adj_R_square = 1 - (1-ols.score(Xtest, ytest))*(len(ytest)-1)/(len(ytest)-Xtest.shape[1]-1)\n",
    "    score.append(adj_R_square)\n",
    "\n",
    "print(np.average(score))"
   ]
  },
  {
   "cell_type": "code",
   "execution_count": 88,
   "metadata": {},
   "outputs": [
    {
     "output_type": "stream",
     "name": "stdout",
     "text": [
      "0.46651444314384505\n"
     ]
    }
   ],
   "source": [
    "X2 = basementDF.copy().iloc[:,2:]\n",
    "X2['Exposure_Square'] = X2['BsmtExposure']**2\n",
    "X2['Exposure_cube'] = X2['BsmtExposure']**3\n",
    "X2['Exposure_quartic'] = X2['BsmtExposure']**4\n",
    "\n",
    "y = np.log(basementDF['SalePrice'])\n",
    "\n",
    "score = []\n",
    "for i in range(100):\n",
    "    Xtrain, Xtest, ytrain, ytest = train_test_split(X2, y, shuffle=True, test_size=0.15)\n",
    "    ols = LinearRegression()\n",
    "    ols.fit(Xtrain, ytrain)\n",
    "    adj_R_square = 1 - (1-ols.score(Xtest, ytest))*(len(ytest)-1)/(len(ytest)-Xtest.shape[1]-1)\n",
    "    score.append(adj_R_square)\n",
    "\n",
    "print(np.average(score))"
   ]
  },
  {
   "cell_type": "code",
   "execution_count": 89,
   "metadata": {},
   "outputs": [
    {
     "output_type": "stream",
     "name": "stdout",
     "text": [
      "0.45960711318627484\n"
     ]
    }
   ],
   "source": [
    "X3 = basementDF.copy().iloc[:,2:]\n",
    "X3['type1_sq'] = X3['BsmtFinType1']**2\n",
    "X3['type1_cube'] = X3['BsmtFinType1']**3\n",
    "X3['type1_quartic'] = X3['BsmtFinType1']**4\n",
    "\n",
    "y = np.log(basementDF['SalePrice'])\n",
    "\n",
    "score = []\n",
    "for i in range(100):\n",
    "    Xtrain, Xtest, ytrain, ytest = train_test_split(X3, y, shuffle=True, test_size=0.15)\n",
    "    ols = LinearRegression()\n",
    "    ols.fit(Xtrain, ytrain)\n",
    "    adj_R_square = 1 - (1-ols.score(Xtest, ytest))*(len(ytest)-1)/(len(ytest)-Xtest.shape[1]-1)\n",
    "    score.append(adj_R_square)\n",
    "\n",
    "print(np.average(score))"
   ]
  },
  {
   "cell_type": "code",
   "execution_count": 90,
   "metadata": {},
   "outputs": [
    {
     "output_type": "stream",
     "name": "stdout",
     "text": [
      "0.4630009562536208\n"
     ]
    }
   ],
   "source": [
    "X4 = basementDF.copy().iloc[:,2:]\n",
    "X4['Condition_Square'] = X4['BsmtCond']**2\n",
    "X4['Condition_cube'] = X4['BsmtCond']**3\n",
    "X4['Exposure_Square'] = X4['BsmtExposure']**2\n",
    "X4['Exposure_cube'] = X4['BsmtExposure']**3\n",
    "X4['Exposure_quartic'] = X4['BsmtExposure']**4\n",
    "\n",
    "y = np.log(basementDF['SalePrice'])\n",
    "\n",
    "score = []\n",
    "for i in range(100):\n",
    "    Xtrain, Xtest, ytrain, ytest = train_test_split(X4, y, shuffle=True, test_size=0.15)\n",
    "    ols = LinearRegression()\n",
    "    ols.fit(Xtrain, ytrain)\n",
    "    adj_R_square = 1 - (1-ols.score(Xtest, ytest))*(len(ytest)-1)/(len(ytest)-Xtest.shape[1]-1)\n",
    "    score.append(adj_R_square)\n",
    "\n",
    "print(np.average(score))"
   ]
  },
  {
   "cell_type": "code",
   "execution_count": 91,
   "metadata": {},
   "outputs": [
    {
     "output_type": "stream",
     "name": "stdout",
     "text": [
      "0.42297722214774064\n"
     ]
    }
   ],
   "source": [
    "X5 = basementDF.copy().iloc[:,2:]\n",
    "y = np.log(basementDF['SalePrice'])\n",
    "\n",
    "score = []\n",
    "for i in range(100):\n",
    "    Xtrain, Xtest, ytrain, ytest = train_test_split(X5, y, shuffle=True, test_size=0.15)\n",
    "    ols = LinearRegression()\n",
    "    ols.fit(Xtrain, ytrain)\n",
    "    adj_R_square = 1 - (1-ols.score(Xtest, ytest))*(len(ytest)-1)/(len(ytest)-Xtest.shape[1]-1)\n",
    "    score.append(adj_R_square)\n",
    "\n",
    "print(np.average(score))\n"
   ]
  },
  {
   "cell_type": "code",
   "execution_count": 92,
   "metadata": {},
   "outputs": [
    {
     "output_type": "stream",
     "name": "stdout",
     "text": [
      "0.46089264789177947\n"
     ]
    }
   ],
   "source": [
    "X6 = basementDF.copy().iloc[:,2:]\n",
    "X6['Condition_Square'] = X6['BsmtCond']**2\n",
    "X6['Condition_cube'] = X6['BsmtCond']**3\n",
    "X6['type1_sq'] = X6['BsmtFinType1']**2\n",
    "X6['type1_cube'] = X6['BsmtFinType1']**3\n",
    "X6['type1_quartic'] = X6['BsmtFinType1']**4\n",
    "\n",
    "y = np.log(basementDF['SalePrice'])\n",
    "\n",
    "score = []\n",
    "for i in range(100):\n",
    "    Xtrain, Xtest, ytrain, ytest = train_test_split(X6, y, shuffle=True, test_size=0.15)\n",
    "    ols = LinearRegression()\n",
    "    ols.fit(Xtrain, ytrain)\n",
    "    adj_R_square = 1 - (1-ols.score(Xtest, ytest))*(len(ytest)-1)/(len(ytest)-Xtest.shape[1]-1)\n",
    "    score.append(adj_R_square)\n",
    "\n",
    "print(np.average(score))"
   ]
  },
  {
   "cell_type": "code",
   "execution_count": 93,
   "metadata": {},
   "outputs": [
    {
     "output_type": "stream",
     "name": "stdout",
     "text": [
      "0.45356642429314903\n"
     ]
    }
   ],
   "source": [
    "X7 = basementDF.copy().iloc[:,2:]\n",
    "X7['Exposure_Square'] = X7['BsmtExposure']**2\n",
    "X7['Exposure_cube'] = X7['BsmtExposure']**3\n",
    "X7['Exposure_quartic'] = X7['BsmtExposure']**4\n",
    "X7['type1_sq'] = X7['BsmtFinType1']**2\n",
    "X7['type1_cube'] = X7['BsmtFinType1']**3\n",
    "X7['type1_quartic'] = X7['BsmtFinType1']**4\n",
    "\n",
    "y = np.log(basementDF['SalePrice'])\n",
    "\n",
    "score = []\n",
    "for i in range(100):\n",
    "    Xtrain, Xtest, ytrain, ytest = train_test_split(X7, y, shuffle=True, test_size=0.15)\n",
    "    ols = LinearRegression()\n",
    "    ols.fit(Xtrain, ytrain)\n",
    "    adj_R_square = 1 - (1-ols.score(Xtest, ytest))*(len(ytest)-1)/(len(ytest)-Xtest.shape[1]-1)\n",
    "    score.append(adj_R_square)\n",
    "\n",
    "print(np.average(score))"
   ]
  },
  {
   "cell_type": "code",
   "execution_count": 94,
   "metadata": {},
   "outputs": [
    {
     "output_type": "stream",
     "name": "stdout",
     "text": [
      "0.4623754910861417\n"
     ]
    }
   ],
   "source": [
    "X8 = basementDF.copy().iloc[:,2:]\n",
    "X8['type2_sq'] = X8['BsmtFinType2']**2\n",
    "X8['type2_cube'] = X8['BsmtFinType2']**3\n",
    "X8['type2_quartic'] = X8['BsmtFinType2']**4\n",
    "\n",
    "y = np.log(basementDF['SalePrice'])\n",
    "\n",
    "score = []\n",
    "for i in range(100):\n",
    "    Xtrain, Xtest, ytrain, ytest = train_test_split(X8, y, shuffle=True, test_size=0.15)\n",
    "    ols = LinearRegression()\n",
    "    ols.fit(Xtrain, ytrain)\n",
    "    adj_R_square = 1 - (1-ols.score(Xtest, ytest))*(len(ytest)-1)/(len(ytest)-Xtest.shape[1]-1)\n",
    "    score.append(adj_R_square)\n",
    "\n",
    "print(np.average(score))"
   ]
  },
  {
   "cell_type": "code",
   "execution_count": 95,
   "metadata": {},
   "outputs": [
    {
     "output_type": "stream",
     "name": "stdout",
     "text": [
      "0.46014287278109345\n"
     ]
    }
   ],
   "source": [
    "X9 = basementDF.copy().iloc[:,2:]\n",
    "X9['type1_sq'] = X9['BsmtFinType1']**2\n",
    "X9['type1_cube'] = X9['BsmtFinType1']**3\n",
    "X9['type1_quartic'] = X9['BsmtFinType1']**4\n",
    "X9['type2_sq'] = X9['BsmtFinType2']**2\n",
    "X9['type2_cube'] = X9['BsmtFinType2']**3\n",
    "X9['type2_quartic'] = X9['BsmtFinType2']**4\n",
    "\n",
    "y = np.log(basementDF['SalePrice'])\n",
    "\n",
    "score = []\n",
    "for i in range(100):\n",
    "    Xtrain, Xtest, ytrain, ytest = train_test_split(X9, y, shuffle=True, test_size=0.15)\n",
    "    ols = LinearRegression()\n",
    "    ols.fit(Xtrain, ytrain)\n",
    "    adj_R_square = 1 - (1-ols.score(Xtest, ytest))*(len(ytest)-1)/(len(ytest)-Xtest.shape[1]-1)\n",
    "    score.append(adj_R_square)\n",
    "\n",
    "print(np.average(score))"
   ]
  },
  {
   "cell_type": "code",
   "execution_count": 96,
   "metadata": {},
   "outputs": [
    {
     "output_type": "stream",
     "name": "stdout",
     "text": [
      "0.45735187797143584\n"
     ]
    }
   ],
   "source": [
    "X10 = basementDF.copy().iloc[:,2:]\n",
    "X10['Condition_Square'] = X10['BsmtCond']**2\n",
    "X10['Condition_cube'] = X10['BsmtCond']**3\n",
    "X10['Exposure_Square'] = X10['BsmtExposure']**2\n",
    "X10['Exposure_cube'] = X10['BsmtExposure']**3\n",
    "X10['Exposure_quartic'] = X10['BsmtExposure']**4\n",
    "X10['type1_sq'] = X10['BsmtFinType1']**2\n",
    "X10['type1_cube'] = X10['BsmtFinType1']**3\n",
    "X10['type1_quartic'] = X10['BsmtFinType1']**4\n",
    "X10['type2_sq'] = X10['BsmtFinType2']**2\n",
    "X10['type2_cube'] = X10['BsmtFinType2']**3\n",
    "X10['type2_quartic'] = X10['BsmtFinType2']**4\n",
    "\n",
    "y = np.log(basementDF['SalePrice'])\n",
    "\n",
    "score = []\n",
    "for i in range(100):\n",
    "    Xtrain, Xtest, ytrain, ytest = train_test_split(X9, y, shuffle=True, test_size=0.15)\n",
    "    ols = LinearRegression()\n",
    "    ols.fit(Xtrain, ytrain)\n",
    "    adj_R_square = 1 - (1-ols.score(Xtest, ytest))*(len(ytest)-1)/(len(ytest)-Xtest.shape[1]-1)\n",
    "    score.append(adj_R_square)\n",
    "\n",
    "print(np.average(score))"
   ]
  },
  {
   "cell_type": "code",
   "execution_count": 107,
   "metadata": {},
   "outputs": [
    {
     "output_type": "execute_result",
     "data": {
      "text/plain": [
       "      BsmtQual  BsmtCond  BsmtExposure  BsmtFinType1  BsmtFinType2  \\\n",
       "0            3         3             1             3             1   \n",
       "1            4         3             2             6             5   \n",
       "2            3         3             1             5             1   \n",
       "3            2         3             1             1             1   \n",
       "4            4         3             1             6             1   \n",
       "...        ...       ...           ...           ...           ...   \n",
       "2575         3         3             1             1             1   \n",
       "2576         0         0             0             0             0   \n",
       "2577         3         3             1             4             1   \n",
       "2578         4         3             1             6             1   \n",
       "2579         4         3             1             6             1   \n",
       "\n",
       "      Exposure_Square  Exposure_cube  Exposure_quartic  \n",
       "0                   1              1                 1  \n",
       "1                   4              8                16  \n",
       "2                   1              1                 1  \n",
       "3                   1              1                 1  \n",
       "4                   1              1                 1  \n",
       "...               ...            ...               ...  \n",
       "2575                1              1                 1  \n",
       "2576                0              0                 0  \n",
       "2577                1              1                 1  \n",
       "2578                1              1                 1  \n",
       "2579                1              1                 1  \n",
       "\n",
       "[2568 rows x 8 columns]"
      ],
      "text/html": "<div>\n<style scoped>\n    .dataframe tbody tr th:only-of-type {\n        vertical-align: middle;\n    }\n\n    .dataframe tbody tr th {\n        vertical-align: top;\n    }\n\n    .dataframe thead th {\n        text-align: right;\n    }\n</style>\n<table border=\"1\" class=\"dataframe\">\n  <thead>\n    <tr style=\"text-align: right;\">\n      <th></th>\n      <th>BsmtQual</th>\n      <th>BsmtCond</th>\n      <th>BsmtExposure</th>\n      <th>BsmtFinType1</th>\n      <th>BsmtFinType2</th>\n      <th>Exposure_Square</th>\n      <th>Exposure_cube</th>\n      <th>Exposure_quartic</th>\n    </tr>\n  </thead>\n  <tbody>\n    <tr>\n      <th>0</th>\n      <td>3</td>\n      <td>3</td>\n      <td>1</td>\n      <td>3</td>\n      <td>1</td>\n      <td>1</td>\n      <td>1</td>\n      <td>1</td>\n    </tr>\n    <tr>\n      <th>1</th>\n      <td>4</td>\n      <td>3</td>\n      <td>2</td>\n      <td>6</td>\n      <td>5</td>\n      <td>4</td>\n      <td>8</td>\n      <td>16</td>\n    </tr>\n    <tr>\n      <th>2</th>\n      <td>3</td>\n      <td>3</td>\n      <td>1</td>\n      <td>5</td>\n      <td>1</td>\n      <td>1</td>\n      <td>1</td>\n      <td>1</td>\n    </tr>\n    <tr>\n      <th>3</th>\n      <td>2</td>\n      <td>3</td>\n      <td>1</td>\n      <td>1</td>\n      <td>1</td>\n      <td>1</td>\n      <td>1</td>\n      <td>1</td>\n    </tr>\n    <tr>\n      <th>4</th>\n      <td>4</td>\n      <td>3</td>\n      <td>1</td>\n      <td>6</td>\n      <td>1</td>\n      <td>1</td>\n      <td>1</td>\n      <td>1</td>\n    </tr>\n    <tr>\n      <th>...</th>\n      <td>...</td>\n      <td>...</td>\n      <td>...</td>\n      <td>...</td>\n      <td>...</td>\n      <td>...</td>\n      <td>...</td>\n      <td>...</td>\n    </tr>\n    <tr>\n      <th>2575</th>\n      <td>3</td>\n      <td>3</td>\n      <td>1</td>\n      <td>1</td>\n      <td>1</td>\n      <td>1</td>\n      <td>1</td>\n      <td>1</td>\n    </tr>\n    <tr>\n      <th>2576</th>\n      <td>0</td>\n      <td>0</td>\n      <td>0</td>\n      <td>0</td>\n      <td>0</td>\n      <td>0</td>\n      <td>0</td>\n      <td>0</td>\n    </tr>\n    <tr>\n      <th>2577</th>\n      <td>3</td>\n      <td>3</td>\n      <td>1</td>\n      <td>4</td>\n      <td>1</td>\n      <td>1</td>\n      <td>1</td>\n      <td>1</td>\n    </tr>\n    <tr>\n      <th>2578</th>\n      <td>4</td>\n      <td>3</td>\n      <td>1</td>\n      <td>6</td>\n      <td>1</td>\n      <td>1</td>\n      <td>1</td>\n      <td>1</td>\n    </tr>\n    <tr>\n      <th>2579</th>\n      <td>4</td>\n      <td>3</td>\n      <td>1</td>\n      <td>6</td>\n      <td>1</td>\n      <td>1</td>\n      <td>1</td>\n      <td>1</td>\n    </tr>\n  </tbody>\n</table>\n<p>2568 rows × 8 columns</p>\n</div>"
     },
     "metadata": {},
     "execution_count": 107
    }
   ],
   "source": [
    "X2"
   ]
  },
  {
   "source": [
    "According to the adjusted R_Square value, the best equation is:\n",
    "\n",
    "$log(\\hat{y}) = \\beta_{0} + \\beta_{1}BsmtQual + \\beta_{2}BsmtCond + \\beta_{3}BsmtExposure + \\beta_{4}BsmtExposure^{2} + \\beta_{5}BsmtExposure^{3} + \\beta_{6}BsmtExposure^{4} + \\beta_{7}BsmtFinType1 + \\beta_{8}BsmtFinType2$\n",
    "\n"
   ],
   "cell_type": "markdown",
   "metadata": {}
  }
 ]
}