{
 "metadata": {
  "language_info": {
   "codemirror_mode": {
    "name": "ipython",
    "version": 3
   },
   "file_extension": ".py",
   "mimetype": "text/x-python",
   "name": "python",
   "nbconvert_exporter": "python",
   "pygments_lexer": "ipython3",
   "version": "3.8.5-final"
  },
  "orig_nbformat": 2,
  "kernelspec": {
   "name": "python3",
   "display_name": "Python 3.8.5 64-bit ('base': conda)",
   "metadata": {
    "interpreter": {
     "hash": "ae989dbf47fc2ec7fd37af85c722b91dcde5192089b78d0e6b8bdcdcf6b9624f"
    }
   }
  }
 },
 "nbformat": 4,
 "nbformat_minor": 2,
 "cells": [
  {
   "cell_type": "code",
   "execution_count": 42,
   "metadata": {},
   "outputs": [],
   "source": [
    "import pandas as pd\n",
    "import numpy as np\n",
    "from sklearn.impute import KNNImputer\n",
    "from sklearn.preprocessing import OneHotEncoder\n",
    "from sklearn.preprocessing import LabelEncoder\n",
    "from sklearn.impute import SimpleImputer\n",
    "from random import randint\n",
    "pd.set_option('display.max_columns', 500)"
   ]
  },
  {
   "cell_type": "code",
   "execution_count": 2,
   "metadata": {},
   "outputs": [],
   "source": [
    "raw_data = pd.read_csv('data/Ames_Housing_Price_Data.csv')\n",
    "raw_data.drop('Unnamed: 0', axis=1, inplace=True)\n",
    "raw_data = raw_data[raw_data['Neighborhood'] != 'Landmrk']\n",
    "raw_data = raw_data[raw_data['Neighborhood'] != 'GrnHill']\n",
    "raw_data = raw_data[raw_data['Neighborhood'] != 'Greens']"
   ]
  },
  {
   "cell_type": "code",
   "execution_count": 3,
   "metadata": {},
   "outputs": [
    {
     "output_type": "execute_result",
     "data": {
      "text/plain": [
       "         PID  GrLivArea  SalePrice  MSSubClass MSZoning  LotFrontage  LotArea  \\\n",
       "0  909176150        856     126000          30       RL          NaN     7890   \n",
       "1  905476230       1049     139500         120       RL         42.0     4235   \n",
       "2  911128020       1001     124900          30  C (all)         60.0     6060   \n",
       "3  535377150       1039     114000          70       RL         80.0     8146   \n",
       "4  534177230       1665     227000          60       RL         70.0     8400   \n",
       "\n",
       "  Street Alley LotShape LandContour Utilities LotConfig LandSlope  \\\n",
       "0   Pave   NaN      Reg         Lvl    AllPub    Corner       Gtl   \n",
       "1   Pave   NaN      Reg         Lvl    AllPub    Inside       Gtl   \n",
       "2   Pave   NaN      Reg         Lvl    AllPub    Inside       Gtl   \n",
       "3   Pave   NaN      Reg         Lvl    AllPub    Corner       Gtl   \n",
       "4   Pave   NaN      Reg         Lvl    AllPub    Inside       Gtl   \n",
       "\n",
       "  Neighborhood Condition1 Condition2 BldgType HouseStyle  OverallQual  \\\n",
       "0        SWISU       Norm       Norm     1Fam     1Story            6   \n",
       "1      Edwards       Norm       Norm   TwnhsE     1Story            5   \n",
       "2       IDOTRR       Norm       Norm     1Fam     1Story            5   \n",
       "3      OldTown       Norm       Norm     1Fam     2Story            4   \n",
       "4       NWAmes       Norm       Norm     1Fam     2Story            8   \n",
       "\n",
       "   OverallCond  YearBuilt  YearRemodAdd RoofStyle RoofMatl Exterior1st  \\\n",
       "0            6       1939          1950     Gable  CompShg     Wd Sdng   \n",
       "1            5       1984          1984     Gable  CompShg     HdBoard   \n",
       "2            9       1930          2007       Hip  CompShg     MetalSd   \n",
       "3            8       1900          2003     Gable  CompShg     MetalSd   \n",
       "4            6       2001          2001     Gable  CompShg     VinylSd   \n",
       "\n",
       "  Exterior2nd MasVnrType  MasVnrArea ExterQual ExterCond Foundation BsmtQual  \\\n",
       "0     Wd Sdng       None         0.0        TA        TA     CBlock       TA   \n",
       "1     HdBoard    BrkFace       149.0        Gd        TA     CBlock       Gd   \n",
       "2     MetalSd       None         0.0        Gd        TA     BrkTil       TA   \n",
       "3     MetalSd       None         0.0        Gd        Gd     BrkTil       Fa   \n",
       "4     VinylSd       None         0.0        Gd        TA      PConc       Gd   \n",
       "\n",
       "  BsmtCond BsmtExposure BsmtFinType1  BsmtFinSF1 BsmtFinType2  BsmtFinSF2  \\\n",
       "0       TA           No          Rec       238.0          Unf         0.0   \n",
       "1       TA           Mn          GLQ       552.0          ALQ       393.0   \n",
       "2       TA           No          ALQ       737.0          Unf         0.0   \n",
       "3       TA           No          Unf         0.0          Unf         0.0   \n",
       "4       TA           No          GLQ       643.0          Unf         0.0   \n",
       "\n",
       "   BsmtUnfSF  TotalBsmtSF Heating HeatingQC CentralAir Electrical  1stFlrSF  \\\n",
       "0      618.0        856.0    GasA        TA          Y      SBrkr       856   \n",
       "1      104.0       1049.0    GasA        TA          Y      SBrkr      1049   \n",
       "2      100.0        837.0    GasA        Ex          Y      SBrkr      1001   \n",
       "3      405.0        405.0    GasA        Gd          Y      SBrkr       717   \n",
       "4      167.0        810.0    GasA        Ex          Y      SBrkr       810   \n",
       "\n",
       "   2ndFlrSF  LowQualFinSF  BsmtFullBath  BsmtHalfBath  FullBath  HalfBath  \\\n",
       "0         0             0           1.0           0.0         1         0   \n",
       "1         0             0           1.0           0.0         2         0   \n",
       "2         0             0           0.0           0.0         1         0   \n",
       "3       322             0           0.0           0.0         1         0   \n",
       "4       855             0           1.0           0.0         2         1   \n",
       "\n",
       "   BedroomAbvGr  KitchenAbvGr KitchenQual  TotRmsAbvGrd Functional  \\\n",
       "0             2             1          TA             4        Typ   \n",
       "1             2             1          Gd             5        Typ   \n",
       "2             2             1          Gd             5        Typ   \n",
       "3             2             1          TA             6        Typ   \n",
       "4             3             1          Gd             6        Typ   \n",
       "\n",
       "   Fireplaces FireplaceQu GarageType  GarageYrBlt GarageFinish  GarageCars  \\\n",
       "0           1          Gd     Detchd       1939.0          Unf         2.0   \n",
       "1           0         NaN     Attchd       1984.0          Fin         1.0   \n",
       "2           0         NaN     Detchd       1930.0          Unf         1.0   \n",
       "3           0         NaN     Detchd       1940.0          Unf         1.0   \n",
       "4           0         NaN     Attchd       2001.0          Fin         2.0   \n",
       "\n",
       "   GarageArea GarageQual GarageCond PavedDrive  WoodDeckSF  OpenPorchSF  \\\n",
       "0       399.0         TA         TA          Y           0            0   \n",
       "1       266.0         TA         TA          Y           0          105   \n",
       "2       216.0         TA         Po          N         154            0   \n",
       "3       281.0         TA         TA          N           0            0   \n",
       "4       528.0         TA         TA          Y           0           45   \n",
       "\n",
       "   EnclosedPorch  3SsnPorch  ScreenPorch  PoolArea PoolQC Fence MiscFeature  \\\n",
       "0              0          0          166         0    NaN   NaN         NaN   \n",
       "1              0          0            0         0    NaN   NaN         NaN   \n",
       "2             42         86            0         0    NaN   NaN         NaN   \n",
       "3            168          0          111         0    NaN   NaN         NaN   \n",
       "4              0          0            0         0    NaN   NaN         NaN   \n",
       "\n",
       "   MiscVal  MoSold  YrSold SaleType SaleCondition  \n",
       "0        0       3    2010      WD         Normal  \n",
       "1        0       2    2009      WD         Normal  \n",
       "2        0      11    2007      WD         Normal  \n",
       "3        0       5    2009      WD         Normal  \n",
       "4        0      11    2009      WD         Normal  "
      ],
      "text/html": "<div>\n<style scoped>\n    .dataframe tbody tr th:only-of-type {\n        vertical-align: middle;\n    }\n\n    .dataframe tbody tr th {\n        vertical-align: top;\n    }\n\n    .dataframe thead th {\n        text-align: right;\n    }\n</style>\n<table border=\"1\" class=\"dataframe\">\n  <thead>\n    <tr style=\"text-align: right;\">\n      <th></th>\n      <th>PID</th>\n      <th>GrLivArea</th>\n      <th>SalePrice</th>\n      <th>MSSubClass</th>\n      <th>MSZoning</th>\n      <th>LotFrontage</th>\n      <th>LotArea</th>\n      <th>Street</th>\n      <th>Alley</th>\n      <th>LotShape</th>\n      <th>LandContour</th>\n      <th>Utilities</th>\n      <th>LotConfig</th>\n      <th>LandSlope</th>\n      <th>Neighborhood</th>\n      <th>Condition1</th>\n      <th>Condition2</th>\n      <th>BldgType</th>\n      <th>HouseStyle</th>\n      <th>OverallQual</th>\n      <th>OverallCond</th>\n      <th>YearBuilt</th>\n      <th>YearRemodAdd</th>\n      <th>RoofStyle</th>\n      <th>RoofMatl</th>\n      <th>Exterior1st</th>\n      <th>Exterior2nd</th>\n      <th>MasVnrType</th>\n      <th>MasVnrArea</th>\n      <th>ExterQual</th>\n      <th>ExterCond</th>\n      <th>Foundation</th>\n      <th>BsmtQual</th>\n      <th>BsmtCond</th>\n      <th>BsmtExposure</th>\n      <th>BsmtFinType1</th>\n      <th>BsmtFinSF1</th>\n      <th>BsmtFinType2</th>\n      <th>BsmtFinSF2</th>\n      <th>BsmtUnfSF</th>\n      <th>TotalBsmtSF</th>\n      <th>Heating</th>\n      <th>HeatingQC</th>\n      <th>CentralAir</th>\n      <th>Electrical</th>\n      <th>1stFlrSF</th>\n      <th>2ndFlrSF</th>\n      <th>LowQualFinSF</th>\n      <th>BsmtFullBath</th>\n      <th>BsmtHalfBath</th>\n      <th>FullBath</th>\n      <th>HalfBath</th>\n      <th>BedroomAbvGr</th>\n      <th>KitchenAbvGr</th>\n      <th>KitchenQual</th>\n      <th>TotRmsAbvGrd</th>\n      <th>Functional</th>\n      <th>Fireplaces</th>\n      <th>FireplaceQu</th>\n      <th>GarageType</th>\n      <th>GarageYrBlt</th>\n      <th>GarageFinish</th>\n      <th>GarageCars</th>\n      <th>GarageArea</th>\n      <th>GarageQual</th>\n      <th>GarageCond</th>\n      <th>PavedDrive</th>\n      <th>WoodDeckSF</th>\n      <th>OpenPorchSF</th>\n      <th>EnclosedPorch</th>\n      <th>3SsnPorch</th>\n      <th>ScreenPorch</th>\n      <th>PoolArea</th>\n      <th>PoolQC</th>\n      <th>Fence</th>\n      <th>MiscFeature</th>\n      <th>MiscVal</th>\n      <th>MoSold</th>\n      <th>YrSold</th>\n      <th>SaleType</th>\n      <th>SaleCondition</th>\n    </tr>\n  </thead>\n  <tbody>\n    <tr>\n      <th>0</th>\n      <td>909176150</td>\n      <td>856</td>\n      <td>126000</td>\n      <td>30</td>\n      <td>RL</td>\n      <td>NaN</td>\n      <td>7890</td>\n      <td>Pave</td>\n      <td>NaN</td>\n      <td>Reg</td>\n      <td>Lvl</td>\n      <td>AllPub</td>\n      <td>Corner</td>\n      <td>Gtl</td>\n      <td>SWISU</td>\n      <td>Norm</td>\n      <td>Norm</td>\n      <td>1Fam</td>\n      <td>1Story</td>\n      <td>6</td>\n      <td>6</td>\n      <td>1939</td>\n      <td>1950</td>\n      <td>Gable</td>\n      <td>CompShg</td>\n      <td>Wd Sdng</td>\n      <td>Wd Sdng</td>\n      <td>None</td>\n      <td>0.0</td>\n      <td>TA</td>\n      <td>TA</td>\n      <td>CBlock</td>\n      <td>TA</td>\n      <td>TA</td>\n      <td>No</td>\n      <td>Rec</td>\n      <td>238.0</td>\n      <td>Unf</td>\n      <td>0.0</td>\n      <td>618.0</td>\n      <td>856.0</td>\n      <td>GasA</td>\n      <td>TA</td>\n      <td>Y</td>\n      <td>SBrkr</td>\n      <td>856</td>\n      <td>0</td>\n      <td>0</td>\n      <td>1.0</td>\n      <td>0.0</td>\n      <td>1</td>\n      <td>0</td>\n      <td>2</td>\n      <td>1</td>\n      <td>TA</td>\n      <td>4</td>\n      <td>Typ</td>\n      <td>1</td>\n      <td>Gd</td>\n      <td>Detchd</td>\n      <td>1939.0</td>\n      <td>Unf</td>\n      <td>2.0</td>\n      <td>399.0</td>\n      <td>TA</td>\n      <td>TA</td>\n      <td>Y</td>\n      <td>0</td>\n      <td>0</td>\n      <td>0</td>\n      <td>0</td>\n      <td>166</td>\n      <td>0</td>\n      <td>NaN</td>\n      <td>NaN</td>\n      <td>NaN</td>\n      <td>0</td>\n      <td>3</td>\n      <td>2010</td>\n      <td>WD</td>\n      <td>Normal</td>\n    </tr>\n    <tr>\n      <th>1</th>\n      <td>905476230</td>\n      <td>1049</td>\n      <td>139500</td>\n      <td>120</td>\n      <td>RL</td>\n      <td>42.0</td>\n      <td>4235</td>\n      <td>Pave</td>\n      <td>NaN</td>\n      <td>Reg</td>\n      <td>Lvl</td>\n      <td>AllPub</td>\n      <td>Inside</td>\n      <td>Gtl</td>\n      <td>Edwards</td>\n      <td>Norm</td>\n      <td>Norm</td>\n      <td>TwnhsE</td>\n      <td>1Story</td>\n      <td>5</td>\n      <td>5</td>\n      <td>1984</td>\n      <td>1984</td>\n      <td>Gable</td>\n      <td>CompShg</td>\n      <td>HdBoard</td>\n      <td>HdBoard</td>\n      <td>BrkFace</td>\n      <td>149.0</td>\n      <td>Gd</td>\n      <td>TA</td>\n      <td>CBlock</td>\n      <td>Gd</td>\n      <td>TA</td>\n      <td>Mn</td>\n      <td>GLQ</td>\n      <td>552.0</td>\n      <td>ALQ</td>\n      <td>393.0</td>\n      <td>104.0</td>\n      <td>1049.0</td>\n      <td>GasA</td>\n      <td>TA</td>\n      <td>Y</td>\n      <td>SBrkr</td>\n      <td>1049</td>\n      <td>0</td>\n      <td>0</td>\n      <td>1.0</td>\n      <td>0.0</td>\n      <td>2</td>\n      <td>0</td>\n      <td>2</td>\n      <td>1</td>\n      <td>Gd</td>\n      <td>5</td>\n      <td>Typ</td>\n      <td>0</td>\n      <td>NaN</td>\n      <td>Attchd</td>\n      <td>1984.0</td>\n      <td>Fin</td>\n      <td>1.0</td>\n      <td>266.0</td>\n      <td>TA</td>\n      <td>TA</td>\n      <td>Y</td>\n      <td>0</td>\n      <td>105</td>\n      <td>0</td>\n      <td>0</td>\n      <td>0</td>\n      <td>0</td>\n      <td>NaN</td>\n      <td>NaN</td>\n      <td>NaN</td>\n      <td>0</td>\n      <td>2</td>\n      <td>2009</td>\n      <td>WD</td>\n      <td>Normal</td>\n    </tr>\n    <tr>\n      <th>2</th>\n      <td>911128020</td>\n      <td>1001</td>\n      <td>124900</td>\n      <td>30</td>\n      <td>C (all)</td>\n      <td>60.0</td>\n      <td>6060</td>\n      <td>Pave</td>\n      <td>NaN</td>\n      <td>Reg</td>\n      <td>Lvl</td>\n      <td>AllPub</td>\n      <td>Inside</td>\n      <td>Gtl</td>\n      <td>IDOTRR</td>\n      <td>Norm</td>\n      <td>Norm</td>\n      <td>1Fam</td>\n      <td>1Story</td>\n      <td>5</td>\n      <td>9</td>\n      <td>1930</td>\n      <td>2007</td>\n      <td>Hip</td>\n      <td>CompShg</td>\n      <td>MetalSd</td>\n      <td>MetalSd</td>\n      <td>None</td>\n      <td>0.0</td>\n      <td>Gd</td>\n      <td>TA</td>\n      <td>BrkTil</td>\n      <td>TA</td>\n      <td>TA</td>\n      <td>No</td>\n      <td>ALQ</td>\n      <td>737.0</td>\n      <td>Unf</td>\n      <td>0.0</td>\n      <td>100.0</td>\n      <td>837.0</td>\n      <td>GasA</td>\n      <td>Ex</td>\n      <td>Y</td>\n      <td>SBrkr</td>\n      <td>1001</td>\n      <td>0</td>\n      <td>0</td>\n      <td>0.0</td>\n      <td>0.0</td>\n      <td>1</td>\n      <td>0</td>\n      <td>2</td>\n      <td>1</td>\n      <td>Gd</td>\n      <td>5</td>\n      <td>Typ</td>\n      <td>0</td>\n      <td>NaN</td>\n      <td>Detchd</td>\n      <td>1930.0</td>\n      <td>Unf</td>\n      <td>1.0</td>\n      <td>216.0</td>\n      <td>TA</td>\n      <td>Po</td>\n      <td>N</td>\n      <td>154</td>\n      <td>0</td>\n      <td>42</td>\n      <td>86</td>\n      <td>0</td>\n      <td>0</td>\n      <td>NaN</td>\n      <td>NaN</td>\n      <td>NaN</td>\n      <td>0</td>\n      <td>11</td>\n      <td>2007</td>\n      <td>WD</td>\n      <td>Normal</td>\n    </tr>\n    <tr>\n      <th>3</th>\n      <td>535377150</td>\n      <td>1039</td>\n      <td>114000</td>\n      <td>70</td>\n      <td>RL</td>\n      <td>80.0</td>\n      <td>8146</td>\n      <td>Pave</td>\n      <td>NaN</td>\n      <td>Reg</td>\n      <td>Lvl</td>\n      <td>AllPub</td>\n      <td>Corner</td>\n      <td>Gtl</td>\n      <td>OldTown</td>\n      <td>Norm</td>\n      <td>Norm</td>\n      <td>1Fam</td>\n      <td>2Story</td>\n      <td>4</td>\n      <td>8</td>\n      <td>1900</td>\n      <td>2003</td>\n      <td>Gable</td>\n      <td>CompShg</td>\n      <td>MetalSd</td>\n      <td>MetalSd</td>\n      <td>None</td>\n      <td>0.0</td>\n      <td>Gd</td>\n      <td>Gd</td>\n      <td>BrkTil</td>\n      <td>Fa</td>\n      <td>TA</td>\n      <td>No</td>\n      <td>Unf</td>\n      <td>0.0</td>\n      <td>Unf</td>\n      <td>0.0</td>\n      <td>405.0</td>\n      <td>405.0</td>\n      <td>GasA</td>\n      <td>Gd</td>\n      <td>Y</td>\n      <td>SBrkr</td>\n      <td>717</td>\n      <td>322</td>\n      <td>0</td>\n      <td>0.0</td>\n      <td>0.0</td>\n      <td>1</td>\n      <td>0</td>\n      <td>2</td>\n      <td>1</td>\n      <td>TA</td>\n      <td>6</td>\n      <td>Typ</td>\n      <td>0</td>\n      <td>NaN</td>\n      <td>Detchd</td>\n      <td>1940.0</td>\n      <td>Unf</td>\n      <td>1.0</td>\n      <td>281.0</td>\n      <td>TA</td>\n      <td>TA</td>\n      <td>N</td>\n      <td>0</td>\n      <td>0</td>\n      <td>168</td>\n      <td>0</td>\n      <td>111</td>\n      <td>0</td>\n      <td>NaN</td>\n      <td>NaN</td>\n      <td>NaN</td>\n      <td>0</td>\n      <td>5</td>\n      <td>2009</td>\n      <td>WD</td>\n      <td>Normal</td>\n    </tr>\n    <tr>\n      <th>4</th>\n      <td>534177230</td>\n      <td>1665</td>\n      <td>227000</td>\n      <td>60</td>\n      <td>RL</td>\n      <td>70.0</td>\n      <td>8400</td>\n      <td>Pave</td>\n      <td>NaN</td>\n      <td>Reg</td>\n      <td>Lvl</td>\n      <td>AllPub</td>\n      <td>Inside</td>\n      <td>Gtl</td>\n      <td>NWAmes</td>\n      <td>Norm</td>\n      <td>Norm</td>\n      <td>1Fam</td>\n      <td>2Story</td>\n      <td>8</td>\n      <td>6</td>\n      <td>2001</td>\n      <td>2001</td>\n      <td>Gable</td>\n      <td>CompShg</td>\n      <td>VinylSd</td>\n      <td>VinylSd</td>\n      <td>None</td>\n      <td>0.0</td>\n      <td>Gd</td>\n      <td>TA</td>\n      <td>PConc</td>\n      <td>Gd</td>\n      <td>TA</td>\n      <td>No</td>\n      <td>GLQ</td>\n      <td>643.0</td>\n      <td>Unf</td>\n      <td>0.0</td>\n      <td>167.0</td>\n      <td>810.0</td>\n      <td>GasA</td>\n      <td>Ex</td>\n      <td>Y</td>\n      <td>SBrkr</td>\n      <td>810</td>\n      <td>855</td>\n      <td>0</td>\n      <td>1.0</td>\n      <td>0.0</td>\n      <td>2</td>\n      <td>1</td>\n      <td>3</td>\n      <td>1</td>\n      <td>Gd</td>\n      <td>6</td>\n      <td>Typ</td>\n      <td>0</td>\n      <td>NaN</td>\n      <td>Attchd</td>\n      <td>2001.0</td>\n      <td>Fin</td>\n      <td>2.0</td>\n      <td>528.0</td>\n      <td>TA</td>\n      <td>TA</td>\n      <td>Y</td>\n      <td>0</td>\n      <td>45</td>\n      <td>0</td>\n      <td>0</td>\n      <td>0</td>\n      <td>0</td>\n      <td>NaN</td>\n      <td>NaN</td>\n      <td>NaN</td>\n      <td>0</td>\n      <td>11</td>\n      <td>2009</td>\n      <td>WD</td>\n      <td>Normal</td>\n    </tr>\n  </tbody>\n</table>\n</div>"
     },
     "metadata": {},
     "execution_count": 3
    }
   ],
   "source": [
    "raw_data.head()"
   ]
  },
  {
   "cell_type": "code",
   "execution_count": 4,
   "metadata": {},
   "outputs": [],
   "source": [
    "raw_data.drop_duplicates(subset='PID', keep='first', inplace=True)"
   ]
  },
  {
   "cell_type": "code",
   "execution_count": 5,
   "metadata": {},
   "outputs": [],
   "source": [
    "cleaned_data = raw_data.copy()\n",
    "cleaned_data.reset_index(drop=True, inplace=True)"
   ]
  },
  {
   "cell_type": "code",
   "execution_count": 6,
   "metadata": {},
   "outputs": [
    {
     "output_type": "execute_result",
     "data": {
      "text/plain": [
       "            PID  GrLivArea  SalePrice  MSSubClass MSZoning  LotFrontage  \\\n",
       "0     909176150        856     126000          30       RL          NaN   \n",
       "1     905476230       1049     139500         120       RL         42.0   \n",
       "2     911128020       1001     124900          30  C (all)         60.0   \n",
       "3     535377150       1039     114000          70       RL         80.0   \n",
       "4     534177230       1665     227000          60       RL         70.0   \n",
       "...         ...        ...        ...         ...      ...          ...   \n",
       "2563  903205040        952     121000          30       RL          NaN   \n",
       "2564  905402060       1733     139600          20       RL          NaN   \n",
       "2565  909275030       2002     145000          90       RH         82.0   \n",
       "2566  907192040       1842     217500          60       RL          NaN   \n",
       "2567  906223180       1911     215000          60       RL         80.0   \n",
       "\n",
       "      LotArea Street Alley LotShape LandContour Utilities LotConfig LandSlope  \\\n",
       "0        7890   Pave   NaN      Reg         Lvl    AllPub    Corner       Gtl   \n",
       "1        4235   Pave   NaN      Reg         Lvl    AllPub    Inside       Gtl   \n",
       "2        6060   Pave   NaN      Reg         Lvl    AllPub    Inside       Gtl   \n",
       "3        8146   Pave   NaN      Reg         Lvl    AllPub    Corner       Gtl   \n",
       "4        8400   Pave   NaN      Reg         Lvl    AllPub    Inside       Gtl   \n",
       "...       ...    ...   ...      ...         ...       ...       ...       ...   \n",
       "2563     8854   Pave   NaN      Reg         Lvl    AllPub    Inside       Gtl   \n",
       "2564    13680   Pave   NaN      IR1         Lvl    AllPub   CulDSac       Gtl   \n",
       "2565     6270   Pave   NaN      Reg         HLS    AllPub    Inside       Gtl   \n",
       "2566     8826   Pave   NaN      Reg         Lvl    AllPub    Inside       Gtl   \n",
       "2567     9554   Pave   NaN      IR1         Lvl    AllPub    Inside       Gtl   \n",
       "\n",
       "     Neighborhood Condition1 Condition2 BldgType HouseStyle  OverallQual  \\\n",
       "0           SWISU       Norm       Norm     1Fam     1Story            6   \n",
       "1         Edwards       Norm       Norm   TwnhsE     1Story            5   \n",
       "2          IDOTRR       Norm       Norm     1Fam     1Story            5   \n",
       "3         OldTown       Norm       Norm     1Fam     2Story            4   \n",
       "4          NWAmes       Norm       Norm     1Fam     2Story            8   \n",
       "...           ...        ...        ...      ...        ...          ...   \n",
       "2563      BrkSide       Norm       Norm     1Fam     1.5Unf            6   \n",
       "2564      Edwards       Norm       Norm     1Fam     1Story            3   \n",
       "2565      Crawfor       Norm       Norm   Duplex     2Story            5   \n",
       "2566      CollgCr       Norm       Norm     1Fam     2Story            7   \n",
       "2567      SawyerW       Norm       Norm     1Fam     2Story            8   \n",
       "\n",
       "      OverallCond  YearBuilt  YearRemodAdd RoofStyle RoofMatl Exterior1st  \\\n",
       "0               6       1939          1950     Gable  CompShg     Wd Sdng   \n",
       "1               5       1984          1984     Gable  CompShg     HdBoard   \n",
       "2               9       1930          2007       Hip  CompShg     MetalSd   \n",
       "3               8       1900          2003     Gable  CompShg     MetalSd   \n",
       "4               6       2001          2001     Gable  CompShg     VinylSd   \n",
       "...           ...        ...           ...       ...      ...         ...   \n",
       "2563            6       1916          1950     Gable  CompShg     Wd Sdng   \n",
       "2564            5       1955          1955       Hip  CompShg     BrkFace   \n",
       "2565            6       1949          1950     Gable  CompShg     MetalSd   \n",
       "2566            5       2000          2000     Gable  CompShg     VinylSd   \n",
       "2567            5       1993          1994     Gable  CompShg     VinylSd   \n",
       "\n",
       "     Exterior2nd MasVnrType  MasVnrArea ExterQual ExterCond Foundation  \\\n",
       "0        Wd Sdng       None         0.0        TA        TA     CBlock   \n",
       "1        HdBoard    BrkFace       149.0        Gd        TA     CBlock   \n",
       "2        MetalSd       None         0.0        Gd        TA     BrkTil   \n",
       "3        MetalSd       None         0.0        Gd        Gd     BrkTil   \n",
       "4        VinylSd       None         0.0        Gd        TA      PConc   \n",
       "...          ...        ...         ...       ...       ...        ...   \n",
       "2563     Wd Sdng       None         0.0        TA        TA     BrkTil   \n",
       "2564     Wd Sdng       None         0.0        TA        TA       Slab   \n",
       "2565     MetalSd       None         0.0        TA        TA     CBlock   \n",
       "2566     VinylSd    BrkFace       144.0        Gd        TA      PConc   \n",
       "2567     VinylSd    BrkFace       125.0        Gd        TA      PConc   \n",
       "\n",
       "     BsmtQual BsmtCond BsmtExposure BsmtFinType1  BsmtFinSF1 BsmtFinType2  \\\n",
       "0          TA       TA           No          Rec       238.0          Unf   \n",
       "1          Gd       TA           Mn          GLQ       552.0          ALQ   \n",
       "2          TA       TA           No          ALQ       737.0          Unf   \n",
       "3          Fa       TA           No          Unf         0.0          Unf   \n",
       "4          Gd       TA           No          GLQ       643.0          Unf   \n",
       "...       ...      ...          ...          ...         ...          ...   \n",
       "2563       TA       TA           No          Unf         0.0          Unf   \n",
       "2564      NaN      NaN          NaN          NaN         0.0          NaN   \n",
       "2565       TA       TA           No          BLQ       284.0          Unf   \n",
       "2566       Gd       TA           No          GLQ       841.0          Unf   \n",
       "2567       Gd       TA           No          GLQ       380.0          Unf   \n",
       "\n",
       "      BsmtFinSF2  BsmtUnfSF  TotalBsmtSF Heating HeatingQC CentralAir  \\\n",
       "0            0.0      618.0        856.0    GasA        TA          Y   \n",
       "1          393.0      104.0       1049.0    GasA        TA          Y   \n",
       "2            0.0      100.0        837.0    GasA        Ex          Y   \n",
       "3            0.0      405.0        405.0    GasA        Gd          Y   \n",
       "4            0.0      167.0        810.0    GasA        Ex          Y   \n",
       "...          ...        ...          ...     ...       ...        ...   \n",
       "2563         0.0      952.0        952.0    Grav        Fa          N   \n",
       "2564         0.0        0.0          0.0    GasA        Ex          Y   \n",
       "2565         0.0      717.0       1001.0    GasA        TA          N   \n",
       "2566         0.0      144.0        985.0    GasA        Ex          Y   \n",
       "2567         0.0      397.0        777.0    GasA        Ex          Y   \n",
       "\n",
       "     Electrical  1stFlrSF  2ndFlrSF  LowQualFinSF  BsmtFullBath  BsmtHalfBath  \\\n",
       "0         SBrkr       856         0             0           1.0           0.0   \n",
       "1         SBrkr      1049         0             0           1.0           0.0   \n",
       "2         SBrkr      1001         0             0           0.0           0.0   \n",
       "3         SBrkr       717       322             0           0.0           0.0   \n",
       "4         SBrkr       810       855             0           1.0           0.0   \n",
       "...         ...       ...       ...           ...           ...           ...   \n",
       "2563      FuseF       952         0             0           0.0           0.0   \n",
       "2564      FuseA      1733         0             0           0.0           0.0   \n",
       "2565      FuseA      1001      1001             0           0.0           0.0   \n",
       "2566      SBrkr       985       857             0           1.0           0.0   \n",
       "2567      SBrkr      1065       846             0           0.0           0.0   \n",
       "\n",
       "      FullBath  HalfBath  BedroomAbvGr  KitchenAbvGr KitchenQual  \\\n",
       "0            1         0             2             1          TA   \n",
       "1            2         0             2             1          Gd   \n",
       "2            1         0             2             1          Gd   \n",
       "3            1         0             2             1          TA   \n",
       "4            2         1             3             1          Gd   \n",
       "...        ...       ...           ...           ...         ...   \n",
       "2563         1         0             2             1          Fa   \n",
       "2564         2         0             4             1          TA   \n",
       "2565         2         0             4             2          TA   \n",
       "2566         2         1             3             1          Gd   \n",
       "2567         2         1             3             1          Gd   \n",
       "\n",
       "      TotRmsAbvGrd Functional  Fireplaces FireplaceQu GarageType  GarageYrBlt  \\\n",
       "0                4        Typ           1          Gd     Detchd       1939.0   \n",
       "1                5        Typ           0         NaN     Attchd       1984.0   \n",
       "2                5        Typ           0         NaN     Detchd       1930.0   \n",
       "3                6        Typ           0         NaN     Detchd       1940.0   \n",
       "4                6        Typ           0         NaN     Attchd       2001.0   \n",
       "...            ...        ...         ...         ...        ...          ...   \n",
       "2563             4        Typ           1          Gd     Detchd       1916.0   \n",
       "2564             8       Min2           1          Gd     Attchd       1955.0   \n",
       "2565             8        Typ           0         NaN     2Types       1949.0   \n",
       "2566             7        Typ           1          TA     Attchd       2000.0   \n",
       "2567             8        Typ           1          TA     Attchd       1993.0   \n",
       "\n",
       "     GarageFinish  GarageCars  GarageArea GarageQual GarageCond PavedDrive  \\\n",
       "0             Unf         2.0       399.0         TA         TA          Y   \n",
       "1             Fin         1.0       266.0         TA         TA          Y   \n",
       "2             Unf         1.0       216.0         TA         Po          N   \n",
       "3             Unf         1.0       281.0         TA         TA          N   \n",
       "4             Fin         2.0       528.0         TA         TA          Y   \n",
       "...           ...         ...         ...        ...        ...        ...   \n",
       "2563          Unf         1.0       192.0         Fa         Po          P   \n",
       "2564          Unf         2.0       452.0         TA         TA          Y   \n",
       "2565          Unf         3.0       871.0         TA         TA          Y   \n",
       "2566          Fin         2.0       486.0         TA         TA          Y   \n",
       "2567          RFn         2.0       471.0         TA         TA          Y   \n",
       "\n",
       "      WoodDeckSF  OpenPorchSF  EnclosedPorch  3SsnPorch  ScreenPorch  \\\n",
       "0              0            0              0          0          166   \n",
       "1              0          105              0          0            0   \n",
       "2            154            0             42         86            0   \n",
       "3              0            0            168          0          111   \n",
       "4              0           45              0          0            0   \n",
       "...          ...          ...            ...        ...          ...   \n",
       "2563           0           98              0          0           40   \n",
       "2564           0            0              0          0            0   \n",
       "2565           0            0              0          0            0   \n",
       "2566         193           96              0          0            0   \n",
       "2567         182           81              0          0            0   \n",
       "\n",
       "      PoolArea PoolQC Fence MiscFeature  MiscVal  MoSold  YrSold SaleType  \\\n",
       "0            0    NaN   NaN         NaN        0       3    2010      WD    \n",
       "1            0    NaN   NaN         NaN        0       2    2009      WD    \n",
       "2            0    NaN   NaN         NaN        0      11    2007      WD    \n",
       "3            0    NaN   NaN         NaN        0       5    2009      WD    \n",
       "4            0    NaN   NaN         NaN        0      11    2009      WD    \n",
       "...        ...    ...   ...         ...      ...     ...     ...      ...   \n",
       "2563         0    NaN   NaN         NaN        0       5    2009      WD    \n",
       "2564         0    NaN   NaN         NaN        0       6    2009      WD    \n",
       "2565         0    NaN   NaN         NaN        0       8    2007      WD    \n",
       "2566         0    NaN   NaN         NaN        0       7    2007      WD    \n",
       "2567         0    NaN   NaN         NaN        0       9    2006      WD    \n",
       "\n",
       "     SaleCondition  \n",
       "0           Normal  \n",
       "1           Normal  \n",
       "2           Normal  \n",
       "3           Normal  \n",
       "4           Normal  \n",
       "...            ...  \n",
       "2563        Normal  \n",
       "2564        Normal  \n",
       "2565        Normal  \n",
       "2566        Normal  \n",
       "2567        Normal  \n",
       "\n",
       "[2568 rows x 81 columns]"
      ],
      "text/html": "<div>\n<style scoped>\n    .dataframe tbody tr th:only-of-type {\n        vertical-align: middle;\n    }\n\n    .dataframe tbody tr th {\n        vertical-align: top;\n    }\n\n    .dataframe thead th {\n        text-align: right;\n    }\n</style>\n<table border=\"1\" class=\"dataframe\">\n  <thead>\n    <tr style=\"text-align: right;\">\n      <th></th>\n      <th>PID</th>\n      <th>GrLivArea</th>\n      <th>SalePrice</th>\n      <th>MSSubClass</th>\n      <th>MSZoning</th>\n      <th>LotFrontage</th>\n      <th>LotArea</th>\n      <th>Street</th>\n      <th>Alley</th>\n      <th>LotShape</th>\n      <th>LandContour</th>\n      <th>Utilities</th>\n      <th>LotConfig</th>\n      <th>LandSlope</th>\n      <th>Neighborhood</th>\n      <th>Condition1</th>\n      <th>Condition2</th>\n      <th>BldgType</th>\n      <th>HouseStyle</th>\n      <th>OverallQual</th>\n      <th>OverallCond</th>\n      <th>YearBuilt</th>\n      <th>YearRemodAdd</th>\n      <th>RoofStyle</th>\n      <th>RoofMatl</th>\n      <th>Exterior1st</th>\n      <th>Exterior2nd</th>\n      <th>MasVnrType</th>\n      <th>MasVnrArea</th>\n      <th>ExterQual</th>\n      <th>ExterCond</th>\n      <th>Foundation</th>\n      <th>BsmtQual</th>\n      <th>BsmtCond</th>\n      <th>BsmtExposure</th>\n      <th>BsmtFinType1</th>\n      <th>BsmtFinSF1</th>\n      <th>BsmtFinType2</th>\n      <th>BsmtFinSF2</th>\n      <th>BsmtUnfSF</th>\n      <th>TotalBsmtSF</th>\n      <th>Heating</th>\n      <th>HeatingQC</th>\n      <th>CentralAir</th>\n      <th>Electrical</th>\n      <th>1stFlrSF</th>\n      <th>2ndFlrSF</th>\n      <th>LowQualFinSF</th>\n      <th>BsmtFullBath</th>\n      <th>BsmtHalfBath</th>\n      <th>FullBath</th>\n      <th>HalfBath</th>\n      <th>BedroomAbvGr</th>\n      <th>KitchenAbvGr</th>\n      <th>KitchenQual</th>\n      <th>TotRmsAbvGrd</th>\n      <th>Functional</th>\n      <th>Fireplaces</th>\n      <th>FireplaceQu</th>\n      <th>GarageType</th>\n      <th>GarageYrBlt</th>\n      <th>GarageFinish</th>\n      <th>GarageCars</th>\n      <th>GarageArea</th>\n      <th>GarageQual</th>\n      <th>GarageCond</th>\n      <th>PavedDrive</th>\n      <th>WoodDeckSF</th>\n      <th>OpenPorchSF</th>\n      <th>EnclosedPorch</th>\n      <th>3SsnPorch</th>\n      <th>ScreenPorch</th>\n      <th>PoolArea</th>\n      <th>PoolQC</th>\n      <th>Fence</th>\n      <th>MiscFeature</th>\n      <th>MiscVal</th>\n      <th>MoSold</th>\n      <th>YrSold</th>\n      <th>SaleType</th>\n      <th>SaleCondition</th>\n    </tr>\n  </thead>\n  <tbody>\n    <tr>\n      <th>0</th>\n      <td>909176150</td>\n      <td>856</td>\n      <td>126000</td>\n      <td>30</td>\n      <td>RL</td>\n      <td>NaN</td>\n      <td>7890</td>\n      <td>Pave</td>\n      <td>NaN</td>\n      <td>Reg</td>\n      <td>Lvl</td>\n      <td>AllPub</td>\n      <td>Corner</td>\n      <td>Gtl</td>\n      <td>SWISU</td>\n      <td>Norm</td>\n      <td>Norm</td>\n      <td>1Fam</td>\n      <td>1Story</td>\n      <td>6</td>\n      <td>6</td>\n      <td>1939</td>\n      <td>1950</td>\n      <td>Gable</td>\n      <td>CompShg</td>\n      <td>Wd Sdng</td>\n      <td>Wd Sdng</td>\n      <td>None</td>\n      <td>0.0</td>\n      <td>TA</td>\n      <td>TA</td>\n      <td>CBlock</td>\n      <td>TA</td>\n      <td>TA</td>\n      <td>No</td>\n      <td>Rec</td>\n      <td>238.0</td>\n      <td>Unf</td>\n      <td>0.0</td>\n      <td>618.0</td>\n      <td>856.0</td>\n      <td>GasA</td>\n      <td>TA</td>\n      <td>Y</td>\n      <td>SBrkr</td>\n      <td>856</td>\n      <td>0</td>\n      <td>0</td>\n      <td>1.0</td>\n      <td>0.0</td>\n      <td>1</td>\n      <td>0</td>\n      <td>2</td>\n      <td>1</td>\n      <td>TA</td>\n      <td>4</td>\n      <td>Typ</td>\n      <td>1</td>\n      <td>Gd</td>\n      <td>Detchd</td>\n      <td>1939.0</td>\n      <td>Unf</td>\n      <td>2.0</td>\n      <td>399.0</td>\n      <td>TA</td>\n      <td>TA</td>\n      <td>Y</td>\n      <td>0</td>\n      <td>0</td>\n      <td>0</td>\n      <td>0</td>\n      <td>166</td>\n      <td>0</td>\n      <td>NaN</td>\n      <td>NaN</td>\n      <td>NaN</td>\n      <td>0</td>\n      <td>3</td>\n      <td>2010</td>\n      <td>WD</td>\n      <td>Normal</td>\n    </tr>\n    <tr>\n      <th>1</th>\n      <td>905476230</td>\n      <td>1049</td>\n      <td>139500</td>\n      <td>120</td>\n      <td>RL</td>\n      <td>42.0</td>\n      <td>4235</td>\n      <td>Pave</td>\n      <td>NaN</td>\n      <td>Reg</td>\n      <td>Lvl</td>\n      <td>AllPub</td>\n      <td>Inside</td>\n      <td>Gtl</td>\n      <td>Edwards</td>\n      <td>Norm</td>\n      <td>Norm</td>\n      <td>TwnhsE</td>\n      <td>1Story</td>\n      <td>5</td>\n      <td>5</td>\n      <td>1984</td>\n      <td>1984</td>\n      <td>Gable</td>\n      <td>CompShg</td>\n      <td>HdBoard</td>\n      <td>HdBoard</td>\n      <td>BrkFace</td>\n      <td>149.0</td>\n      <td>Gd</td>\n      <td>TA</td>\n      <td>CBlock</td>\n      <td>Gd</td>\n      <td>TA</td>\n      <td>Mn</td>\n      <td>GLQ</td>\n      <td>552.0</td>\n      <td>ALQ</td>\n      <td>393.0</td>\n      <td>104.0</td>\n      <td>1049.0</td>\n      <td>GasA</td>\n      <td>TA</td>\n      <td>Y</td>\n      <td>SBrkr</td>\n      <td>1049</td>\n      <td>0</td>\n      <td>0</td>\n      <td>1.0</td>\n      <td>0.0</td>\n      <td>2</td>\n      <td>0</td>\n      <td>2</td>\n      <td>1</td>\n      <td>Gd</td>\n      <td>5</td>\n      <td>Typ</td>\n      <td>0</td>\n      <td>NaN</td>\n      <td>Attchd</td>\n      <td>1984.0</td>\n      <td>Fin</td>\n      <td>1.0</td>\n      <td>266.0</td>\n      <td>TA</td>\n      <td>TA</td>\n      <td>Y</td>\n      <td>0</td>\n      <td>105</td>\n      <td>0</td>\n      <td>0</td>\n      <td>0</td>\n      <td>0</td>\n      <td>NaN</td>\n      <td>NaN</td>\n      <td>NaN</td>\n      <td>0</td>\n      <td>2</td>\n      <td>2009</td>\n      <td>WD</td>\n      <td>Normal</td>\n    </tr>\n    <tr>\n      <th>2</th>\n      <td>911128020</td>\n      <td>1001</td>\n      <td>124900</td>\n      <td>30</td>\n      <td>C (all)</td>\n      <td>60.0</td>\n      <td>6060</td>\n      <td>Pave</td>\n      <td>NaN</td>\n      <td>Reg</td>\n      <td>Lvl</td>\n      <td>AllPub</td>\n      <td>Inside</td>\n      <td>Gtl</td>\n      <td>IDOTRR</td>\n      <td>Norm</td>\n      <td>Norm</td>\n      <td>1Fam</td>\n      <td>1Story</td>\n      <td>5</td>\n      <td>9</td>\n      <td>1930</td>\n      <td>2007</td>\n      <td>Hip</td>\n      <td>CompShg</td>\n      <td>MetalSd</td>\n      <td>MetalSd</td>\n      <td>None</td>\n      <td>0.0</td>\n      <td>Gd</td>\n      <td>TA</td>\n      <td>BrkTil</td>\n      <td>TA</td>\n      <td>TA</td>\n      <td>No</td>\n      <td>ALQ</td>\n      <td>737.0</td>\n      <td>Unf</td>\n      <td>0.0</td>\n      <td>100.0</td>\n      <td>837.0</td>\n      <td>GasA</td>\n      <td>Ex</td>\n      <td>Y</td>\n      <td>SBrkr</td>\n      <td>1001</td>\n      <td>0</td>\n      <td>0</td>\n      <td>0.0</td>\n      <td>0.0</td>\n      <td>1</td>\n      <td>0</td>\n      <td>2</td>\n      <td>1</td>\n      <td>Gd</td>\n      <td>5</td>\n      <td>Typ</td>\n      <td>0</td>\n      <td>NaN</td>\n      <td>Detchd</td>\n      <td>1930.0</td>\n      <td>Unf</td>\n      <td>1.0</td>\n      <td>216.0</td>\n      <td>TA</td>\n      <td>Po</td>\n      <td>N</td>\n      <td>154</td>\n      <td>0</td>\n      <td>42</td>\n      <td>86</td>\n      <td>0</td>\n      <td>0</td>\n      <td>NaN</td>\n      <td>NaN</td>\n      <td>NaN</td>\n      <td>0</td>\n      <td>11</td>\n      <td>2007</td>\n      <td>WD</td>\n      <td>Normal</td>\n    </tr>\n    <tr>\n      <th>3</th>\n      <td>535377150</td>\n      <td>1039</td>\n      <td>114000</td>\n      <td>70</td>\n      <td>RL</td>\n      <td>80.0</td>\n      <td>8146</td>\n      <td>Pave</td>\n      <td>NaN</td>\n      <td>Reg</td>\n      <td>Lvl</td>\n      <td>AllPub</td>\n      <td>Corner</td>\n      <td>Gtl</td>\n      <td>OldTown</td>\n      <td>Norm</td>\n      <td>Norm</td>\n      <td>1Fam</td>\n      <td>2Story</td>\n      <td>4</td>\n      <td>8</td>\n      <td>1900</td>\n      <td>2003</td>\n      <td>Gable</td>\n      <td>CompShg</td>\n      <td>MetalSd</td>\n      <td>MetalSd</td>\n      <td>None</td>\n      <td>0.0</td>\n      <td>Gd</td>\n      <td>Gd</td>\n      <td>BrkTil</td>\n      <td>Fa</td>\n      <td>TA</td>\n      <td>No</td>\n      <td>Unf</td>\n      <td>0.0</td>\n      <td>Unf</td>\n      <td>0.0</td>\n      <td>405.0</td>\n      <td>405.0</td>\n      <td>GasA</td>\n      <td>Gd</td>\n      <td>Y</td>\n      <td>SBrkr</td>\n      <td>717</td>\n      <td>322</td>\n      <td>0</td>\n      <td>0.0</td>\n      <td>0.0</td>\n      <td>1</td>\n      <td>0</td>\n      <td>2</td>\n      <td>1</td>\n      <td>TA</td>\n      <td>6</td>\n      <td>Typ</td>\n      <td>0</td>\n      <td>NaN</td>\n      <td>Detchd</td>\n      <td>1940.0</td>\n      <td>Unf</td>\n      <td>1.0</td>\n      <td>281.0</td>\n      <td>TA</td>\n      <td>TA</td>\n      <td>N</td>\n      <td>0</td>\n      <td>0</td>\n      <td>168</td>\n      <td>0</td>\n      <td>111</td>\n      <td>0</td>\n      <td>NaN</td>\n      <td>NaN</td>\n      <td>NaN</td>\n      <td>0</td>\n      <td>5</td>\n      <td>2009</td>\n      <td>WD</td>\n      <td>Normal</td>\n    </tr>\n    <tr>\n      <th>4</th>\n      <td>534177230</td>\n      <td>1665</td>\n      <td>227000</td>\n      <td>60</td>\n      <td>RL</td>\n      <td>70.0</td>\n      <td>8400</td>\n      <td>Pave</td>\n      <td>NaN</td>\n      <td>Reg</td>\n      <td>Lvl</td>\n      <td>AllPub</td>\n      <td>Inside</td>\n      <td>Gtl</td>\n      <td>NWAmes</td>\n      <td>Norm</td>\n      <td>Norm</td>\n      <td>1Fam</td>\n      <td>2Story</td>\n      <td>8</td>\n      <td>6</td>\n      <td>2001</td>\n      <td>2001</td>\n      <td>Gable</td>\n      <td>CompShg</td>\n      <td>VinylSd</td>\n      <td>VinylSd</td>\n      <td>None</td>\n      <td>0.0</td>\n      <td>Gd</td>\n      <td>TA</td>\n      <td>PConc</td>\n      <td>Gd</td>\n      <td>TA</td>\n      <td>No</td>\n      <td>GLQ</td>\n      <td>643.0</td>\n      <td>Unf</td>\n      <td>0.0</td>\n      <td>167.0</td>\n      <td>810.0</td>\n      <td>GasA</td>\n      <td>Ex</td>\n      <td>Y</td>\n      <td>SBrkr</td>\n      <td>810</td>\n      <td>855</td>\n      <td>0</td>\n      <td>1.0</td>\n      <td>0.0</td>\n      <td>2</td>\n      <td>1</td>\n      <td>3</td>\n      <td>1</td>\n      <td>Gd</td>\n      <td>6</td>\n      <td>Typ</td>\n      <td>0</td>\n      <td>NaN</td>\n      <td>Attchd</td>\n      <td>2001.0</td>\n      <td>Fin</td>\n      <td>2.0</td>\n      <td>528.0</td>\n      <td>TA</td>\n      <td>TA</td>\n      <td>Y</td>\n      <td>0</td>\n      <td>45</td>\n      <td>0</td>\n      <td>0</td>\n      <td>0</td>\n      <td>0</td>\n      <td>NaN</td>\n      <td>NaN</td>\n      <td>NaN</td>\n      <td>0</td>\n      <td>11</td>\n      <td>2009</td>\n      <td>WD</td>\n      <td>Normal</td>\n    </tr>\n    <tr>\n      <th>...</th>\n      <td>...</td>\n      <td>...</td>\n      <td>...</td>\n      <td>...</td>\n      <td>...</td>\n      <td>...</td>\n      <td>...</td>\n      <td>...</td>\n      <td>...</td>\n      <td>...</td>\n      <td>...</td>\n      <td>...</td>\n      <td>...</td>\n      <td>...</td>\n      <td>...</td>\n      <td>...</td>\n      <td>...</td>\n      <td>...</td>\n      <td>...</td>\n      <td>...</td>\n      <td>...</td>\n      <td>...</td>\n      <td>...</td>\n      <td>...</td>\n      <td>...</td>\n      <td>...</td>\n      <td>...</td>\n      <td>...</td>\n      <td>...</td>\n      <td>...</td>\n      <td>...</td>\n      <td>...</td>\n      <td>...</td>\n      <td>...</td>\n      <td>...</td>\n      <td>...</td>\n      <td>...</td>\n      <td>...</td>\n      <td>...</td>\n      <td>...</td>\n      <td>...</td>\n      <td>...</td>\n      <td>...</td>\n      <td>...</td>\n      <td>...</td>\n      <td>...</td>\n      <td>...</td>\n      <td>...</td>\n      <td>...</td>\n      <td>...</td>\n      <td>...</td>\n      <td>...</td>\n      <td>...</td>\n      <td>...</td>\n      <td>...</td>\n      <td>...</td>\n      <td>...</td>\n      <td>...</td>\n      <td>...</td>\n      <td>...</td>\n      <td>...</td>\n      <td>...</td>\n      <td>...</td>\n      <td>...</td>\n      <td>...</td>\n      <td>...</td>\n      <td>...</td>\n      <td>...</td>\n      <td>...</td>\n      <td>...</td>\n      <td>...</td>\n      <td>...</td>\n      <td>...</td>\n      <td>...</td>\n      <td>...</td>\n      <td>...</td>\n      <td>...</td>\n      <td>...</td>\n      <td>...</td>\n      <td>...</td>\n      <td>...</td>\n    </tr>\n    <tr>\n      <th>2563</th>\n      <td>903205040</td>\n      <td>952</td>\n      <td>121000</td>\n      <td>30</td>\n      <td>RL</td>\n      <td>NaN</td>\n      <td>8854</td>\n      <td>Pave</td>\n      <td>NaN</td>\n      <td>Reg</td>\n      <td>Lvl</td>\n      <td>AllPub</td>\n      <td>Inside</td>\n      <td>Gtl</td>\n      <td>BrkSide</td>\n      <td>Norm</td>\n      <td>Norm</td>\n      <td>1Fam</td>\n      <td>1.5Unf</td>\n      <td>6</td>\n      <td>6</td>\n      <td>1916</td>\n      <td>1950</td>\n      <td>Gable</td>\n      <td>CompShg</td>\n      <td>Wd Sdng</td>\n      <td>Wd Sdng</td>\n      <td>None</td>\n      <td>0.0</td>\n      <td>TA</td>\n      <td>TA</td>\n      <td>BrkTil</td>\n      <td>TA</td>\n      <td>TA</td>\n      <td>No</td>\n      <td>Unf</td>\n      <td>0.0</td>\n      <td>Unf</td>\n      <td>0.0</td>\n      <td>952.0</td>\n      <td>952.0</td>\n      <td>Grav</td>\n      <td>Fa</td>\n      <td>N</td>\n      <td>FuseF</td>\n      <td>952</td>\n      <td>0</td>\n      <td>0</td>\n      <td>0.0</td>\n      <td>0.0</td>\n      <td>1</td>\n      <td>0</td>\n      <td>2</td>\n      <td>1</td>\n      <td>Fa</td>\n      <td>4</td>\n      <td>Typ</td>\n      <td>1</td>\n      <td>Gd</td>\n      <td>Detchd</td>\n      <td>1916.0</td>\n      <td>Unf</td>\n      <td>1.0</td>\n      <td>192.0</td>\n      <td>Fa</td>\n      <td>Po</td>\n      <td>P</td>\n      <td>0</td>\n      <td>98</td>\n      <td>0</td>\n      <td>0</td>\n      <td>40</td>\n      <td>0</td>\n      <td>NaN</td>\n      <td>NaN</td>\n      <td>NaN</td>\n      <td>0</td>\n      <td>5</td>\n      <td>2009</td>\n      <td>WD</td>\n      <td>Normal</td>\n    </tr>\n    <tr>\n      <th>2564</th>\n      <td>905402060</td>\n      <td>1733</td>\n      <td>139600</td>\n      <td>20</td>\n      <td>RL</td>\n      <td>NaN</td>\n      <td>13680</td>\n      <td>Pave</td>\n      <td>NaN</td>\n      <td>IR1</td>\n      <td>Lvl</td>\n      <td>AllPub</td>\n      <td>CulDSac</td>\n      <td>Gtl</td>\n      <td>Edwards</td>\n      <td>Norm</td>\n      <td>Norm</td>\n      <td>1Fam</td>\n      <td>1Story</td>\n      <td>3</td>\n      <td>5</td>\n      <td>1955</td>\n      <td>1955</td>\n      <td>Hip</td>\n      <td>CompShg</td>\n      <td>BrkFace</td>\n      <td>Wd Sdng</td>\n      <td>None</td>\n      <td>0.0</td>\n      <td>TA</td>\n      <td>TA</td>\n      <td>Slab</td>\n      <td>NaN</td>\n      <td>NaN</td>\n      <td>NaN</td>\n      <td>NaN</td>\n      <td>0.0</td>\n      <td>NaN</td>\n      <td>0.0</td>\n      <td>0.0</td>\n      <td>0.0</td>\n      <td>GasA</td>\n      <td>Ex</td>\n      <td>Y</td>\n      <td>FuseA</td>\n      <td>1733</td>\n      <td>0</td>\n      <td>0</td>\n      <td>0.0</td>\n      <td>0.0</td>\n      <td>2</td>\n      <td>0</td>\n      <td>4</td>\n      <td>1</td>\n      <td>TA</td>\n      <td>8</td>\n      <td>Min2</td>\n      <td>1</td>\n      <td>Gd</td>\n      <td>Attchd</td>\n      <td>1955.0</td>\n      <td>Unf</td>\n      <td>2.0</td>\n      <td>452.0</td>\n      <td>TA</td>\n      <td>TA</td>\n      <td>Y</td>\n      <td>0</td>\n      <td>0</td>\n      <td>0</td>\n      <td>0</td>\n      <td>0</td>\n      <td>0</td>\n      <td>NaN</td>\n      <td>NaN</td>\n      <td>NaN</td>\n      <td>0</td>\n      <td>6</td>\n      <td>2009</td>\n      <td>WD</td>\n      <td>Normal</td>\n    </tr>\n    <tr>\n      <th>2565</th>\n      <td>909275030</td>\n      <td>2002</td>\n      <td>145000</td>\n      <td>90</td>\n      <td>RH</td>\n      <td>82.0</td>\n      <td>6270</td>\n      <td>Pave</td>\n      <td>NaN</td>\n      <td>Reg</td>\n      <td>HLS</td>\n      <td>AllPub</td>\n      <td>Inside</td>\n      <td>Gtl</td>\n      <td>Crawfor</td>\n      <td>Norm</td>\n      <td>Norm</td>\n      <td>Duplex</td>\n      <td>2Story</td>\n      <td>5</td>\n      <td>6</td>\n      <td>1949</td>\n      <td>1950</td>\n      <td>Gable</td>\n      <td>CompShg</td>\n      <td>MetalSd</td>\n      <td>MetalSd</td>\n      <td>None</td>\n      <td>0.0</td>\n      <td>TA</td>\n      <td>TA</td>\n      <td>CBlock</td>\n      <td>TA</td>\n      <td>TA</td>\n      <td>No</td>\n      <td>BLQ</td>\n      <td>284.0</td>\n      <td>Unf</td>\n      <td>0.0</td>\n      <td>717.0</td>\n      <td>1001.0</td>\n      <td>GasA</td>\n      <td>TA</td>\n      <td>N</td>\n      <td>FuseA</td>\n      <td>1001</td>\n      <td>1001</td>\n      <td>0</td>\n      <td>0.0</td>\n      <td>0.0</td>\n      <td>2</td>\n      <td>0</td>\n      <td>4</td>\n      <td>2</td>\n      <td>TA</td>\n      <td>8</td>\n      <td>Typ</td>\n      <td>0</td>\n      <td>NaN</td>\n      <td>2Types</td>\n      <td>1949.0</td>\n      <td>Unf</td>\n      <td>3.0</td>\n      <td>871.0</td>\n      <td>TA</td>\n      <td>TA</td>\n      <td>Y</td>\n      <td>0</td>\n      <td>0</td>\n      <td>0</td>\n      <td>0</td>\n      <td>0</td>\n      <td>0</td>\n      <td>NaN</td>\n      <td>NaN</td>\n      <td>NaN</td>\n      <td>0</td>\n      <td>8</td>\n      <td>2007</td>\n      <td>WD</td>\n      <td>Normal</td>\n    </tr>\n    <tr>\n      <th>2566</th>\n      <td>907192040</td>\n      <td>1842</td>\n      <td>217500</td>\n      <td>60</td>\n      <td>RL</td>\n      <td>NaN</td>\n      <td>8826</td>\n      <td>Pave</td>\n      <td>NaN</td>\n      <td>Reg</td>\n      <td>Lvl</td>\n      <td>AllPub</td>\n      <td>Inside</td>\n      <td>Gtl</td>\n      <td>CollgCr</td>\n      <td>Norm</td>\n      <td>Norm</td>\n      <td>1Fam</td>\n      <td>2Story</td>\n      <td>7</td>\n      <td>5</td>\n      <td>2000</td>\n      <td>2000</td>\n      <td>Gable</td>\n      <td>CompShg</td>\n      <td>VinylSd</td>\n      <td>VinylSd</td>\n      <td>BrkFace</td>\n      <td>144.0</td>\n      <td>Gd</td>\n      <td>TA</td>\n      <td>PConc</td>\n      <td>Gd</td>\n      <td>TA</td>\n      <td>No</td>\n      <td>GLQ</td>\n      <td>841.0</td>\n      <td>Unf</td>\n      <td>0.0</td>\n      <td>144.0</td>\n      <td>985.0</td>\n      <td>GasA</td>\n      <td>Ex</td>\n      <td>Y</td>\n      <td>SBrkr</td>\n      <td>985</td>\n      <td>857</td>\n      <td>0</td>\n      <td>1.0</td>\n      <td>0.0</td>\n      <td>2</td>\n      <td>1</td>\n      <td>3</td>\n      <td>1</td>\n      <td>Gd</td>\n      <td>7</td>\n      <td>Typ</td>\n      <td>1</td>\n      <td>TA</td>\n      <td>Attchd</td>\n      <td>2000.0</td>\n      <td>Fin</td>\n      <td>2.0</td>\n      <td>486.0</td>\n      <td>TA</td>\n      <td>TA</td>\n      <td>Y</td>\n      <td>193</td>\n      <td>96</td>\n      <td>0</td>\n      <td>0</td>\n      <td>0</td>\n      <td>0</td>\n      <td>NaN</td>\n      <td>NaN</td>\n      <td>NaN</td>\n      <td>0</td>\n      <td>7</td>\n      <td>2007</td>\n      <td>WD</td>\n      <td>Normal</td>\n    </tr>\n    <tr>\n      <th>2567</th>\n      <td>906223180</td>\n      <td>1911</td>\n      <td>215000</td>\n      <td>60</td>\n      <td>RL</td>\n      <td>80.0</td>\n      <td>9554</td>\n      <td>Pave</td>\n      <td>NaN</td>\n      <td>IR1</td>\n      <td>Lvl</td>\n      <td>AllPub</td>\n      <td>Inside</td>\n      <td>Gtl</td>\n      <td>SawyerW</td>\n      <td>Norm</td>\n      <td>Norm</td>\n      <td>1Fam</td>\n      <td>2Story</td>\n      <td>8</td>\n      <td>5</td>\n      <td>1993</td>\n      <td>1994</td>\n      <td>Gable</td>\n      <td>CompShg</td>\n      <td>VinylSd</td>\n      <td>VinylSd</td>\n      <td>BrkFace</td>\n      <td>125.0</td>\n      <td>Gd</td>\n      <td>TA</td>\n      <td>PConc</td>\n      <td>Gd</td>\n      <td>TA</td>\n      <td>No</td>\n      <td>GLQ</td>\n      <td>380.0</td>\n      <td>Unf</td>\n      <td>0.0</td>\n      <td>397.0</td>\n      <td>777.0</td>\n      <td>GasA</td>\n      <td>Ex</td>\n      <td>Y</td>\n      <td>SBrkr</td>\n      <td>1065</td>\n      <td>846</td>\n      <td>0</td>\n      <td>0.0</td>\n      <td>0.0</td>\n      <td>2</td>\n      <td>1</td>\n      <td>3</td>\n      <td>1</td>\n      <td>Gd</td>\n      <td>8</td>\n      <td>Typ</td>\n      <td>1</td>\n      <td>TA</td>\n      <td>Attchd</td>\n      <td>1993.0</td>\n      <td>RFn</td>\n      <td>2.0</td>\n      <td>471.0</td>\n      <td>TA</td>\n      <td>TA</td>\n      <td>Y</td>\n      <td>182</td>\n      <td>81</td>\n      <td>0</td>\n      <td>0</td>\n      <td>0</td>\n      <td>0</td>\n      <td>NaN</td>\n      <td>NaN</td>\n      <td>NaN</td>\n      <td>0</td>\n      <td>9</td>\n      <td>2006</td>\n      <td>WD</td>\n      <td>Normal</td>\n    </tr>\n  </tbody>\n</table>\n<p>2568 rows × 81 columns</p>\n</div>"
     },
     "metadata": {},
     "execution_count": 6
    }
   ],
   "source": [
    "cleaned_data"
   ]
  },
  {
   "source": [
    "# Check where the missing values are"
   ],
   "cell_type": "markdown",
   "metadata": {}
  },
  {
   "cell_type": "code",
   "execution_count": 187,
   "metadata": {},
   "outputs": [
    {
     "output_type": "stream",
     "name": "stdout",
     "text": [
      "False    2568\nName: PID, dtype: int64\nFalse    2568\nName: GrLivArea, dtype: int64\nFalse    2568\nName: SalePrice, dtype: int64\nFalse    2568\nName: MSSubClass, dtype: int64\nFalse    2568\nName: MSZoning, dtype: int64\nFalse    2568\nName: LotFrontage, dtype: int64\nFalse    2568\nName: LotArea, dtype: int64\nFalse    2568\nName: Street, dtype: int64\nFalse    2568\nName: Alley, dtype: int64\nFalse    2568\nName: LotShape, dtype: int64\nFalse    2568\nName: LandContour, dtype: int64\nFalse    2568\nName: Utilities, dtype: int64\nFalse    2568\nName: LotConfig, dtype: int64\nFalse    2568\nName: LandSlope, dtype: int64\nFalse    2568\nName: Neighborhood, dtype: int64\nFalse    2568\nName: Condition1, dtype: int64\nFalse    2568\nName: Condition2, dtype: int64\nFalse    2568\nName: BldgType, dtype: int64\nFalse    2568\nName: HouseStyle, dtype: int64\nFalse    2568\nName: OverallQual, dtype: int64\nFalse    2568\nName: OverallCond, dtype: int64\nFalse    2568\nName: YearBuilt, dtype: int64\nFalse    2568\nName: YearRemodAdd, dtype: int64\nFalse    2568\nName: RoofStyle, dtype: int64\nFalse    2568\nName: RoofMatl, dtype: int64\nFalse    2568\nName: Exterior1st, dtype: int64\nFalse    2568\nName: Exterior2nd, dtype: int64\nFalse    2568\nName: MasVnrType, dtype: int64\nFalse    2568\nName: MasVnrArea, dtype: int64\nFalse    2568\nName: ExterQual, dtype: int64\nFalse    2568\nName: ExterCond, dtype: int64\nFalse    2568\nName: Foundation, dtype: int64\nFalse    2568\nName: BsmtQual, dtype: int64\nFalse    2568\nName: BsmtCond, dtype: int64\nFalse    2568\nName: BsmtExposure, dtype: int64\nFalse    2568\nName: BsmtFinType1, dtype: int64\nFalse    2568\nName: BsmtFinSF1, dtype: int64\nFalse    2568\nName: BsmtFinType2, dtype: int64\nFalse    2568\nName: BsmtFinSF2, dtype: int64\nFalse    2568\nName: BsmtUnfSF, dtype: int64\nFalse    2568\nName: TotalBsmtSF, dtype: int64\nFalse    2568\nName: Heating, dtype: int64\nFalse    2568\nName: HeatingQC, dtype: int64\nFalse    2568\nName: CentralAir, dtype: int64\nFalse    2568\nName: Electrical, dtype: int64\nFalse    2568\nName: 1stFlrSF, dtype: int64\nFalse    2568\nName: 2ndFlrSF, dtype: int64\nFalse    2568\nName: LowQualFinSF, dtype: int64\nFalse    2568\nName: BsmtFullBath, dtype: int64\nFalse    2568\nName: BsmtHalfBath, dtype: int64\nFalse    2568\nName: FullBath, dtype: int64\nFalse    2568\nName: HalfBath, dtype: int64\nFalse    2568\nName: BedroomAbvGr, dtype: int64\nFalse    2568\nName: KitchenAbvGr, dtype: int64\nFalse    2568\nName: KitchenQual, dtype: int64\nFalse    2568\nName: TotRmsAbvGrd, dtype: int64\nFalse    2568\nName: Functional, dtype: int64\nFalse    2568\nName: Fireplaces, dtype: int64\nFalse    2568\nName: FireplaceQu, dtype: int64\nFalse    2568\nName: GarageType, dtype: int64\nFalse    2568\nName: GarageYrBlt, dtype: int64\nFalse    2568\nName: GarageFinish, dtype: int64\nFalse    2568\nName: GarageCars, dtype: int64\nFalse    2568\nName: GarageArea, dtype: int64\nFalse    2568\nName: GarageQual, dtype: int64\nFalse    2568\nName: GarageCond, dtype: int64\nFalse    2568\nName: PavedDrive, dtype: int64\nFalse    2568\nName: WoodDeckSF, dtype: int64\nFalse    2568\nName: OpenPorchSF, dtype: int64\nFalse    2568\nName: EnclosedPorch, dtype: int64\nFalse    2568\nName: 3SsnPorch, dtype: int64\nFalse    2568\nName: ScreenPorch, dtype: int64\nFalse    2568\nName: PoolArea, dtype: int64\nFalse    2568\nName: PoolQC, dtype: int64\nFalse    2568\nName: Fence, dtype: int64\nFalse    2568\nName: MiscFeature, dtype: int64\nFalse    2568\nName: MiscVal, dtype: int64\nFalse    2568\nName: MoSold, dtype: int64\nFalse    2568\nName: YrSold, dtype: int64\nFalse    2568\nName: SaleType, dtype: int64\nFalse    2568\nName: SaleCondition, dtype: int64\n"
     ]
    }
   ],
   "source": [
    "for col in cleaned_data.columns:\n",
    "    print(cleaned_data[col].isna().value_counts())"
   ]
  },
  {
   "source": [
    "## KNN Impute LotFrontage"
   ],
   "cell_type": "markdown",
   "metadata": {}
  },
  {
   "source": [
    "Impute using KNN. Features to consider:\n",
    "- GrLivArea\n",
    "- LotArea\n",
    "- LotShape\n",
    "- LandContour\n",
    "- LotConfig\n",
    "- Neighborhood\n",
    "\n",
    "No missing values for any of those\n"
   ],
   "cell_type": "markdown",
   "metadata": {}
  },
  {
   "source": [
    "First we have to encode the categorical variables"
   ],
   "cell_type": "markdown",
   "metadata": {}
  },
  {
   "cell_type": "code",
   "execution_count": 8,
   "metadata": {},
   "outputs": [],
   "source": [
    "enc = OneHotEncoder(handle_unknown='ignore')\n",
    "categoical_lotDF = raw_data[['LotShape', 'LandContour', 'LotConfig', 'Neighborhood']]\n",
    "\n",
    "encoded_values = enc.fit_transform(categoical_lotDF)\n"
   ]
  },
  {
   "cell_type": "code",
   "execution_count": 9,
   "metadata": {},
   "outputs": [],
   "source": [
    "numerical_lotDF = raw_data.loc[:,['LotFrontage','GrLivArea', 'LotArea']]\n",
    "numerical_lotDF.reset_index(drop=True, inplace=True)"
   ]
  },
  {
   "cell_type": "code",
   "execution_count": 10,
   "metadata": {},
   "outputs": [],
   "source": [
    "lotDF = pd.DataFrame(data=encoded_values.toarray(), columns=enc.get_feature_names())\n",
    "lotDF.reset_index(drop=True, inplace=True)"
   ]
  },
  {
   "cell_type": "code",
   "execution_count": 11,
   "metadata": {},
   "outputs": [
    {
     "output_type": "execute_result",
     "data": {
      "text/plain": [
       "      x0_IR1  x0_IR2  x0_IR3  x0_Reg  x1_Bnk  x1_HLS  x1_Low  x1_Lvl  \\\n",
       "0        0.0     0.0     0.0     1.0     0.0     0.0     0.0     1.0   \n",
       "1        0.0     0.0     0.0     1.0     0.0     0.0     0.0     1.0   \n",
       "2        0.0     0.0     0.0     1.0     0.0     0.0     0.0     1.0   \n",
       "3        0.0     0.0     0.0     1.0     0.0     0.0     0.0     1.0   \n",
       "4        0.0     0.0     0.0     1.0     0.0     0.0     0.0     1.0   \n",
       "...      ...     ...     ...     ...     ...     ...     ...     ...   \n",
       "2563     0.0     0.0     0.0     1.0     0.0     0.0     0.0     1.0   \n",
       "2564     1.0     0.0     0.0     0.0     0.0     0.0     0.0     1.0   \n",
       "2565     0.0     0.0     0.0     1.0     0.0     1.0     0.0     0.0   \n",
       "2566     0.0     0.0     0.0     1.0     0.0     0.0     0.0     1.0   \n",
       "2567     1.0     0.0     0.0     0.0     0.0     0.0     0.0     1.0   \n",
       "\n",
       "      x2_Corner  x2_CulDSac  x2_FR2  x2_FR3  x2_Inside  x3_Blmngtn  \\\n",
       "0           1.0         0.0     0.0     0.0        0.0         0.0   \n",
       "1           0.0         0.0     0.0     0.0        1.0         0.0   \n",
       "2           0.0         0.0     0.0     0.0        1.0         0.0   \n",
       "3           1.0         0.0     0.0     0.0        0.0         0.0   \n",
       "4           0.0         0.0     0.0     0.0        1.0         0.0   \n",
       "...         ...         ...     ...     ...        ...         ...   \n",
       "2563        0.0         0.0     0.0     0.0        1.0         0.0   \n",
       "2564        0.0         1.0     0.0     0.0        0.0         0.0   \n",
       "2565        0.0         0.0     0.0     0.0        1.0         0.0   \n",
       "2566        0.0         0.0     0.0     0.0        1.0         0.0   \n",
       "2567        0.0         0.0     0.0     0.0        1.0         0.0   \n",
       "\n",
       "      x3_Blueste  x3_BrDale  x3_BrkSide  x3_ClearCr  x3_CollgCr  x3_Crawfor  \\\n",
       "0            0.0        0.0         0.0         0.0         0.0         0.0   \n",
       "1            0.0        0.0         0.0         0.0         0.0         0.0   \n",
       "2            0.0        0.0         0.0         0.0         0.0         0.0   \n",
       "3            0.0        0.0         0.0         0.0         0.0         0.0   \n",
       "4            0.0        0.0         0.0         0.0         0.0         0.0   \n",
       "...          ...        ...         ...         ...         ...         ...   \n",
       "2563         0.0        0.0         1.0         0.0         0.0         0.0   \n",
       "2564         0.0        0.0         0.0         0.0         0.0         0.0   \n",
       "2565         0.0        0.0         0.0         0.0         0.0         1.0   \n",
       "2566         0.0        0.0         0.0         0.0         1.0         0.0   \n",
       "2567         0.0        0.0         0.0         0.0         0.0         0.0   \n",
       "\n",
       "      x3_Edwards  x3_Gilbert  x3_IDOTRR  x3_MeadowV  x3_Mitchel  x3_NAmes  \\\n",
       "0            0.0         0.0        0.0         0.0         0.0       0.0   \n",
       "1            1.0         0.0        0.0         0.0         0.0       0.0   \n",
       "2            0.0         0.0        1.0         0.0         0.0       0.0   \n",
       "3            0.0         0.0        0.0         0.0         0.0       0.0   \n",
       "4            0.0         0.0        0.0         0.0         0.0       0.0   \n",
       "...          ...         ...        ...         ...         ...       ...   \n",
       "2563         0.0         0.0        0.0         0.0         0.0       0.0   \n",
       "2564         1.0         0.0        0.0         0.0         0.0       0.0   \n",
       "2565         0.0         0.0        0.0         0.0         0.0       0.0   \n",
       "2566         0.0         0.0        0.0         0.0         0.0       0.0   \n",
       "2567         0.0         0.0        0.0         0.0         0.0       0.0   \n",
       "\n",
       "      x3_NPkVill  x3_NWAmes  x3_NoRidge  x3_NridgHt  x3_OldTown  x3_SWISU  \\\n",
       "0            0.0        0.0         0.0         0.0         0.0       1.0   \n",
       "1            0.0        0.0         0.0         0.0         0.0       0.0   \n",
       "2            0.0        0.0         0.0         0.0         0.0       0.0   \n",
       "3            0.0        0.0         0.0         0.0         1.0       0.0   \n",
       "4            0.0        1.0         0.0         0.0         0.0       0.0   \n",
       "...          ...        ...         ...         ...         ...       ...   \n",
       "2563         0.0        0.0         0.0         0.0         0.0       0.0   \n",
       "2564         0.0        0.0         0.0         0.0         0.0       0.0   \n",
       "2565         0.0        0.0         0.0         0.0         0.0       0.0   \n",
       "2566         0.0        0.0         0.0         0.0         0.0       0.0   \n",
       "2567         0.0        0.0         0.0         0.0         0.0       0.0   \n",
       "\n",
       "      x3_Sawyer  x3_SawyerW  x3_Somerst  x3_StoneBr  x3_Timber  x3_Veenker  \n",
       "0           0.0         0.0         0.0         0.0        0.0         0.0  \n",
       "1           0.0         0.0         0.0         0.0        0.0         0.0  \n",
       "2           0.0         0.0         0.0         0.0        0.0         0.0  \n",
       "3           0.0         0.0         0.0         0.0        0.0         0.0  \n",
       "4           0.0         0.0         0.0         0.0        0.0         0.0  \n",
       "...         ...         ...         ...         ...        ...         ...  \n",
       "2563        0.0         0.0         0.0         0.0        0.0         0.0  \n",
       "2564        0.0         0.0         0.0         0.0        0.0         0.0  \n",
       "2565        0.0         0.0         0.0         0.0        0.0         0.0  \n",
       "2566        0.0         0.0         0.0         0.0        0.0         0.0  \n",
       "2567        0.0         1.0         0.0         0.0        0.0         0.0  \n",
       "\n",
       "[2568 rows x 38 columns]"
      ],
      "text/html": "<div>\n<style scoped>\n    .dataframe tbody tr th:only-of-type {\n        vertical-align: middle;\n    }\n\n    .dataframe tbody tr th {\n        vertical-align: top;\n    }\n\n    .dataframe thead th {\n        text-align: right;\n    }\n</style>\n<table border=\"1\" class=\"dataframe\">\n  <thead>\n    <tr style=\"text-align: right;\">\n      <th></th>\n      <th>x0_IR1</th>\n      <th>x0_IR2</th>\n      <th>x0_IR3</th>\n      <th>x0_Reg</th>\n      <th>x1_Bnk</th>\n      <th>x1_HLS</th>\n      <th>x1_Low</th>\n      <th>x1_Lvl</th>\n      <th>x2_Corner</th>\n      <th>x2_CulDSac</th>\n      <th>x2_FR2</th>\n      <th>x2_FR3</th>\n      <th>x2_Inside</th>\n      <th>x3_Blmngtn</th>\n      <th>x3_Blueste</th>\n      <th>x3_BrDale</th>\n      <th>x3_BrkSide</th>\n      <th>x3_ClearCr</th>\n      <th>x3_CollgCr</th>\n      <th>x3_Crawfor</th>\n      <th>x3_Edwards</th>\n      <th>x3_Gilbert</th>\n      <th>x3_IDOTRR</th>\n      <th>x3_MeadowV</th>\n      <th>x3_Mitchel</th>\n      <th>x3_NAmes</th>\n      <th>x3_NPkVill</th>\n      <th>x3_NWAmes</th>\n      <th>x3_NoRidge</th>\n      <th>x3_NridgHt</th>\n      <th>x3_OldTown</th>\n      <th>x3_SWISU</th>\n      <th>x3_Sawyer</th>\n      <th>x3_SawyerW</th>\n      <th>x3_Somerst</th>\n      <th>x3_StoneBr</th>\n      <th>x3_Timber</th>\n      <th>x3_Veenker</th>\n    </tr>\n  </thead>\n  <tbody>\n    <tr>\n      <th>0</th>\n      <td>0.0</td>\n      <td>0.0</td>\n      <td>0.0</td>\n      <td>1.0</td>\n      <td>0.0</td>\n      <td>0.0</td>\n      <td>0.0</td>\n      <td>1.0</td>\n      <td>1.0</td>\n      <td>0.0</td>\n      <td>0.0</td>\n      <td>0.0</td>\n      <td>0.0</td>\n      <td>0.0</td>\n      <td>0.0</td>\n      <td>0.0</td>\n      <td>0.0</td>\n      <td>0.0</td>\n      <td>0.0</td>\n      <td>0.0</td>\n      <td>0.0</td>\n      <td>0.0</td>\n      <td>0.0</td>\n      <td>0.0</td>\n      <td>0.0</td>\n      <td>0.0</td>\n      <td>0.0</td>\n      <td>0.0</td>\n      <td>0.0</td>\n      <td>0.0</td>\n      <td>0.0</td>\n      <td>1.0</td>\n      <td>0.0</td>\n      <td>0.0</td>\n      <td>0.0</td>\n      <td>0.0</td>\n      <td>0.0</td>\n      <td>0.0</td>\n    </tr>\n    <tr>\n      <th>1</th>\n      <td>0.0</td>\n      <td>0.0</td>\n      <td>0.0</td>\n      <td>1.0</td>\n      <td>0.0</td>\n      <td>0.0</td>\n      <td>0.0</td>\n      <td>1.0</td>\n      <td>0.0</td>\n      <td>0.0</td>\n      <td>0.0</td>\n      <td>0.0</td>\n      <td>1.0</td>\n      <td>0.0</td>\n      <td>0.0</td>\n      <td>0.0</td>\n      <td>0.0</td>\n      <td>0.0</td>\n      <td>0.0</td>\n      <td>0.0</td>\n      <td>1.0</td>\n      <td>0.0</td>\n      <td>0.0</td>\n      <td>0.0</td>\n      <td>0.0</td>\n      <td>0.0</td>\n      <td>0.0</td>\n      <td>0.0</td>\n      <td>0.0</td>\n      <td>0.0</td>\n      <td>0.0</td>\n      <td>0.0</td>\n      <td>0.0</td>\n      <td>0.0</td>\n      <td>0.0</td>\n      <td>0.0</td>\n      <td>0.0</td>\n      <td>0.0</td>\n    </tr>\n    <tr>\n      <th>2</th>\n      <td>0.0</td>\n      <td>0.0</td>\n      <td>0.0</td>\n      <td>1.0</td>\n      <td>0.0</td>\n      <td>0.0</td>\n      <td>0.0</td>\n      <td>1.0</td>\n      <td>0.0</td>\n      <td>0.0</td>\n      <td>0.0</td>\n      <td>0.0</td>\n      <td>1.0</td>\n      <td>0.0</td>\n      <td>0.0</td>\n      <td>0.0</td>\n      <td>0.0</td>\n      <td>0.0</td>\n      <td>0.0</td>\n      <td>0.0</td>\n      <td>0.0</td>\n      <td>0.0</td>\n      <td>1.0</td>\n      <td>0.0</td>\n      <td>0.0</td>\n      <td>0.0</td>\n      <td>0.0</td>\n      <td>0.0</td>\n      <td>0.0</td>\n      <td>0.0</td>\n      <td>0.0</td>\n      <td>0.0</td>\n      <td>0.0</td>\n      <td>0.0</td>\n      <td>0.0</td>\n      <td>0.0</td>\n      <td>0.0</td>\n      <td>0.0</td>\n    </tr>\n    <tr>\n      <th>3</th>\n      <td>0.0</td>\n      <td>0.0</td>\n      <td>0.0</td>\n      <td>1.0</td>\n      <td>0.0</td>\n      <td>0.0</td>\n      <td>0.0</td>\n      <td>1.0</td>\n      <td>1.0</td>\n      <td>0.0</td>\n      <td>0.0</td>\n      <td>0.0</td>\n      <td>0.0</td>\n      <td>0.0</td>\n      <td>0.0</td>\n      <td>0.0</td>\n      <td>0.0</td>\n      <td>0.0</td>\n      <td>0.0</td>\n      <td>0.0</td>\n      <td>0.0</td>\n      <td>0.0</td>\n      <td>0.0</td>\n      <td>0.0</td>\n      <td>0.0</td>\n      <td>0.0</td>\n      <td>0.0</td>\n      <td>0.0</td>\n      <td>0.0</td>\n      <td>0.0</td>\n      <td>1.0</td>\n      <td>0.0</td>\n      <td>0.0</td>\n      <td>0.0</td>\n      <td>0.0</td>\n      <td>0.0</td>\n      <td>0.0</td>\n      <td>0.0</td>\n    </tr>\n    <tr>\n      <th>4</th>\n      <td>0.0</td>\n      <td>0.0</td>\n      <td>0.0</td>\n      <td>1.0</td>\n      <td>0.0</td>\n      <td>0.0</td>\n      <td>0.0</td>\n      <td>1.0</td>\n      <td>0.0</td>\n      <td>0.0</td>\n      <td>0.0</td>\n      <td>0.0</td>\n      <td>1.0</td>\n      <td>0.0</td>\n      <td>0.0</td>\n      <td>0.0</td>\n      <td>0.0</td>\n      <td>0.0</td>\n      <td>0.0</td>\n      <td>0.0</td>\n      <td>0.0</td>\n      <td>0.0</td>\n      <td>0.0</td>\n      <td>0.0</td>\n      <td>0.0</td>\n      <td>0.0</td>\n      <td>0.0</td>\n      <td>1.0</td>\n      <td>0.0</td>\n      <td>0.0</td>\n      <td>0.0</td>\n      <td>0.0</td>\n      <td>0.0</td>\n      <td>0.0</td>\n      <td>0.0</td>\n      <td>0.0</td>\n      <td>0.0</td>\n      <td>0.0</td>\n    </tr>\n    <tr>\n      <th>...</th>\n      <td>...</td>\n      <td>...</td>\n      <td>...</td>\n      <td>...</td>\n      <td>...</td>\n      <td>...</td>\n      <td>...</td>\n      <td>...</td>\n      <td>...</td>\n      <td>...</td>\n      <td>...</td>\n      <td>...</td>\n      <td>...</td>\n      <td>...</td>\n      <td>...</td>\n      <td>...</td>\n      <td>...</td>\n      <td>...</td>\n      <td>...</td>\n      <td>...</td>\n      <td>...</td>\n      <td>...</td>\n      <td>...</td>\n      <td>...</td>\n      <td>...</td>\n      <td>...</td>\n      <td>...</td>\n      <td>...</td>\n      <td>...</td>\n      <td>...</td>\n      <td>...</td>\n      <td>...</td>\n      <td>...</td>\n      <td>...</td>\n      <td>...</td>\n      <td>...</td>\n      <td>...</td>\n      <td>...</td>\n    </tr>\n    <tr>\n      <th>2563</th>\n      <td>0.0</td>\n      <td>0.0</td>\n      <td>0.0</td>\n      <td>1.0</td>\n      <td>0.0</td>\n      <td>0.0</td>\n      <td>0.0</td>\n      <td>1.0</td>\n      <td>0.0</td>\n      <td>0.0</td>\n      <td>0.0</td>\n      <td>0.0</td>\n      <td>1.0</td>\n      <td>0.0</td>\n      <td>0.0</td>\n      <td>0.0</td>\n      <td>1.0</td>\n      <td>0.0</td>\n      <td>0.0</td>\n      <td>0.0</td>\n      <td>0.0</td>\n      <td>0.0</td>\n      <td>0.0</td>\n      <td>0.0</td>\n      <td>0.0</td>\n      <td>0.0</td>\n      <td>0.0</td>\n      <td>0.0</td>\n      <td>0.0</td>\n      <td>0.0</td>\n      <td>0.0</td>\n      <td>0.0</td>\n      <td>0.0</td>\n      <td>0.0</td>\n      <td>0.0</td>\n      <td>0.0</td>\n      <td>0.0</td>\n      <td>0.0</td>\n    </tr>\n    <tr>\n      <th>2564</th>\n      <td>1.0</td>\n      <td>0.0</td>\n      <td>0.0</td>\n      <td>0.0</td>\n      <td>0.0</td>\n      <td>0.0</td>\n      <td>0.0</td>\n      <td>1.0</td>\n      <td>0.0</td>\n      <td>1.0</td>\n      <td>0.0</td>\n      <td>0.0</td>\n      <td>0.0</td>\n      <td>0.0</td>\n      <td>0.0</td>\n      <td>0.0</td>\n      <td>0.0</td>\n      <td>0.0</td>\n      <td>0.0</td>\n      <td>0.0</td>\n      <td>1.0</td>\n      <td>0.0</td>\n      <td>0.0</td>\n      <td>0.0</td>\n      <td>0.0</td>\n      <td>0.0</td>\n      <td>0.0</td>\n      <td>0.0</td>\n      <td>0.0</td>\n      <td>0.0</td>\n      <td>0.0</td>\n      <td>0.0</td>\n      <td>0.0</td>\n      <td>0.0</td>\n      <td>0.0</td>\n      <td>0.0</td>\n      <td>0.0</td>\n      <td>0.0</td>\n    </tr>\n    <tr>\n      <th>2565</th>\n      <td>0.0</td>\n      <td>0.0</td>\n      <td>0.0</td>\n      <td>1.0</td>\n      <td>0.0</td>\n      <td>1.0</td>\n      <td>0.0</td>\n      <td>0.0</td>\n      <td>0.0</td>\n      <td>0.0</td>\n      <td>0.0</td>\n      <td>0.0</td>\n      <td>1.0</td>\n      <td>0.0</td>\n      <td>0.0</td>\n      <td>0.0</td>\n      <td>0.0</td>\n      <td>0.0</td>\n      <td>0.0</td>\n      <td>1.0</td>\n      <td>0.0</td>\n      <td>0.0</td>\n      <td>0.0</td>\n      <td>0.0</td>\n      <td>0.0</td>\n      <td>0.0</td>\n      <td>0.0</td>\n      <td>0.0</td>\n      <td>0.0</td>\n      <td>0.0</td>\n      <td>0.0</td>\n      <td>0.0</td>\n      <td>0.0</td>\n      <td>0.0</td>\n      <td>0.0</td>\n      <td>0.0</td>\n      <td>0.0</td>\n      <td>0.0</td>\n    </tr>\n    <tr>\n      <th>2566</th>\n      <td>0.0</td>\n      <td>0.0</td>\n      <td>0.0</td>\n      <td>1.0</td>\n      <td>0.0</td>\n      <td>0.0</td>\n      <td>0.0</td>\n      <td>1.0</td>\n      <td>0.0</td>\n      <td>0.0</td>\n      <td>0.0</td>\n      <td>0.0</td>\n      <td>1.0</td>\n      <td>0.0</td>\n      <td>0.0</td>\n      <td>0.0</td>\n      <td>0.0</td>\n      <td>0.0</td>\n      <td>1.0</td>\n      <td>0.0</td>\n      <td>0.0</td>\n      <td>0.0</td>\n      <td>0.0</td>\n      <td>0.0</td>\n      <td>0.0</td>\n      <td>0.0</td>\n      <td>0.0</td>\n      <td>0.0</td>\n      <td>0.0</td>\n      <td>0.0</td>\n      <td>0.0</td>\n      <td>0.0</td>\n      <td>0.0</td>\n      <td>0.0</td>\n      <td>0.0</td>\n      <td>0.0</td>\n      <td>0.0</td>\n      <td>0.0</td>\n    </tr>\n    <tr>\n      <th>2567</th>\n      <td>1.0</td>\n      <td>0.0</td>\n      <td>0.0</td>\n      <td>0.0</td>\n      <td>0.0</td>\n      <td>0.0</td>\n      <td>0.0</td>\n      <td>1.0</td>\n      <td>0.0</td>\n      <td>0.0</td>\n      <td>0.0</td>\n      <td>0.0</td>\n      <td>1.0</td>\n      <td>0.0</td>\n      <td>0.0</td>\n      <td>0.0</td>\n      <td>0.0</td>\n      <td>0.0</td>\n      <td>0.0</td>\n      <td>0.0</td>\n      <td>0.0</td>\n      <td>0.0</td>\n      <td>0.0</td>\n      <td>0.0</td>\n      <td>0.0</td>\n      <td>0.0</td>\n      <td>0.0</td>\n      <td>0.0</td>\n      <td>0.0</td>\n      <td>0.0</td>\n      <td>0.0</td>\n      <td>0.0</td>\n      <td>0.0</td>\n      <td>1.0</td>\n      <td>0.0</td>\n      <td>0.0</td>\n      <td>0.0</td>\n      <td>0.0</td>\n    </tr>\n  </tbody>\n</table>\n<p>2568 rows × 38 columns</p>\n</div>"
     },
     "metadata": {},
     "execution_count": 11
    }
   ],
   "source": [
    "lotDF"
   ]
  },
  {
   "cell_type": "code",
   "execution_count": 12,
   "metadata": {},
   "outputs": [
    {
     "output_type": "execute_result",
     "data": {
      "text/plain": [
       "      x0_IR1  x0_IR2  x0_IR3  x0_Reg  x1_Bnk  x1_HLS  x1_Low  x1_Lvl  \\\n",
       "0        0.0     0.0     0.0     1.0     0.0     0.0     0.0     1.0   \n",
       "1        0.0     0.0     0.0     1.0     0.0     0.0     0.0     1.0   \n",
       "2        0.0     0.0     0.0     1.0     0.0     0.0     0.0     1.0   \n",
       "3        0.0     0.0     0.0     1.0     0.0     0.0     0.0     1.0   \n",
       "4        0.0     0.0     0.0     1.0     0.0     0.0     0.0     1.0   \n",
       "...      ...     ...     ...     ...     ...     ...     ...     ...   \n",
       "2563     0.0     0.0     0.0     1.0     0.0     0.0     0.0     1.0   \n",
       "2564     1.0     0.0     0.0     0.0     0.0     0.0     0.0     1.0   \n",
       "2565     0.0     0.0     0.0     1.0     0.0     1.0     0.0     0.0   \n",
       "2566     0.0     0.0     0.0     1.0     0.0     0.0     0.0     1.0   \n",
       "2567     1.0     0.0     0.0     0.0     0.0     0.0     0.0     1.0   \n",
       "\n",
       "      x2_Corner  x2_CulDSac  x2_FR2  x2_FR3  x2_Inside  x3_Blmngtn  \\\n",
       "0           1.0         0.0     0.0     0.0        0.0         0.0   \n",
       "1           0.0         0.0     0.0     0.0        1.0         0.0   \n",
       "2           0.0         0.0     0.0     0.0        1.0         0.0   \n",
       "3           1.0         0.0     0.0     0.0        0.0         0.0   \n",
       "4           0.0         0.0     0.0     0.0        1.0         0.0   \n",
       "...         ...         ...     ...     ...        ...         ...   \n",
       "2563        0.0         0.0     0.0     0.0        1.0         0.0   \n",
       "2564        0.0         1.0     0.0     0.0        0.0         0.0   \n",
       "2565        0.0         0.0     0.0     0.0        1.0         0.0   \n",
       "2566        0.0         0.0     0.0     0.0        1.0         0.0   \n",
       "2567        0.0         0.0     0.0     0.0        1.0         0.0   \n",
       "\n",
       "      x3_Blueste  x3_BrDale  x3_BrkSide  x3_ClearCr  x3_CollgCr  x3_Crawfor  \\\n",
       "0            0.0        0.0         0.0         0.0         0.0         0.0   \n",
       "1            0.0        0.0         0.0         0.0         0.0         0.0   \n",
       "2            0.0        0.0         0.0         0.0         0.0         0.0   \n",
       "3            0.0        0.0         0.0         0.0         0.0         0.0   \n",
       "4            0.0        0.0         0.0         0.0         0.0         0.0   \n",
       "...          ...        ...         ...         ...         ...         ...   \n",
       "2563         0.0        0.0         1.0         0.0         0.0         0.0   \n",
       "2564         0.0        0.0         0.0         0.0         0.0         0.0   \n",
       "2565         0.0        0.0         0.0         0.0         0.0         1.0   \n",
       "2566         0.0        0.0         0.0         0.0         1.0         0.0   \n",
       "2567         0.0        0.0         0.0         0.0         0.0         0.0   \n",
       "\n",
       "      x3_Edwards  x3_Gilbert  x3_IDOTRR  x3_MeadowV  x3_Mitchel  x3_NAmes  \\\n",
       "0            0.0         0.0        0.0         0.0         0.0       0.0   \n",
       "1            1.0         0.0        0.0         0.0         0.0       0.0   \n",
       "2            0.0         0.0        1.0         0.0         0.0       0.0   \n",
       "3            0.0         0.0        0.0         0.0         0.0       0.0   \n",
       "4            0.0         0.0        0.0         0.0         0.0       0.0   \n",
       "...          ...         ...        ...         ...         ...       ...   \n",
       "2563         0.0         0.0        0.0         0.0         0.0       0.0   \n",
       "2564         1.0         0.0        0.0         0.0         0.0       0.0   \n",
       "2565         0.0         0.0        0.0         0.0         0.0       0.0   \n",
       "2566         0.0         0.0        0.0         0.0         0.0       0.0   \n",
       "2567         0.0         0.0        0.0         0.0         0.0       0.0   \n",
       "\n",
       "      x3_NPkVill  x3_NWAmes  x3_NoRidge  x3_NridgHt  x3_OldTown  x3_SWISU  \\\n",
       "0            0.0        0.0         0.0         0.0         0.0       1.0   \n",
       "1            0.0        0.0         0.0         0.0         0.0       0.0   \n",
       "2            0.0        0.0         0.0         0.0         0.0       0.0   \n",
       "3            0.0        0.0         0.0         0.0         1.0       0.0   \n",
       "4            0.0        1.0         0.0         0.0         0.0       0.0   \n",
       "...          ...        ...         ...         ...         ...       ...   \n",
       "2563         0.0        0.0         0.0         0.0         0.0       0.0   \n",
       "2564         0.0        0.0         0.0         0.0         0.0       0.0   \n",
       "2565         0.0        0.0         0.0         0.0         0.0       0.0   \n",
       "2566         0.0        0.0         0.0         0.0         0.0       0.0   \n",
       "2567         0.0        0.0         0.0         0.0         0.0       0.0   \n",
       "\n",
       "      x3_Sawyer  x3_SawyerW  x3_Somerst  x3_StoneBr  x3_Timber  x3_Veenker  \\\n",
       "0           0.0         0.0         0.0         0.0        0.0         0.0   \n",
       "1           0.0         0.0         0.0         0.0        0.0         0.0   \n",
       "2           0.0         0.0         0.0         0.0        0.0         0.0   \n",
       "3           0.0         0.0         0.0         0.0        0.0         0.0   \n",
       "4           0.0         0.0         0.0         0.0        0.0         0.0   \n",
       "...         ...         ...         ...         ...        ...         ...   \n",
       "2563        0.0         0.0         0.0         0.0        0.0         0.0   \n",
       "2564        0.0         0.0         0.0         0.0        0.0         0.0   \n",
       "2565        0.0         0.0         0.0         0.0        0.0         0.0   \n",
       "2566        0.0         0.0         0.0         0.0        0.0         0.0   \n",
       "2567        0.0         1.0         0.0         0.0        0.0         0.0   \n",
       "\n",
       "      LotFrontage  GrLivArea  LotArea  \n",
       "0             NaN        856     7890  \n",
       "1            42.0       1049     4235  \n",
       "2            60.0       1001     6060  \n",
       "3            80.0       1039     8146  \n",
       "4            70.0       1665     8400  \n",
       "...           ...        ...      ...  \n",
       "2563          NaN        952     8854  \n",
       "2564          NaN       1733    13680  \n",
       "2565         82.0       2002     6270  \n",
       "2566          NaN       1842     8826  \n",
       "2567         80.0       1911     9554  \n",
       "\n",
       "[2568 rows x 41 columns]"
      ],
      "text/html": "<div>\n<style scoped>\n    .dataframe tbody tr th:only-of-type {\n        vertical-align: middle;\n    }\n\n    .dataframe tbody tr th {\n        vertical-align: top;\n    }\n\n    .dataframe thead th {\n        text-align: right;\n    }\n</style>\n<table border=\"1\" class=\"dataframe\">\n  <thead>\n    <tr style=\"text-align: right;\">\n      <th></th>\n      <th>x0_IR1</th>\n      <th>x0_IR2</th>\n      <th>x0_IR3</th>\n      <th>x0_Reg</th>\n      <th>x1_Bnk</th>\n      <th>x1_HLS</th>\n      <th>x1_Low</th>\n      <th>x1_Lvl</th>\n      <th>x2_Corner</th>\n      <th>x2_CulDSac</th>\n      <th>x2_FR2</th>\n      <th>x2_FR3</th>\n      <th>x2_Inside</th>\n      <th>x3_Blmngtn</th>\n      <th>x3_Blueste</th>\n      <th>x3_BrDale</th>\n      <th>x3_BrkSide</th>\n      <th>x3_ClearCr</th>\n      <th>x3_CollgCr</th>\n      <th>x3_Crawfor</th>\n      <th>x3_Edwards</th>\n      <th>x3_Gilbert</th>\n      <th>x3_IDOTRR</th>\n      <th>x3_MeadowV</th>\n      <th>x3_Mitchel</th>\n      <th>x3_NAmes</th>\n      <th>x3_NPkVill</th>\n      <th>x3_NWAmes</th>\n      <th>x3_NoRidge</th>\n      <th>x3_NridgHt</th>\n      <th>x3_OldTown</th>\n      <th>x3_SWISU</th>\n      <th>x3_Sawyer</th>\n      <th>x3_SawyerW</th>\n      <th>x3_Somerst</th>\n      <th>x3_StoneBr</th>\n      <th>x3_Timber</th>\n      <th>x3_Veenker</th>\n      <th>LotFrontage</th>\n      <th>GrLivArea</th>\n      <th>LotArea</th>\n    </tr>\n  </thead>\n  <tbody>\n    <tr>\n      <th>0</th>\n      <td>0.0</td>\n      <td>0.0</td>\n      <td>0.0</td>\n      <td>1.0</td>\n      <td>0.0</td>\n      <td>0.0</td>\n      <td>0.0</td>\n      <td>1.0</td>\n      <td>1.0</td>\n      <td>0.0</td>\n      <td>0.0</td>\n      <td>0.0</td>\n      <td>0.0</td>\n      <td>0.0</td>\n      <td>0.0</td>\n      <td>0.0</td>\n      <td>0.0</td>\n      <td>0.0</td>\n      <td>0.0</td>\n      <td>0.0</td>\n      <td>0.0</td>\n      <td>0.0</td>\n      <td>0.0</td>\n      <td>0.0</td>\n      <td>0.0</td>\n      <td>0.0</td>\n      <td>0.0</td>\n      <td>0.0</td>\n      <td>0.0</td>\n      <td>0.0</td>\n      <td>0.0</td>\n      <td>1.0</td>\n      <td>0.0</td>\n      <td>0.0</td>\n      <td>0.0</td>\n      <td>0.0</td>\n      <td>0.0</td>\n      <td>0.0</td>\n      <td>NaN</td>\n      <td>856</td>\n      <td>7890</td>\n    </tr>\n    <tr>\n      <th>1</th>\n      <td>0.0</td>\n      <td>0.0</td>\n      <td>0.0</td>\n      <td>1.0</td>\n      <td>0.0</td>\n      <td>0.0</td>\n      <td>0.0</td>\n      <td>1.0</td>\n      <td>0.0</td>\n      <td>0.0</td>\n      <td>0.0</td>\n      <td>0.0</td>\n      <td>1.0</td>\n      <td>0.0</td>\n      <td>0.0</td>\n      <td>0.0</td>\n      <td>0.0</td>\n      <td>0.0</td>\n      <td>0.0</td>\n      <td>0.0</td>\n      <td>1.0</td>\n      <td>0.0</td>\n      <td>0.0</td>\n      <td>0.0</td>\n      <td>0.0</td>\n      <td>0.0</td>\n      <td>0.0</td>\n      <td>0.0</td>\n      <td>0.0</td>\n      <td>0.0</td>\n      <td>0.0</td>\n      <td>0.0</td>\n      <td>0.0</td>\n      <td>0.0</td>\n      <td>0.0</td>\n      <td>0.0</td>\n      <td>0.0</td>\n      <td>0.0</td>\n      <td>42.0</td>\n      <td>1049</td>\n      <td>4235</td>\n    </tr>\n    <tr>\n      <th>2</th>\n      <td>0.0</td>\n      <td>0.0</td>\n      <td>0.0</td>\n      <td>1.0</td>\n      <td>0.0</td>\n      <td>0.0</td>\n      <td>0.0</td>\n      <td>1.0</td>\n      <td>0.0</td>\n      <td>0.0</td>\n      <td>0.0</td>\n      <td>0.0</td>\n      <td>1.0</td>\n      <td>0.0</td>\n      <td>0.0</td>\n      <td>0.0</td>\n      <td>0.0</td>\n      <td>0.0</td>\n      <td>0.0</td>\n      <td>0.0</td>\n      <td>0.0</td>\n      <td>0.0</td>\n      <td>1.0</td>\n      <td>0.0</td>\n      <td>0.0</td>\n      <td>0.0</td>\n      <td>0.0</td>\n      <td>0.0</td>\n      <td>0.0</td>\n      <td>0.0</td>\n      <td>0.0</td>\n      <td>0.0</td>\n      <td>0.0</td>\n      <td>0.0</td>\n      <td>0.0</td>\n      <td>0.0</td>\n      <td>0.0</td>\n      <td>0.0</td>\n      <td>60.0</td>\n      <td>1001</td>\n      <td>6060</td>\n    </tr>\n    <tr>\n      <th>3</th>\n      <td>0.0</td>\n      <td>0.0</td>\n      <td>0.0</td>\n      <td>1.0</td>\n      <td>0.0</td>\n      <td>0.0</td>\n      <td>0.0</td>\n      <td>1.0</td>\n      <td>1.0</td>\n      <td>0.0</td>\n      <td>0.0</td>\n      <td>0.0</td>\n      <td>0.0</td>\n      <td>0.0</td>\n      <td>0.0</td>\n      <td>0.0</td>\n      <td>0.0</td>\n      <td>0.0</td>\n      <td>0.0</td>\n      <td>0.0</td>\n      <td>0.0</td>\n      <td>0.0</td>\n      <td>0.0</td>\n      <td>0.0</td>\n      <td>0.0</td>\n      <td>0.0</td>\n      <td>0.0</td>\n      <td>0.0</td>\n      <td>0.0</td>\n      <td>0.0</td>\n      <td>1.0</td>\n      <td>0.0</td>\n      <td>0.0</td>\n      <td>0.0</td>\n      <td>0.0</td>\n      <td>0.0</td>\n      <td>0.0</td>\n      <td>0.0</td>\n      <td>80.0</td>\n      <td>1039</td>\n      <td>8146</td>\n    </tr>\n    <tr>\n      <th>4</th>\n      <td>0.0</td>\n      <td>0.0</td>\n      <td>0.0</td>\n      <td>1.0</td>\n      <td>0.0</td>\n      <td>0.0</td>\n      <td>0.0</td>\n      <td>1.0</td>\n      <td>0.0</td>\n      <td>0.0</td>\n      <td>0.0</td>\n      <td>0.0</td>\n      <td>1.0</td>\n      <td>0.0</td>\n      <td>0.0</td>\n      <td>0.0</td>\n      <td>0.0</td>\n      <td>0.0</td>\n      <td>0.0</td>\n      <td>0.0</td>\n      <td>0.0</td>\n      <td>0.0</td>\n      <td>0.0</td>\n      <td>0.0</td>\n      <td>0.0</td>\n      <td>0.0</td>\n      <td>0.0</td>\n      <td>1.0</td>\n      <td>0.0</td>\n      <td>0.0</td>\n      <td>0.0</td>\n      <td>0.0</td>\n      <td>0.0</td>\n      <td>0.0</td>\n      <td>0.0</td>\n      <td>0.0</td>\n      <td>0.0</td>\n      <td>0.0</td>\n      <td>70.0</td>\n      <td>1665</td>\n      <td>8400</td>\n    </tr>\n    <tr>\n      <th>...</th>\n      <td>...</td>\n      <td>...</td>\n      <td>...</td>\n      <td>...</td>\n      <td>...</td>\n      <td>...</td>\n      <td>...</td>\n      <td>...</td>\n      <td>...</td>\n      <td>...</td>\n      <td>...</td>\n      <td>...</td>\n      <td>...</td>\n      <td>...</td>\n      <td>...</td>\n      <td>...</td>\n      <td>...</td>\n      <td>...</td>\n      <td>...</td>\n      <td>...</td>\n      <td>...</td>\n      <td>...</td>\n      <td>...</td>\n      <td>...</td>\n      <td>...</td>\n      <td>...</td>\n      <td>...</td>\n      <td>...</td>\n      <td>...</td>\n      <td>...</td>\n      <td>...</td>\n      <td>...</td>\n      <td>...</td>\n      <td>...</td>\n      <td>...</td>\n      <td>...</td>\n      <td>...</td>\n      <td>...</td>\n      <td>...</td>\n      <td>...</td>\n      <td>...</td>\n    </tr>\n    <tr>\n      <th>2563</th>\n      <td>0.0</td>\n      <td>0.0</td>\n      <td>0.0</td>\n      <td>1.0</td>\n      <td>0.0</td>\n      <td>0.0</td>\n      <td>0.0</td>\n      <td>1.0</td>\n      <td>0.0</td>\n      <td>0.0</td>\n      <td>0.0</td>\n      <td>0.0</td>\n      <td>1.0</td>\n      <td>0.0</td>\n      <td>0.0</td>\n      <td>0.0</td>\n      <td>1.0</td>\n      <td>0.0</td>\n      <td>0.0</td>\n      <td>0.0</td>\n      <td>0.0</td>\n      <td>0.0</td>\n      <td>0.0</td>\n      <td>0.0</td>\n      <td>0.0</td>\n      <td>0.0</td>\n      <td>0.0</td>\n      <td>0.0</td>\n      <td>0.0</td>\n      <td>0.0</td>\n      <td>0.0</td>\n      <td>0.0</td>\n      <td>0.0</td>\n      <td>0.0</td>\n      <td>0.0</td>\n      <td>0.0</td>\n      <td>0.0</td>\n      <td>0.0</td>\n      <td>NaN</td>\n      <td>952</td>\n      <td>8854</td>\n    </tr>\n    <tr>\n      <th>2564</th>\n      <td>1.0</td>\n      <td>0.0</td>\n      <td>0.0</td>\n      <td>0.0</td>\n      <td>0.0</td>\n      <td>0.0</td>\n      <td>0.0</td>\n      <td>1.0</td>\n      <td>0.0</td>\n      <td>1.0</td>\n      <td>0.0</td>\n      <td>0.0</td>\n      <td>0.0</td>\n      <td>0.0</td>\n      <td>0.0</td>\n      <td>0.0</td>\n      <td>0.0</td>\n      <td>0.0</td>\n      <td>0.0</td>\n      <td>0.0</td>\n      <td>1.0</td>\n      <td>0.0</td>\n      <td>0.0</td>\n      <td>0.0</td>\n      <td>0.0</td>\n      <td>0.0</td>\n      <td>0.0</td>\n      <td>0.0</td>\n      <td>0.0</td>\n      <td>0.0</td>\n      <td>0.0</td>\n      <td>0.0</td>\n      <td>0.0</td>\n      <td>0.0</td>\n      <td>0.0</td>\n      <td>0.0</td>\n      <td>0.0</td>\n      <td>0.0</td>\n      <td>NaN</td>\n      <td>1733</td>\n      <td>13680</td>\n    </tr>\n    <tr>\n      <th>2565</th>\n      <td>0.0</td>\n      <td>0.0</td>\n      <td>0.0</td>\n      <td>1.0</td>\n      <td>0.0</td>\n      <td>1.0</td>\n      <td>0.0</td>\n      <td>0.0</td>\n      <td>0.0</td>\n      <td>0.0</td>\n      <td>0.0</td>\n      <td>0.0</td>\n      <td>1.0</td>\n      <td>0.0</td>\n      <td>0.0</td>\n      <td>0.0</td>\n      <td>0.0</td>\n      <td>0.0</td>\n      <td>0.0</td>\n      <td>1.0</td>\n      <td>0.0</td>\n      <td>0.0</td>\n      <td>0.0</td>\n      <td>0.0</td>\n      <td>0.0</td>\n      <td>0.0</td>\n      <td>0.0</td>\n      <td>0.0</td>\n      <td>0.0</td>\n      <td>0.0</td>\n      <td>0.0</td>\n      <td>0.0</td>\n      <td>0.0</td>\n      <td>0.0</td>\n      <td>0.0</td>\n      <td>0.0</td>\n      <td>0.0</td>\n      <td>0.0</td>\n      <td>82.0</td>\n      <td>2002</td>\n      <td>6270</td>\n    </tr>\n    <tr>\n      <th>2566</th>\n      <td>0.0</td>\n      <td>0.0</td>\n      <td>0.0</td>\n      <td>1.0</td>\n      <td>0.0</td>\n      <td>0.0</td>\n      <td>0.0</td>\n      <td>1.0</td>\n      <td>0.0</td>\n      <td>0.0</td>\n      <td>0.0</td>\n      <td>0.0</td>\n      <td>1.0</td>\n      <td>0.0</td>\n      <td>0.0</td>\n      <td>0.0</td>\n      <td>0.0</td>\n      <td>0.0</td>\n      <td>1.0</td>\n      <td>0.0</td>\n      <td>0.0</td>\n      <td>0.0</td>\n      <td>0.0</td>\n      <td>0.0</td>\n      <td>0.0</td>\n      <td>0.0</td>\n      <td>0.0</td>\n      <td>0.0</td>\n      <td>0.0</td>\n      <td>0.0</td>\n      <td>0.0</td>\n      <td>0.0</td>\n      <td>0.0</td>\n      <td>0.0</td>\n      <td>0.0</td>\n      <td>0.0</td>\n      <td>0.0</td>\n      <td>0.0</td>\n      <td>NaN</td>\n      <td>1842</td>\n      <td>8826</td>\n    </tr>\n    <tr>\n      <th>2567</th>\n      <td>1.0</td>\n      <td>0.0</td>\n      <td>0.0</td>\n      <td>0.0</td>\n      <td>0.0</td>\n      <td>0.0</td>\n      <td>0.0</td>\n      <td>1.0</td>\n      <td>0.0</td>\n      <td>0.0</td>\n      <td>0.0</td>\n      <td>0.0</td>\n      <td>1.0</td>\n      <td>0.0</td>\n      <td>0.0</td>\n      <td>0.0</td>\n      <td>0.0</td>\n      <td>0.0</td>\n      <td>0.0</td>\n      <td>0.0</td>\n      <td>0.0</td>\n      <td>0.0</td>\n      <td>0.0</td>\n      <td>0.0</td>\n      <td>0.0</td>\n      <td>0.0</td>\n      <td>0.0</td>\n      <td>0.0</td>\n      <td>0.0</td>\n      <td>0.0</td>\n      <td>0.0</td>\n      <td>0.0</td>\n      <td>0.0</td>\n      <td>1.0</td>\n      <td>0.0</td>\n      <td>0.0</td>\n      <td>0.0</td>\n      <td>0.0</td>\n      <td>80.0</td>\n      <td>1911</td>\n      <td>9554</td>\n    </tr>\n  </tbody>\n</table>\n<p>2568 rows × 41 columns</p>\n</div>"
     },
     "metadata": {},
     "execution_count": 12
    }
   ],
   "source": [
    "lotDF = lotDF.join(numerical_lotDF, how='inner')\n",
    "lotDF"
   ]
  },
  {
   "cell_type": "code",
   "execution_count": 13,
   "metadata": {},
   "outputs": [],
   "source": [
    "imputer = KNNImputer(n_neighbors=5)\n",
    "imputed_lotDF = pd.DataFrame(data=imputer.fit_transform(lotDF), columns=lotDF.columns)"
   ]
  },
  {
   "cell_type": "code",
   "execution_count": 14,
   "metadata": {},
   "outputs": [],
   "source": [
    "cleaned_data['LotFrontage'] = imputed_lotDF['LotFrontage']"
   ]
  },
  {
   "source": [],
   "cell_type": "markdown",
   "metadata": {}
  },
  {
   "source": [
    "## Impute Alley with DNE"
   ],
   "cell_type": "markdown",
   "metadata": {}
  },
  {
   "cell_type": "code",
   "execution_count": 15,
   "metadata": {},
   "outputs": [],
   "source": [
    "cleaned_data['Alley'] = cleaned_data['Alley'].fillna('DNE')"
   ]
  },
  {
   "source": [
    "## KNN Simple Impute MasVnrType"
   ],
   "cell_type": "markdown",
   "metadata": {}
  },
  {
   "source": [
    "Features to consider:\n",
    "\n",
    "- Exterior1st\n",
    "- Exterior2nd\n",
    "\n",
    "No missing values for any of those!"
   ],
   "cell_type": "markdown",
   "metadata": {}
  },
  {
   "source": [
    "First we have to encode the categorical data"
   ],
   "cell_type": "markdown",
   "metadata": {}
  },
  {
   "cell_type": "code",
   "execution_count": 16,
   "metadata": {},
   "outputs": [],
   "source": [
    "# enc = OneHotEncoder(handle_unknown='ignore')\n",
    "# categoical_masDF = cleaned_data[['Exterior1st', 'Exterior2nd']]\n",
    "# encoded_values = enc.fit_transform(categoical_masDF)\n",
    "\n",
    "\n",
    "# masDF = pd.DataFrame(data=encoded_values.toarray(), columns=enc.get_feature_names())\n",
    "# masDF.reset_index(drop=True, inplace=True)\n",
    "\n",
    "\n",
    "masDF = cleaned_data[['Exterior1st', 'Exterior2nd', 'MasVnrType']]"
   ]
  },
  {
   "cell_type": "code",
   "execution_count": 17,
   "metadata": {},
   "outputs": [],
   "source": [
    "encoded_masDF = masDF.copy()\n",
    "encoded_masDF[encoded_masDF.isnull()] = 'NaN'"
   ]
  },
  {
   "cell_type": "code",
   "execution_count": 18,
   "metadata": {},
   "outputs": [
    {
     "output_type": "execute_result",
     "data": {
      "text/plain": [
       "     Exterior1st Exterior2nd MasVnrType\n",
       "0        Wd Sdng     Wd Sdng       None\n",
       "1        HdBoard     HdBoard    BrkFace\n",
       "2        MetalSd     MetalSd       None\n",
       "3        MetalSd     MetalSd       None\n",
       "4        VinylSd     VinylSd       None\n",
       "...          ...         ...        ...\n",
       "2563     Wd Sdng     Wd Sdng       None\n",
       "2564     BrkFace     Wd Sdng       None\n",
       "2565     MetalSd     MetalSd       None\n",
       "2566     VinylSd     VinylSd    BrkFace\n",
       "2567     VinylSd     VinylSd    BrkFace\n",
       "\n",
       "[2568 rows x 3 columns]"
      ],
      "text/html": "<div>\n<style scoped>\n    .dataframe tbody tr th:only-of-type {\n        vertical-align: middle;\n    }\n\n    .dataframe tbody tr th {\n        vertical-align: top;\n    }\n\n    .dataframe thead th {\n        text-align: right;\n    }\n</style>\n<table border=\"1\" class=\"dataframe\">\n  <thead>\n    <tr style=\"text-align: right;\">\n      <th></th>\n      <th>Exterior1st</th>\n      <th>Exterior2nd</th>\n      <th>MasVnrType</th>\n    </tr>\n  </thead>\n  <tbody>\n    <tr>\n      <th>0</th>\n      <td>Wd Sdng</td>\n      <td>Wd Sdng</td>\n      <td>None</td>\n    </tr>\n    <tr>\n      <th>1</th>\n      <td>HdBoard</td>\n      <td>HdBoard</td>\n      <td>BrkFace</td>\n    </tr>\n    <tr>\n      <th>2</th>\n      <td>MetalSd</td>\n      <td>MetalSd</td>\n      <td>None</td>\n    </tr>\n    <tr>\n      <th>3</th>\n      <td>MetalSd</td>\n      <td>MetalSd</td>\n      <td>None</td>\n    </tr>\n    <tr>\n      <th>4</th>\n      <td>VinylSd</td>\n      <td>VinylSd</td>\n      <td>None</td>\n    </tr>\n    <tr>\n      <th>...</th>\n      <td>...</td>\n      <td>...</td>\n      <td>...</td>\n    </tr>\n    <tr>\n      <th>2563</th>\n      <td>Wd Sdng</td>\n      <td>Wd Sdng</td>\n      <td>None</td>\n    </tr>\n    <tr>\n      <th>2564</th>\n      <td>BrkFace</td>\n      <td>Wd Sdng</td>\n      <td>None</td>\n    </tr>\n    <tr>\n      <th>2565</th>\n      <td>MetalSd</td>\n      <td>MetalSd</td>\n      <td>None</td>\n    </tr>\n    <tr>\n      <th>2566</th>\n      <td>VinylSd</td>\n      <td>VinylSd</td>\n      <td>BrkFace</td>\n    </tr>\n    <tr>\n      <th>2567</th>\n      <td>VinylSd</td>\n      <td>VinylSd</td>\n      <td>BrkFace</td>\n    </tr>\n  </tbody>\n</table>\n<p>2568 rows × 3 columns</p>\n</div>"
     },
     "metadata": {},
     "execution_count": 18
    }
   ],
   "source": [
    "encoded_masDF"
   ]
  },
  {
   "cell_type": "code",
   "execution_count": 19,
   "metadata": {},
   "outputs": [],
   "source": [
    "label1 = LabelEncoder()\n",
    "encoded_masDF['Exterior1st'] = label1.fit_transform(masDF['Exterior1st'])"
   ]
  },
  {
   "cell_type": "code",
   "execution_count": 20,
   "metadata": {},
   "outputs": [],
   "source": [
    "label2 = LabelEncoder()\n",
    "encoded_masDF['Exterior2nd'] = label2.fit_transform(masDF['Exterior2nd'])"
   ]
  },
  {
   "cell_type": "code",
   "execution_count": 21,
   "metadata": {},
   "outputs": [],
   "source": [
    "encoded_masDF['MasVnrType'].replace({'BrkCmn':1, 'BrkFace':2, 'CBlock': 3, 'None':4, 'Stone': 5}, inplace=True)"
   ]
  },
  {
   "cell_type": "code",
   "execution_count": 22,
   "metadata": {},
   "outputs": [],
   "source": [
    "imputer = KNNImputer(n_neighbors=1)\n",
    "imputed_masDF = pd.DataFrame(data=imputer.fit_transform(encoded_masDF), columns=masDF.columns)"
   ]
  },
  {
   "cell_type": "code",
   "execution_count": 23,
   "metadata": {},
   "outputs": [
    {
     "output_type": "execute_result",
     "data": {
      "text/plain": [
       "      Exterior1st  Exterior2nd  MasVnrType\n",
       "0            13.0         14.0         4.0\n",
       "1             6.0          6.0         2.0\n",
       "2             8.0          8.0         4.0\n",
       "3             8.0          8.0         4.0\n",
       "4            12.0         13.0         4.0\n",
       "...           ...          ...         ...\n",
       "2563         13.0         14.0         4.0\n",
       "2564          3.0         14.0         4.0\n",
       "2565          8.0          8.0         4.0\n",
       "2566         12.0         13.0         2.0\n",
       "2567         12.0         13.0         2.0\n",
       "\n",
       "[2568 rows x 3 columns]"
      ],
      "text/html": "<div>\n<style scoped>\n    .dataframe tbody tr th:only-of-type {\n        vertical-align: middle;\n    }\n\n    .dataframe tbody tr th {\n        vertical-align: top;\n    }\n\n    .dataframe thead th {\n        text-align: right;\n    }\n</style>\n<table border=\"1\" class=\"dataframe\">\n  <thead>\n    <tr style=\"text-align: right;\">\n      <th></th>\n      <th>Exterior1st</th>\n      <th>Exterior2nd</th>\n      <th>MasVnrType</th>\n    </tr>\n  </thead>\n  <tbody>\n    <tr>\n      <th>0</th>\n      <td>13.0</td>\n      <td>14.0</td>\n      <td>4.0</td>\n    </tr>\n    <tr>\n      <th>1</th>\n      <td>6.0</td>\n      <td>6.0</td>\n      <td>2.0</td>\n    </tr>\n    <tr>\n      <th>2</th>\n      <td>8.0</td>\n      <td>8.0</td>\n      <td>4.0</td>\n    </tr>\n    <tr>\n      <th>3</th>\n      <td>8.0</td>\n      <td>8.0</td>\n      <td>4.0</td>\n    </tr>\n    <tr>\n      <th>4</th>\n      <td>12.0</td>\n      <td>13.0</td>\n      <td>4.0</td>\n    </tr>\n    <tr>\n      <th>...</th>\n      <td>...</td>\n      <td>...</td>\n      <td>...</td>\n    </tr>\n    <tr>\n      <th>2563</th>\n      <td>13.0</td>\n      <td>14.0</td>\n      <td>4.0</td>\n    </tr>\n    <tr>\n      <th>2564</th>\n      <td>3.0</td>\n      <td>14.0</td>\n      <td>4.0</td>\n    </tr>\n    <tr>\n      <th>2565</th>\n      <td>8.0</td>\n      <td>8.0</td>\n      <td>4.0</td>\n    </tr>\n    <tr>\n      <th>2566</th>\n      <td>12.0</td>\n      <td>13.0</td>\n      <td>2.0</td>\n    </tr>\n    <tr>\n      <th>2567</th>\n      <td>12.0</td>\n      <td>13.0</td>\n      <td>2.0</td>\n    </tr>\n  </tbody>\n</table>\n<p>2568 rows × 3 columns</p>\n</div>"
     },
     "metadata": {},
     "execution_count": 23
    }
   ],
   "source": [
    "imputed_masDF"
   ]
  },
  {
   "cell_type": "code",
   "execution_count": 24,
   "metadata": {},
   "outputs": [],
   "source": [
    "masDF['Exterior1st'] = label1.inverse_transform(np.array(imputed_masDF['Exterior1st']).astype(int))\n",
    "# label1.classes_"
   ]
  },
  {
   "cell_type": "code",
   "execution_count": 25,
   "metadata": {},
   "outputs": [],
   "source": [
    "masDF['Exterior2nd'] = label2.inverse_transform(np.array(imputed_masDF['Exterior2nd']).astype(int))"
   ]
  },
  {
   "cell_type": "code",
   "execution_count": 26,
   "metadata": {},
   "outputs": [],
   "source": [
    "masDF['MasVnrType'] = imputed_masDF.MasVnrType.astype(int).astype(str).replace({'1':'BrkCmn', '2':'BrkFace', '3': 'CBlock', '4':'None', '5': 'Stone'})"
   ]
  },
  {
   "cell_type": "code",
   "execution_count": 27,
   "metadata": {},
   "outputs": [
    {
     "output_type": "execute_result",
     "data": {
      "text/plain": [
       "array(['None', 'BrkFace', 'Stone', 'BrkCmn'], dtype=object)"
      ]
     },
     "metadata": {},
     "execution_count": 27
    }
   ],
   "source": [
    "masDF.MasVnrType.unique()"
   ]
  },
  {
   "cell_type": "code",
   "execution_count": 28,
   "metadata": {},
   "outputs": [],
   "source": [
    "cleaned_data['MasVnrType'] = masDF['MasVnrType']"
   ]
  },
  {
   "cell_type": "code",
   "execution_count": 29,
   "metadata": {},
   "outputs": [
    {
     "output_type": "execute_result",
     "data": {
      "text/plain": [
       "False    2568\n",
       "Name: MasVnrType, dtype: int64"
      ]
     },
     "metadata": {},
     "execution_count": 29
    }
   ],
   "source": [
    "cleaned_data.MasVnrType.isna().value_counts()"
   ]
  },
  {
   "source": [
    "## Simple Imputation of MasVnrArea"
   ],
   "cell_type": "markdown",
   "metadata": {}
  },
  {
   "cell_type": "code",
   "execution_count": 30,
   "metadata": {},
   "outputs": [],
   "source": [
    "simp_mean = SimpleImputer(missing_values=np.nan, strategy='mean')\n",
    "\n",
    "cleaned_data['MasVnrArea'] = simp_mean.fit_transform(pd.DataFrame(cleaned_data.loc[:,'MasVnrArea']))"
   ]
  },
  {
   "source": [
    "## Random Impute Foundation"
   ],
   "cell_type": "markdown",
   "metadata": {}
  },
  {
   "cell_type": "code",
   "execution_count": 39,
   "metadata": {},
   "outputs": [],
   "source": [
    "foundation_cat = cleaned_data['Foundation'].unique()\n",
    "\n",
    "cleaned_data.Foundation.isna().value_counts()"
   ]
  },
  {
   "cell_type": "code",
   "execution_count": 43,
   "metadata": {},
   "outputs": [],
   "source": [
    "values = []\n",
    "for i in range(12):\n",
    "    values.append(foundation_cat[randint(0,5)])"
   ]
  },
  {
   "cell_type": "code",
   "execution_count": 51,
   "metadata": {},
   "outputs": [],
   "source": [
    "s = pd.Series(np.random.choice(values, size=len(cleaned_data.index)))"
   ]
  },
  {
   "cell_type": "code",
   "execution_count": 55,
   "metadata": {},
   "outputs": [],
   "source": [
    "cleaned_data['Foundation'].fillna(s, inplace=True)"
   ]
  },
  {
   "cell_type": "code",
   "execution_count": 56,
   "metadata": {},
   "outputs": [
    {
     "output_type": "execute_result",
     "data": {
      "text/plain": [
       "False    2568\n",
       "Name: Foundation, dtype: int64"
      ]
     },
     "metadata": {},
     "execution_count": 56
    }
   ],
   "source": [
    "cleaned_data.Foundation.isna().value_counts()"
   ]
  },
  {
   "source": [
    "## Replce NA with DNE in BsmtQual"
   ],
   "cell_type": "markdown",
   "metadata": {}
  },
  {
   "cell_type": "code",
   "execution_count": 58,
   "metadata": {},
   "outputs": [],
   "source": [
    "cleaned_data.BsmtQual.fillna('DNE', inplace=True)"
   ]
  },
  {
   "source": [
    "## Replce NA with DNE in BsmtCond"
   ],
   "cell_type": "markdown",
   "metadata": {}
  },
  {
   "cell_type": "code",
   "execution_count": 60,
   "metadata": {},
   "outputs": [],
   "source": [
    "cleaned_data.BsmtCond.fillna('DNE', inplace=True)"
   ]
  },
  {
   "source": [
    "## Replce NA with DNE in BsmtExposure"
   ],
   "cell_type": "markdown",
   "metadata": {}
  },
  {
   "cell_type": "code",
   "execution_count": 63,
   "metadata": {},
   "outputs": [],
   "source": [
    "cleaned_data.BsmtExposure.fillna('DNE', inplace=True)"
   ]
  },
  {
   "source": [
    "## Replce NA with DNE in BsmtFinType1, BsmtFinType2"
   ],
   "cell_type": "markdown",
   "metadata": {}
  },
  {
   "cell_type": "code",
   "execution_count": 65,
   "metadata": {},
   "outputs": [],
   "source": [
    "cleaned_data.BsmtFinType1.fillna('DNE', inplace=True)\n",
    "cleaned_data.BsmtFinType2.fillna('DNE', inplace=True)\n"
   ]
  },
  {
   "source": [
    "## Mean Impute BsmtFinSF1, BsmtFinSF2, BsmtUnfSF, TotalBsmtSF by Neighborhoods"
   ],
   "cell_type": "markdown",
   "metadata": {}
  },
  {
   "cell_type": "code",
   "execution_count": 98,
   "metadata": {},
   "outputs": [],
   "source": [
    "BsmtFinSF1_mean = cleaned_data[['BsmtFinSF1', 'Neighborhood']].groupby('Neighborhood').agg('mean').reset_index(inplace=False)\n",
    "BsmtFinSF2_mean = cleaned_data[['BsmtFinSF2', 'Neighborhood']].groupby('Neighborhood').agg('mean').reset_index(inplace=False)\n",
    "BsmtUnfSF_mean = cleaned_data[['BsmtUnfSF', 'Neighborhood']].groupby('Neighborhood').agg('mean').reset_index(inplace=False)\n",
    "TotalBsmtSF_mean = cleaned_data[['TotalBsmtSF', 'Neighborhood']].groupby('Neighborhood').agg('mean').reset_index(inplace=False)"
   ]
  },
  {
   "cell_type": "code",
   "execution_count": 158,
   "metadata": {},
   "outputs": [],
   "source": [
    "nbhds = cleaned_data['Neighborhood'].unique()"
   ]
  },
  {
   "cell_type": "code",
   "execution_count": 159,
   "metadata": {},
   "outputs": [],
   "source": [
    "for n in nbhds:\n",
    "    se = cleaned_data['BsmtFinSF1'][cleaned_data['Neighborhood'] == n].fillna(BsmtFinSF1_mean['BsmtFinSF1'][BsmtFinSF1_mean['Neighborhood'] == n].values[0], inplace=False)\n",
    "    cleaned_data.loc[se.index, 'BsmtFinSF1'] = se.values\n",
    "    se = cleaned_data['BsmtFinSF2'][cleaned_data['Neighborhood'] == n].fillna(BsmtFinSF2_mean['BsmtFinSF2'][BsmtFinSF2_mean['Neighborhood'] == n].values[0], inplace=False)\n",
    "    cleaned_data.loc[se.index, 'BsmtFinSF2'] = se.values\n",
    "    se = cleaned_data['BsmtUnfSF'][cleaned_data['Neighborhood'] == n].fillna(BsmtUnfSF_mean['BsmtUnfSF'][BsmtUnfSF_mean['Neighborhood'] == n].values[0], inplace=False)\n",
    "    cleaned_data.loc[se.index, 'BsmtUnfSF'] = se.values\n",
    "    se = cleaned_data['TotalBsmtSF'][cleaned_data['Neighborhood'] == n].fillna(TotalBsmtSF_mean['TotalBsmtSF'][TotalBsmtSF_mean['Neighborhood'] == n].values[0], inplace=False)\n",
    "    cleaned_data.loc[se.index, 'TotalBsmtSF'] = se.values"
   ]
  },
  {
   "source": [
    "## Mode Impute Electrical"
   ],
   "cell_type": "markdown",
   "metadata": {}
  },
  {
   "cell_type": "code",
   "execution_count": 70,
   "metadata": {},
   "outputs": [],
   "source": [
    "simp_mode = SimpleImputer(missing_values=np.nan, strategy='most_frequent')\n",
    "cleaned_data['Electrical'] = simp_mode.fit_transform(pd.DataFrame(cleaned_data.loc[:,'Electrical']))"
   ]
  },
  {
   "source": [
    "## Mode Impute BsmtFullBath and BsmtHalfBath"
   ],
   "cell_type": "markdown",
   "metadata": {}
  },
  {
   "cell_type": "code",
   "execution_count": 77,
   "metadata": {},
   "outputs": [],
   "source": [
    "simp_mode = SimpleImputer(missing_values=np.nan, strategy='most_frequent')\n",
    "cleaned_data['BsmtFullBath'] = simp_mode.fit_transform(pd.DataFrame(cleaned_data.loc[:,'BsmtFullBath']))\n",
    "\n",
    "cleaned_data['BsmtHalfBath'] = simp_mode.fit_transform(pd.DataFrame(cleaned_data.loc[:,'BsmtHalfBath']))"
   ]
  },
  {
   "source": [
    "## Impute FireplaceQu"
   ],
   "cell_type": "markdown",
   "metadata": {}
  },
  {
   "cell_type": "code",
   "execution_count": 86,
   "metadata": {},
   "outputs": [],
   "source": [
    "cleaned_data.FireplaceQu.fillna('DNE', inplace=True)"
   ]
  },
  {
   "source": [
    "## Impute Garagetype"
   ],
   "cell_type": "markdown",
   "metadata": {}
  },
  {
   "cell_type": "code",
   "execution_count": 163,
   "metadata": {},
   "outputs": [],
   "source": [
    "cleaned_data.GarageType.fillna('DNE', inplace=True)"
   ]
  },
  {
   "source": [
    "## Random imputation GarageYrBuilt"
   ],
   "cell_type": "markdown",
   "metadata": {}
  },
  {
   "cell_type": "code",
   "execution_count": 167,
   "metadata": {},
   "outputs": [],
   "source": [
    "garage_years = cleaned_data.GarageYrBlt.unique()"
   ]
  },
  {
   "cell_type": "code",
   "execution_count": 168,
   "metadata": {},
   "outputs": [],
   "source": [
    "s = pd.Series(np.random.choice(garage_years, size=len(cleaned_data.index)))"
   ]
  },
  {
   "cell_type": "code",
   "execution_count": 170,
   "metadata": {},
   "outputs": [],
   "source": [
    "cleaned_data['GarageYrBlt'].fillna(s, inplace=True)"
   ]
  },
  {
   "source": [
    "## Mode impute GarageCars and Mean Impute GarageArea"
   ],
   "cell_type": "markdown",
   "metadata": {}
  },
  {
   "cell_type": "code",
   "execution_count": 175,
   "metadata": {},
   "outputs": [],
   "source": [
    "simp_mode = SimpleImputer(missing_values=np.nan, strategy='most_frequent')\n",
    "cleaned_data['GarageCars'] = simp_mode.fit_transform(pd.DataFrame(cleaned_data.loc[:,'GarageCars']))\n",
    "\n",
    "simp_mean = SimpleImputer(missing_values=np.nan, strategy='mean')\n",
    "cleaned_data['GarageArea'] = simp_mode.fit_transform(pd.DataFrame(cleaned_data.loc[:,'GarageArea']))"
   ]
  },
  {
   "source": [
    "## DNE impute Garage Finish, Qual and Cond"
   ],
   "cell_type": "markdown",
   "metadata": {}
  },
  {
   "cell_type": "code",
   "execution_count": 182,
   "metadata": {},
   "outputs": [],
   "source": [
    "cleaned_data.GarageQual.fillna('DNE',inplace=True)\n",
    "cleaned_data.GarageCond.fillna('DNE',inplace=True)\n",
    "cleaned_data.GarageFinish.fillna('DNE',inplace=True)"
   ]
  },
  {
   "source": [
    "## DNE impute PoolQC, Fence, MiscFeature"
   ],
   "cell_type": "markdown",
   "metadata": {}
  },
  {
   "cell_type": "code",
   "execution_count": 186,
   "metadata": {},
   "outputs": [],
   "source": [
    "cleaned_data.PoolQC.fillna('DNE', inplace=True)\n",
    "cleaned_data.Fence.fillna('DNE', inplace=True)\n",
    "cleaned_data.MiscFeature.fillna('DNE', inplace=True)"
   ]
  },
  {
   "source": [
    "# SANITY CHECK!!"
   ],
   "cell_type": "markdown",
   "metadata": {}
  },
  {
   "cell_type": "code",
   "execution_count": 188,
   "metadata": {},
   "outputs": [
    {
     "output_type": "stream",
     "name": "stdout",
     "text": [
      "False    2568\nName: PID, dtype: int64\nFalse    2568\nName: GrLivArea, dtype: int64\nFalse    2568\nName: SalePrice, dtype: int64\nFalse    2568\nName: MSSubClass, dtype: int64\nFalse    2568\nName: MSZoning, dtype: int64\nFalse    2568\nName: LotFrontage, dtype: int64\nFalse    2568\nName: LotArea, dtype: int64\nFalse    2568\nName: Street, dtype: int64\nFalse    2568\nName: Alley, dtype: int64\nFalse    2568\nName: LotShape, dtype: int64\nFalse    2568\nName: LandContour, dtype: int64\nFalse    2568\nName: Utilities, dtype: int64\nFalse    2568\nName: LotConfig, dtype: int64\nFalse    2568\nName: LandSlope, dtype: int64\nFalse    2568\nName: Neighborhood, dtype: int64\nFalse    2568\nName: Condition1, dtype: int64\nFalse    2568\nName: Condition2, dtype: int64\nFalse    2568\nName: BldgType, dtype: int64\nFalse    2568\nName: HouseStyle, dtype: int64\nFalse    2568\nName: OverallQual, dtype: int64\nFalse    2568\nName: OverallCond, dtype: int64\nFalse    2568\nName: YearBuilt, dtype: int64\nFalse    2568\nName: YearRemodAdd, dtype: int64\nFalse    2568\nName: RoofStyle, dtype: int64\nFalse    2568\nName: RoofMatl, dtype: int64\nFalse    2568\nName: Exterior1st, dtype: int64\nFalse    2568\nName: Exterior2nd, dtype: int64\nFalse    2568\nName: MasVnrType, dtype: int64\nFalse    2568\nName: MasVnrArea, dtype: int64\nFalse    2568\nName: ExterQual, dtype: int64\nFalse    2568\nName: ExterCond, dtype: int64\nFalse    2568\nName: Foundation, dtype: int64\nFalse    2568\nName: BsmtQual, dtype: int64\nFalse    2568\nName: BsmtCond, dtype: int64\nFalse    2568\nName: BsmtExposure, dtype: int64\nFalse    2568\nName: BsmtFinType1, dtype: int64\nFalse    2568\nName: BsmtFinSF1, dtype: int64\nFalse    2568\nName: BsmtFinType2, dtype: int64\nFalse    2568\nName: BsmtFinSF2, dtype: int64\nFalse    2568\nName: BsmtUnfSF, dtype: int64\nFalse    2568\nName: TotalBsmtSF, dtype: int64\nFalse    2568\nName: Heating, dtype: int64\nFalse    2568\nName: HeatingQC, dtype: int64\nFalse    2568\nName: CentralAir, dtype: int64\nFalse    2568\nName: Electrical, dtype: int64\nFalse    2568\nName: 1stFlrSF, dtype: int64\nFalse    2568\nName: 2ndFlrSF, dtype: int64\nFalse    2568\nName: LowQualFinSF, dtype: int64\nFalse    2568\nName: BsmtFullBath, dtype: int64\nFalse    2568\nName: BsmtHalfBath, dtype: int64\nFalse    2568\nName: FullBath, dtype: int64\nFalse    2568\nName: HalfBath, dtype: int64\nFalse    2568\nName: BedroomAbvGr, dtype: int64\nFalse    2568\nName: KitchenAbvGr, dtype: int64\nFalse    2568\nName: KitchenQual, dtype: int64\nFalse    2568\nName: TotRmsAbvGrd, dtype: int64\nFalse    2568\nName: Functional, dtype: int64\nFalse    2568\nName: Fireplaces, dtype: int64\nFalse    2568\nName: FireplaceQu, dtype: int64\nFalse    2568\nName: GarageType, dtype: int64\nFalse    2568\nName: GarageYrBlt, dtype: int64\nFalse    2568\nName: GarageFinish, dtype: int64\nFalse    2568\nName: GarageCars, dtype: int64\nFalse    2568\nName: GarageArea, dtype: int64\nFalse    2568\nName: GarageQual, dtype: int64\nFalse    2568\nName: GarageCond, dtype: int64\nFalse    2568\nName: PavedDrive, dtype: int64\nFalse    2568\nName: WoodDeckSF, dtype: int64\nFalse    2568\nName: OpenPorchSF, dtype: int64\nFalse    2568\nName: EnclosedPorch, dtype: int64\nFalse    2568\nName: 3SsnPorch, dtype: int64\nFalse    2568\nName: ScreenPorch, dtype: int64\nFalse    2568\nName: PoolArea, dtype: int64\nFalse    2568\nName: PoolQC, dtype: int64\nFalse    2568\nName: Fence, dtype: int64\nFalse    2568\nName: MiscFeature, dtype: int64\nFalse    2568\nName: MiscVal, dtype: int64\nFalse    2568\nName: MoSold, dtype: int64\nFalse    2568\nName: YrSold, dtype: int64\nFalse    2568\nName: SaleType, dtype: int64\nFalse    2568\nName: SaleCondition, dtype: int64\n"
     ]
    }
   ],
   "source": [
    "for col in cleaned_data.columns:\n",
    "    print(cleaned_data[col].isna().value_counts())"
   ]
  },
  {
   "source": [
    "## No missing values!"
   ],
   "cell_type": "markdown",
   "metadata": {}
  },
  {
   "cell_type": "code",
   "execution_count": 191,
   "metadata": {},
   "outputs": [],
   "source": [
    "cleaned_data.to_csv('data/cleaned_price_data.csv')"
   ]
  }
 ]
}