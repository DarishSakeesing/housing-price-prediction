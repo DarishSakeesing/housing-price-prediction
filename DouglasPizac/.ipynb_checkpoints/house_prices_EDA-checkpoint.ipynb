{
 "cells": [
  {
   "cell_type": "code",
   "execution_count": 52,
   "id": "hazardous-utility",
   "metadata": {},
   "outputs": [],
   "source": [
    "import pandas as pd\n",
    "prices = pd.read_csv('../../data/Ames_Housing_Price_Data.csv',index_col = 0)"
   ]
  },
  {
   "cell_type": "code",
   "execution_count": 2,
   "id": "impressed-audience",
   "metadata": {},
   "outputs": [
    {
     "data": {
      "text/plain": [
       "2007    600\n",
       "2009    585\n",
       "2008    564\n",
       "2006    516\n",
       "2010    315\n",
       "Name: YrSold, dtype: int64"
      ]
     },
     "execution_count": 2,
     "metadata": {},
     "output_type": "execute_result"
    }
   ],
   "source": [
    "prices.head()\n",
    "prices['YrSold'].value_counts()"
   ]
  },
  {
   "cell_type": "code",
   "execution_count": null,
   "id": "super-macintosh",
   "metadata": {},
   "outputs": [],
   "source": []
  },
  {
   "cell_type": "code",
   "execution_count": 4,
   "id": "limited-tomorrow",
   "metadata": {},
   "outputs": [
    {
     "data": {
      "text/plain": [
       "28"
      ]
     },
     "execution_count": 4,
     "metadata": {},
     "output_type": "execute_result"
    }
   ],
   "source": [
    "len(prices['Neighborhood'].value_counts())"
   ]
  },
  {
   "cell_type": "code",
   "execution_count": 5,
   "id": "nasty-reynolds",
   "metadata": {},
   "outputs": [],
   "source": [
    "lot_rm = prices.dropna(how = 'all')"
   ]
  },
  {
   "cell_type": "code",
   "execution_count": 47,
   "id": "viral-gregory",
   "metadata": {},
   "outputs": [
    {
     "name": "stderr",
     "output_type": "stream",
     "text": [
      "/Users/pizac/Applications/anaconda3/lib/python3.7/site-packages/ipykernel_launcher.py:3: SettingWithCopyWarning: \n",
      "A value is trying to be set on a copy of a slice from a DataFrame.\n",
      "Try using .loc[row_indexer,col_indexer] = value instead\n",
      "\n",
      "See the caveats in the documentation: https://pandas.pydata.org/pandas-docs/stable/user_guide/indexing.html#returning-a-view-versus-a-copy\n",
      "  This is separate from the ipykernel package so we can avoid doing imports until\n"
     ]
    }
   ],
   "source": [
    "import numpy as np\n",
    "numeric_features = prices.select_dtypes(include = np.number)\n",
    "numeric_features['LotFrontage'] = pd.to_numeric(numeric_features['LotFrontage'])"
   ]
  },
  {
   "cell_type": "code",
   "execution_count": 49,
   "id": "dangerous-diary",
   "metadata": {},
   "outputs": [
    {
     "data": {
      "text/plain": [
       "PID                0\n",
       "GrLivArea          0\n",
       "SalePrice          0\n",
       "MSSubClass         0\n",
       "LotFrontage      462\n",
       "LotArea            0\n",
       "OverallQual        0\n",
       "OverallCond        0\n",
       "YearBuilt          0\n",
       "YearRemodAdd       0\n",
       "MasVnrArea        14\n",
       "BsmtFinSF1         1\n",
       "BsmtFinSF2         1\n",
       "BsmtUnfSF          1\n",
       "TotalBsmtSF        1\n",
       "1stFlrSF           0\n",
       "2ndFlrSF           0\n",
       "LowQualFinSF       0\n",
       "BsmtFullBath       2\n",
       "BsmtHalfBath       2\n",
       "FullBath           0\n",
       "HalfBath           0\n",
       "BedroomAbvGr       0\n",
       "KitchenAbvGr       0\n",
       "TotRmsAbvGrd       0\n",
       "Fireplaces         0\n",
       "GarageYrBlt      129\n",
       "GarageCars         1\n",
       "GarageArea         1\n",
       "WoodDeckSF         0\n",
       "OpenPorchSF        0\n",
       "EnclosedPorch      0\n",
       "3SsnPorch          0\n",
       "ScreenPorch        0\n",
       "PoolArea           0\n",
       "MiscVal            0\n",
       "MoSold             0\n",
       "YrSold             0\n",
       "dtype: int64"
      ]
     },
     "execution_count": 49,
     "metadata": {},
     "output_type": "execute_result"
    }
   ],
   "source": [
    "numeric_features.isnull().sum()"
   ]
  },
  {
   "cell_type": "code",
   "execution_count": 7,
   "id": "understood-johnson",
   "metadata": {},
   "outputs": [
    {
     "data": {
      "text/plain": [
       "Neighborhood\n",
       "Blmngtn    46.866667\n",
       "Blueste    27.300000\n",
       "BrDale     21.517241\n",
       "BrkSide    55.945652\n",
       "ClearCr    89.764706\n",
       "CollgCr    69.978947\n",
       "Crawfor    70.756757\n",
       "Edwards    65.490066\n",
       "Gilbert    73.362637\n",
       "Greens     41.000000\n",
       "GrnHill          NaN\n",
       "IDOTRR     61.114286\n",
       "Landmrk          NaN\n",
       "MeadowV    26.066667\n",
       "Mitchel    74.412500\n",
       "NAmes      74.933718\n",
       "NPkVill    26.900000\n",
       "NWAmes     81.303797\n",
       "NoRidge    90.450980\n",
       "NridgHt    83.210084\n",
       "OldTown    61.866995\n",
       "SWISU      58.769231\n",
       "Sawyer     75.388889\n",
       "SawyerW    71.234043\n",
       "Somerst    62.959677\n",
       "StoneBr    60.666667\n",
       "Timber     80.761905\n",
       "Veenker    71.466667\n",
       "Name: LotFrontage, dtype: float64"
      ]
     },
     "execution_count": 7,
     "metadata": {},
     "output_type": "execute_result"
    }
   ],
   "source": [
    "prices.groupby('Neighborhood')['LotFrontage'].mean()"
   ]
  },
  {
   "cell_type": "code",
   "execution_count": 8,
   "id": "fewer-fishing",
   "metadata": {},
   "outputs": [
    {
     "name": "stdout",
     "output_type": "stream",
     "text": [
      "<class 'pandas.core.frame.DataFrame'>\n",
      "Int64Index: 2580 entries, 1 to 763\n",
      "Data columns (total 38 columns):\n",
      " #   Column         Non-Null Count  Dtype  \n",
      "---  ------         --------------  -----  \n",
      " 0   PID            2580 non-null   int64  \n",
      " 1   GrLivArea      2580 non-null   int64  \n",
      " 2   SalePrice      2580 non-null   int64  \n",
      " 3   MSSubClass     2580 non-null   int64  \n",
      " 4   LotFrontage    2118 non-null   float64\n",
      " 5   LotArea        2580 non-null   int64  \n",
      " 6   OverallQual    2580 non-null   int64  \n",
      " 7   OverallCond    2580 non-null   int64  \n",
      " 8   YearBuilt      2580 non-null   int64  \n",
      " 9   YearRemodAdd   2580 non-null   int64  \n",
      " 10  MasVnrArea     2566 non-null   float64\n",
      " 11  BsmtFinSF1     2579 non-null   float64\n",
      " 12  BsmtFinSF2     2579 non-null   float64\n",
      " 13  BsmtUnfSF      2579 non-null   float64\n",
      " 14  TotalBsmtSF    2579 non-null   float64\n",
      " 15  1stFlrSF       2580 non-null   int64  \n",
      " 16  2ndFlrSF       2580 non-null   int64  \n",
      " 17  LowQualFinSF   2580 non-null   int64  \n",
      " 18  BsmtFullBath   2578 non-null   float64\n",
      " 19  BsmtHalfBath   2578 non-null   float64\n",
      " 20  FullBath       2580 non-null   int64  \n",
      " 21  HalfBath       2580 non-null   int64  \n",
      " 22  BedroomAbvGr   2580 non-null   int64  \n",
      " 23  KitchenAbvGr   2580 non-null   int64  \n",
      " 24  TotRmsAbvGrd   2580 non-null   int64  \n",
      " 25  Fireplaces     2580 non-null   int64  \n",
      " 26  GarageYrBlt    2451 non-null   float64\n",
      " 27  GarageCars     2579 non-null   float64\n",
      " 28  GarageArea     2579 non-null   float64\n",
      " 29  WoodDeckSF     2580 non-null   int64  \n",
      " 30  OpenPorchSF    2580 non-null   int64  \n",
      " 31  EnclosedPorch  2580 non-null   int64  \n",
      " 32  3SsnPorch      2580 non-null   int64  \n",
      " 33  ScreenPorch    2580 non-null   int64  \n",
      " 34  PoolArea       2580 non-null   int64  \n",
      " 35  MiscVal        2580 non-null   int64  \n",
      " 36  MoSold         2580 non-null   int64  \n",
      " 37  YrSold         2580 non-null   int64  \n",
      "dtypes: float64(11), int64(27)\n",
      "memory usage: 786.1 KB\n"
     ]
    }
   ],
   "source": [
    "numeric_features.info()"
   ]
  },
  {
   "cell_type": "code",
   "execution_count": 4,
   "id": "usual-healthcare",
   "metadata": {},
   "outputs": [],
   "source": [
    "import seaborn as sns\n",
    "import matplotlib.pyplot as plt"
   ]
  },
  {
   "cell_type": "code",
   "execution_count": null,
   "id": "figured-entrepreneur",
   "metadata": {},
   "outputs": [],
   "source": [
    "plt.figure(figsize = (20,15))\n",
    "sns.heatmap(numeric_features, annot = True)"
   ]
  },
  {
   "cell_type": "code",
   "execution_count": null,
   "id": "dense-sheffield",
   "metadata": {},
   "outputs": [],
   "source": [
    "r = numeric_features.corr()\n",
    "r2 = r.apply(lambda x: x**2)\n",
    "vif = r.apply(lambda x: 1/(1-x**2))"
   ]
  },
  {
   "cell_type": "code",
   "execution_count": null,
   "id": "north-klein",
   "metadata": {},
   "outputs": [],
   "source": [
    "r2[1:]"
   ]
  },
  {
   "cell_type": "code",
   "execution_count": 5,
   "id": "hindu-period",
   "metadata": {},
   "outputs": [
    {
     "data": {
      "text/plain": [
       "LotFrontage      462\n",
       "Alley           2412\n",
       "MasVnrType        14\n",
       "MasVnrArea        14\n",
       "BsmtQual          69\n",
       "BsmtCond          69\n",
       "BsmtExposure      71\n",
       "BsmtFinType1      69\n",
       "BsmtFinSF1         1\n",
       "BsmtFinType2      70\n",
       "BsmtFinSF2         1\n",
       "BsmtUnfSF          1\n",
       "TotalBsmtSF        1\n",
       "Electrical         1\n",
       "BsmtFullBath       2\n",
       "BsmtHalfBath       2\n",
       "FireplaceQu     1241\n",
       "GarageType       127\n",
       "GarageYrBlt      129\n",
       "GarageFinish     129\n",
       "GarageCars         1\n",
       "GarageArea         1\n",
       "GarageQual       129\n",
       "GarageCond       129\n",
       "PoolQC          2571\n",
       "Fence           2055\n",
       "MiscFeature     2483\n",
       "dtype: int64"
      ]
     },
     "execution_count": 5,
     "metadata": {},
     "output_type": "execute_result"
    }
   ],
   "source": [
    "null_cols = prices.isnull().sum(axis = 0)\n",
    "null_cols[null_cols>0]"
   ]
  },
  {
   "cell_type": "code",
   "execution_count": 11,
   "id": "herbal-registration",
   "metadata": {},
   "outputs": [
    {
     "data": {
      "text/html": [
       "<div>\n",
       "<style scoped>\n",
       "    .dataframe tbody tr th:only-of-type {\n",
       "        vertical-align: middle;\n",
       "    }\n",
       "\n",
       "    .dataframe tbody tr th {\n",
       "        vertical-align: top;\n",
       "    }\n",
       "\n",
       "    .dataframe thead th {\n",
       "        text-align: right;\n",
       "    }\n",
       "</style>\n",
       "<table border=\"1\" class=\"dataframe\">\n",
       "  <thead>\n",
       "    <tr style=\"text-align: right;\">\n",
       "      <th></th>\n",
       "      <th>PID</th>\n",
       "      <th>GrLivArea</th>\n",
       "      <th>SalePrice</th>\n",
       "      <th>MSSubClass</th>\n",
       "      <th>MSZoning</th>\n",
       "      <th>LotFrontage</th>\n",
       "      <th>LotArea</th>\n",
       "      <th>Street</th>\n",
       "      <th>Alley</th>\n",
       "      <th>LotShape</th>\n",
       "      <th>...</th>\n",
       "      <th>ScreenPorch</th>\n",
       "      <th>PoolArea</th>\n",
       "      <th>PoolQC</th>\n",
       "      <th>Fence</th>\n",
       "      <th>MiscFeature</th>\n",
       "      <th>MiscVal</th>\n",
       "      <th>MoSold</th>\n",
       "      <th>YrSold</th>\n",
       "      <th>SaleType</th>\n",
       "      <th>SaleCondition</th>\n",
       "    </tr>\n",
       "  </thead>\n",
       "  <tbody>\n",
       "    <tr>\n",
       "      <th>626</th>\n",
       "      <td>916386080</td>\n",
       "      <td>1394</td>\n",
       "      <td>167500</td>\n",
       "      <td>80</td>\n",
       "      <td>RL</td>\n",
       "      <td>73.0</td>\n",
       "      <td>9735</td>\n",
       "      <td>Pave</td>\n",
       "      <td>NaN</td>\n",
       "      <td>Reg</td>\n",
       "      <td>...</td>\n",
       "      <td>0</td>\n",
       "      <td>0</td>\n",
       "      <td>NaN</td>\n",
       "      <td>NaN</td>\n",
       "      <td>NaN</td>\n",
       "      <td>0</td>\n",
       "      <td>5</td>\n",
       "      <td>2008</td>\n",
       "      <td>WD</td>\n",
       "      <td>Normal</td>\n",
       "    </tr>\n",
       "  </tbody>\n",
       "</table>\n",
       "<p>1 rows × 81 columns</p>\n",
       "</div>"
      ],
      "text/plain": [
       "           PID  GrLivArea  SalePrice  MSSubClass MSZoning  LotFrontage  \\\n",
       "626  916386080       1394     167500          80       RL         73.0   \n",
       "\n",
       "     LotArea Street Alley LotShape  ... ScreenPorch PoolArea PoolQC Fence  \\\n",
       "626     9735   Pave   NaN      Reg  ...           0        0    NaN   NaN   \n",
       "\n",
       "    MiscFeature MiscVal MoSold YrSold SaleType  SaleCondition  \n",
       "626         NaN       0      5   2008      WD          Normal  \n",
       "\n",
       "[1 rows x 81 columns]"
      ]
     },
     "execution_count": 11,
     "metadata": {},
     "output_type": "execute_result"
    }
   ],
   "source": [
    "prices.loc[prices.Electrical.isna()]"
   ]
  },
  {
   "cell_type": "code",
   "execution_count": null,
   "id": "negative-archives",
   "metadata": {},
   "outputs": [],
   "source": [
    "sns.histplot(prices.SalePrice,kde = True)\n",
    "print(f'Median is {np.median(prices.SalePrice)}')\n",
    "print(f'Mean is {np.mean(prices.SalePrice)}')"
   ]
  },
  {
   "cell_type": "code",
   "execution_count": 15,
   "id": "loose-latter",
   "metadata": {},
   "outputs": [
    {
     "data": {
      "text/plain": [
       "<AxesSubplot:xlabel='BsmtCond', ylabel='SalePrice'>"
      ]
     },
     "execution_count": 15,
     "metadata": {},
     "output_type": "execute_result"
    },
    {
     "data": {
      "image/png": "[encoded data removed]",
      "text/plain": [
       "<Figure size 432x288 with 1 Axes>"
      ]
     },
     "metadata": {
      "needs_background": "light"
     },
     "output_type": "display_data"
    }
   ],
   "source": [
    "prices.BsmtCond.fillna('NB', inplace = True)\n",
    "import seaborn as sns\n",
    "import matplotlib.pyplot as plt\n",
    "sns.boxplot(data = prices, x = 'BsmtCond',y = 'SalePrice')"
   ]
  },
  {
   "cell_type": "code",
   "execution_count": null,
   "id": "smoking-deficit",
   "metadata": {},
   "outputs": [],
   "source": [
    "from scipy import stats\n",
    "stats.f_oneway()"
   ]
  },
  {
   "cell_type": "code",
   "execution_count": 2,
   "id": "suited-article",
   "metadata": {},
   "outputs": [
    {
     "data": {
      "text/plain": [
       "SBrkr    2365\n",
       "FuseA     168\n",
       "FuseF      39\n",
       "FuseP       7\n",
       "Name: Electrical, dtype: int64"
      ]
     },
     "execution_count": 2,
     "metadata": {},
     "output_type": "execute_result"
    }
   ],
   "source": [
    "prices['Electrical'].value_counts()"
   ]
  },
  {
   "cell_type": "markdown",
   "id": "continued-anniversary",
   "metadata": {},
   "source": [
    "### Impute mean to get quick linear regression"
   ]
  },
  {
   "cell_type": "code",
   "execution_count": 10,
   "id": "russian-concert",
   "metadata": {},
   "outputs": [],
   "source": [
    "from sklearn.linear_model import LinearRegression"
   ]
  },
  {
   "cell_type": "code",
   "execution_count": 55,
   "id": "threaded-shield",
   "metadata": {},
   "outputs": [],
   "source": [
    "price_reg = LinearRegression()\n",
    "numeric_noNA = numeric_features.apply(lambda x: x.fillna(x.mean()))"
   ]
  },
  {
   "cell_type": "code",
   "execution_count": 56,
   "id": "textile-presentation",
   "metadata": {},
   "outputs": [
    {
     "name": "stdout",
     "output_type": "stream",
     "text": [
      "<class 'pandas.core.frame.DataFrame'>\n",
      "Int64Index: 2580 entries, 1 to 763\n",
      "Data columns (total 38 columns):\n",
      " #   Column         Non-Null Count  Dtype  \n",
      "---  ------         --------------  -----  \n",
      " 0   PID            2580 non-null   int64  \n",
      " 1   GrLivArea      2580 non-null   int64  \n",
      " 2   SalePrice      2580 non-null   int64  \n",
      " 3   MSSubClass     2580 non-null   int64  \n",
      " 4   LotFrontage    2580 non-null   float64\n",
      " 5   LotArea        2580 non-null   int64  \n",
      " 6   OverallQual    2580 non-null   int64  \n",
      " 7   OverallCond    2580 non-null   int64  \n",
      " 8   YearBuilt      2580 non-null   int64  \n",
      " 9   YearRemodAdd   2580 non-null   int64  \n",
      " 10  MasVnrArea     2580 non-null   float64\n",
      " 11  BsmtFinSF1     2580 non-null   float64\n",
      " 12  BsmtFinSF2     2580 non-null   float64\n",
      " 13  BsmtUnfSF      2580 non-null   float64\n",
      " 14  TotalBsmtSF    2580 non-null   float64\n",
      " 15  1stFlrSF       2580 non-null   int64  \n",
      " 16  2ndFlrSF       2580 non-null   int64  \n",
      " 17  LowQualFinSF   2580 non-null   int64  \n",
      " 18  BsmtFullBath   2580 non-null   float64\n",
      " 19  BsmtHalfBath   2580 non-null   float64\n",
      " 20  FullBath       2580 non-null   int64  \n",
      " 21  HalfBath       2580 non-null   int64  \n",
      " 22  BedroomAbvGr   2580 non-null   int64  \n",
      " 23  KitchenAbvGr   2580 non-null   int64  \n",
      " 24  TotRmsAbvGrd   2580 non-null   int64  \n",
      " 25  Fireplaces     2580 non-null   int64  \n",
      " 26  GarageYrBlt    2580 non-null   float64\n",
      " 27  GarageCars     2580 non-null   float64\n",
      " 28  GarageArea     2580 non-null   float64\n",
      " 29  WoodDeckSF     2580 non-null   int64  \n",
      " 30  OpenPorchSF    2580 non-null   int64  \n",
      " 31  EnclosedPorch  2580 non-null   int64  \n",
      " 32  3SsnPorch      2580 non-null   int64  \n",
      " 33  ScreenPorch    2580 non-null   int64  \n",
      " 34  PoolArea       2580 non-null   int64  \n",
      " 35  MiscVal        2580 non-null   int64  \n",
      " 36  MoSold         2580 non-null   int64  \n",
      " 37  YrSold         2580 non-null   int64  \n",
      "dtypes: float64(11), int64(27)\n",
      "memory usage: 786.1 KB\n"
     ]
    }
   ],
   "source": [
    "numeric_noNA.info()"
   ]
  },
  {
   "cell_type": "code",
   "execution_count": 57,
   "id": "effective-wesley",
   "metadata": {},
   "outputs": [],
   "source": [
    "y_Price = numeric_noNA['SalePrice']\n",
    "numeric_noNA.drop(['PID','SalePrice'],axis = 1, inplace = True)\n"
   ]
  },
  {
   "cell_type": "code",
   "execution_count": null,
   "id": "forty-vulnerability",
   "metadata": {},
   "outputs": [],
   "source": []
  },
  {
   "cell_type": "code",
   "execution_count": 58,
   "id": "velvet-macintosh",
   "metadata": {},
   "outputs": [
    {
     "data": {
      "text/plain": [
       "LinearRegression(copy_X=True, fit_intercept=True, n_jobs=1, normalize=False)"
      ]
     },
     "execution_count": 58,
     "metadata": {},
     "output_type": "execute_result"
    }
   ],
   "source": [
    "price_reg.fit(numeric_noNA, y_Price)"
   ]
  },
  {
   "cell_type": "code",
   "execution_count": 59,
   "id": "architectural-buffer",
   "metadata": {},
   "outputs": [
    {
     "data": {
      "text/plain": [
       "-88076.567979455"
      ]
     },
     "execution_count": 59,
     "metadata": {},
     "output_type": "execute_result"
    }
   ],
   "source": [
    "price_reg.intercept_"
   ]
  },
  {
   "cell_type": "code",
   "execution_count": 61,
   "id": "fabulous-audit",
   "metadata": {},
   "outputs": [
    {
     "data": {
      "text/plain": [
       "0.8691736819544204"
      ]
     },
     "execution_count": 61,
     "metadata": {},
     "output_type": "execute_result"
    }
   ],
   "source": [
    "price_reg.coef_\n",
    "price_reg.score(numeric_noNA, y_Price)"
   ]
  }
 ],
 "metadata": {
  "kernelspec": {
   "display_name": "Python 3",
   "language": "python",
   "name": "python3"
  },
  "language_info": {
   "codemirror_mode": {
    "name": "ipython",
    "version": 3
   },
   "file_extension": ".py",
   "mimetype": "text/x-python",
   "name": "python",
   "nbconvert_exporter": "python",
   "pygments_lexer": "ipython3",
   "version": "3.7.0"
  }
 },
 "nbformat": 4,
 "nbformat_minor": 5
}
